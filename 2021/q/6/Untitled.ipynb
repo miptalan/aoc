{
 "cells": [
  {
   "cell_type": "code",
   "execution_count": 97,
   "id": "8e711eab",
   "metadata": {},
   "outputs": [
    {
     "data": {
      "text/plain": [
       "1 4 3 3 1 3 1 1 1 2 1 1 1 4 4 1 5 5 3 1 3 5 2 1 5 2 4 1 4 5 4 1 5 1 5 5 1 1 1..\n"
      ]
     },
     "execution_count": 97,
     "metadata": {},
     "output_type": "execute_result"
    }
   ],
   "source": [
    "input:\"J\"$\",\" vs first read0 `:input.txt\n",
    "input"
   ]
  },
  {
   "cell_type": "code",
   "execution_count": 80,
   "id": "2c42de29",
   "metadata": {},
   "outputs": [
    {
     "data": {
      "text/plain": [
       "3| 2\n",
       "4| 1\n",
       "1| 1\n",
       "2| 1\n"
      ]
     },
     "execution_count": 80,
     "metadata": {},
     "output_type": "execute_result"
    }
   ],
   "source": [
    "count each group input"
   ]
  },
  {
   "cell_type": "code",
   "execution_count": 82,
   "id": "46f54d7a",
   "metadata": {},
   "outputs": [
    {
     "data": {
      "text/plain": [
       "0| \n",
       "1| 1\n",
       "2| 1\n",
       "3| 2\n",
       "4| 1\n",
       "5| \n",
       "6| \n",
       "7| \n",
       "8| \n"
      ]
     },
     "execution_count": 82,
     "metadata": {},
     "output_type": "execute_result"
    }
   ],
   "source": [
    "til[9]#count each group input"
   ]
  },
  {
   "cell_type": "code",
   "execution_count": 89,
   "id": "8cd432a6",
   "metadata": {},
   "outputs": [
    {
     "data": {
      "text/plain": [
       "0 1 1 2 1 0 0 0 0\n"
      ]
     },
     "execution_count": 89,
     "metadata": {},
     "output_type": "execute_result"
    }
   ],
   "source": [
    "cnt:0^value til[9]#count each group input\n",
    "cnt"
   ]
  },
  {
   "cell_type": "code",
   "execution_count": 91,
   "id": "3db452fa",
   "metadata": {},
   "outputs": [
    {
     "data": {
      "text/plain": [
       "1 1 2 1 0 0 3 0 3\n"
      ]
     },
     "execution_count": 91,
     "metadata": {},
     "output_type": "execute_result"
    }
   ],
   "source": [
    "/ ageing by 1 day is equivalent to left shift AND placing number of matured fish to days 6 and 8\n",
    "x:3 1 1 2 1 0 0 0 0\n",
    "@[0^next x;6 8;+;x 0] / using \"Apply At\" - add first elemnt to 6th and 8th in a shifted vector"
   ]
  },
  {
   "cell_type": "code",
   "execution_count": 86,
   "id": "96a37a8c",
   "metadata": {},
   "outputs": [
    {
     "data": {
      "text/plain": [
       "5934\n"
      ]
     },
     "execution_count": 86,
     "metadata": {},
     "output_type": "execute_result"
    }
   ],
   "source": [
    "/ do 80 times and sum resulting counts\n",
    "sum 80 {@[0^next x;6 8;+;x 0]}/ cnt "
   ]
  },
  {
   "cell_type": "code",
   "execution_count": 90,
   "id": "d0746bb8",
   "metadata": {},
   "outputs": [
    {
     "data": {
      "text/plain": [
       "26984457539\n"
      ]
     },
     "execution_count": 90,
     "metadata": {},
     "output_type": "execute_result"
    }
   ],
   "source": [
    "sum 256 {@[0^next x;6 8;+;x 0]}/ cnt "
   ]
  },
  {
   "cell_type": "code",
   "execution_count": 99,
   "id": "a4983bc7",
   "metadata": {},
   "outputs": [
    {
     "data": {
      "text/plain": [
       "40 22032\n"
      ]
     },
     "execution_count": 99,
     "metadata": {},
     "output_type": "execute_result"
    }
   ],
   "source": [
    "\"J\"$\",\" vs first read0 `:test.txt;\n",
    "\\ts:100 sum 256 {@[0^next x;6 8;+;x 0]}/ 0^value til[9]#count each group input"
   ]
  },
  {
   "cell_type": "code",
   "execution_count": null,
   "id": "3e50c8d2",
   "metadata": {},
   "outputs": [],
   "source": []
  }
 ],
 "metadata": {
  "kernelspec": {
   "display_name": "Q (kdb+)",
   "language": "q",
   "name": "qpk"
  },
  "language_info": {
   "file_extension": ".q",
   "mimetype": "text/x-q",
   "name": "q",
   "version": "4.0"
  }
 },
 "nbformat": 4,
 "nbformat_minor": 5
}
