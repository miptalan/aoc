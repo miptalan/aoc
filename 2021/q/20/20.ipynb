{
 "cells": [
  {
   "cell_type": "code",
   "execution_count": 195,
   "id": "295fd13a",
   "metadata": {},
   "outputs": [
    {
     "data": {
      "text/plain": [
       "\"..#.#..#####.#.#.#.###.##.....###.##.#..###.####..#####..#....#..#..##..###...\n",
       "\"\"\n",
       "\"#..#.\"\n",
       "\"#....\"\n",
       "\"##..#\"\n",
       "\"..#..\"\n",
       "\"..###\"\n"
      ]
     },
     "execution_count": 195,
     "metadata": {},
     "output_type": "execute_result"
    }
   ],
   "source": [
    "input:read0 `test.txt\n",
    "input"
   ]
  },
  {
   "cell_type": "code",
   "execution_count": 196,
   "id": "c259f2e4",
   "metadata": {},
   "outputs": [
    {
     "data": {
      "text/plain": [
       "00101001111101010101110110000011101101001110111100111110010000100100110011100..\n"
      ]
     },
     "execution_count": 196,
     "metadata": {},
     "output_type": "execute_result"
    }
   ],
   "source": [
    "algo:\"#\"=first input\n",
    "algo"
   ]
  },
  {
   "cell_type": "code",
   "execution_count": 197,
   "id": "cc5d9230",
   "metadata": {},
   "outputs": [
    {
     "data": {
      "text/plain": [
       "10010b\n",
       "10000b\n",
       "11001b\n",
       "00100b\n",
       "00111b\n"
      ]
     },
     "execution_count": 197,
     "metadata": {},
     "output_type": "execute_result"
    }
   ],
   "source": [
    "img:\"#\"=/:2_input\n",
    "img"
   ]
  },
  {
   "cell_type": "code",
   "execution_count": 198,
   "id": "719f33fd",
   "metadata": {},
   "outputs": [
    {
     "data": {
      "text/plain": [
       "\"#..#.\"\n",
       "\"#....\"\n",
       "\"##..#\"\n",
       "\"..#..\"\n",
       "\"..###\"\n"
      ]
     },
     "execution_count": 198,
     "metadata": {},
     "output_type": "execute_result"
    }
   ],
   "source": [
    "v:{count[x] cut ?[raze x;\"#\";\".\"]}\n",
    "v img"
   ]
  },
  {
   "cell_type": "code",
   "execution_count": 199,
   "id": "1514909f",
   "metadata": {},
   "outputs": [
    {
     "data": {
      "text/plain": [
       "0000000b\n",
       "0100100b\n",
       "0100000b\n",
       "0110010b\n",
       "0001000b\n",
       "0001110b\n",
       "0000000b\n"
      ]
     },
     "execution_count": 199,
     "metadata": {},
     "output_type": "execute_result"
    }
   ],
   "source": [
    "pad:{[a;f]tb,({x,y,x}[f] each a),tb:enlist(2+count a)#f}\n",
    "pad[img;0b]"
   ]
  },
  {
   "cell_type": "code",
   "execution_count": 200,
   "id": "ea32babf",
   "metadata": {},
   "outputs": [
    {
     "name": "stdout",
     "output_type": "stream",
     "text": [
      "(-1 -1;-1 0;-1 1;0 -1;0 0;0 1;1 -1;1 0;1 1)\n"
     ]
    },
    {
     "data": {
      "text/plain": [
       "0 0\n",
       "0 0\n",
       "0 0\n",
       "0 0\n",
       "0 0\n",
       "0 1\n",
       "0 0\n",
       "1 0\n",
       "1 1\n"
      ]
     },
     "execution_count": 200,
     "metadata": {},
     "output_type": "execute_result"
    }
   ],
   "source": [
    "/ replace out-of-bounds coordinates with 0 0 where \"filler\" value will always be\n",
    "offsets:(-1 -1;-1 0;-1 1;0 -1;0 0;0 1;1 -1;1 0;1 1)\n",
    "x:0 0\n",
    "rc:count idx:where not all flip within[;(0;-1+count img)]@\\:0N!xs:x+/:offsets\n",
    "@[xs;idx;:;rc#enlist 0 0]"
   ]
  },
  {
   "cell_type": "code",
   "execution_count": 201,
   "id": "f68eb193",
   "metadata": {},
   "outputs": [
    {
     "data": {
      "text/plain": [
       "34\n"
      ]
     },
     "execution_count": 201,
     "metadata": {},
     "output_type": "execute_result"
    }
   ],
   "source": [
    "x:3 3\n",
    "rc:count idx:where not all flip within[;(0;-1+count img)]@\\:xs:x+/:offsets\n",
    "2 sv pad[img;0b]./:@[xs;idx;:;rc#enlist 0 0] / 2 sv - decimal from binary"
   ]
  },
  {
   "cell_type": "code",
   "execution_count": 202,
   "id": "8bef29bd",
   "metadata": {},
   "outputs": [],
   "source": [
    "get3x3:{[inp;x]\n",
    "    offsets:(-1 -1;-1 0;-1 1;0 -1;0 0;0 1;1 -1;1 0;1 1);\n",
    "    rc:count idx:where not all flip within[;(0;-1+count inp)]@\\:xs:x+/:offsets;\n",
    "    2 sv inp ./:@[xs;idx;:;rc#enlist 0 0]\n",
    " };"
   ]
  },
  {
   "cell_type": "code",
   "execution_count": 203,
   "id": "21382578",
   "metadata": {},
   "outputs": [],
   "source": [
    "enhance:{[inp;f;algo]\n",
    "    n cut algo get3x3[inp] each idx:tn cross tn:til n:count inp:pad[inp;f]\n",
    " }"
   ]
  },
  {
   "cell_type": "code",
   "execution_count": 204,
   "id": "39d9583f",
   "metadata": {},
   "outputs": [
    {
     "data": {
      "text/plain": [
       "\".##.##.\"\n",
       "\"#..#.#.\"\n",
       "\"##.#..#\"\n",
       "\"####..#\"\n",
       "\".#..##.\"\n",
       "\"..##..#\"\n",
       "\"...#.#.\"\n"
      ]
     },
     "execution_count": 204,
     "metadata": {},
     "output_type": "execute_result"
    }
   ],
   "source": [
    "v enhance[img;0b;algo]"
   ]
  },
  {
   "cell_type": "code",
   "execution_count": 205,
   "id": "39b70075",
   "metadata": {},
   "outputs": [
    {
     "data": {
      "text/plain": [
       "\".......#.\"\n",
       "\".#..#.#..\"\n",
       "\"#.#...###\"\n",
       "\"#...##.#.\"\n",
       "\"#.....#.#\"\n",
       "\".#.#####.\"\n",
       "\"..#.#####\"\n",
       "\"...##.##.\"\n",
       "\"....###..\"\n"
      ]
     },
     "execution_count": 205,
     "metadata": {},
     "output_type": "execute_result"
    }
   ],
   "source": [
    "v p1:enhance[;;algo]/[img;00b]\n"
   ]
  },
  {
   "cell_type": "code",
   "execution_count": 206,
   "id": "398747fd",
   "metadata": {},
   "outputs": [],
   "source": [
    "nhance:{[inp;n;algo]\n",
    "    f:first algo;l:last algo;\n",
    "    fls:$[f;0b,f,(n-2)#l,f;n#0b];\n",
    "    enhance[;;algo]/[inp;fls]\n",
    " }"
   ]
  },
  {
   "cell_type": "code",
   "execution_count": 207,
   "id": "934b777e",
   "metadata": {},
   "outputs": [
    {
     "data": {
      "text/plain": [
       "35i\n"
      ]
     },
     "execution_count": 207,
     "metadata": {},
     "output_type": "execute_result"
    }
   ],
   "source": [
    "/ part 1\n",
    "sum/[nhance[img;2;algo]]"
   ]
  },
  {
   "cell_type": "code",
   "execution_count": 208,
   "id": "715a5c3d",
   "metadata": {},
   "outputs": [
    {
     "data": {
      "text/plain": [
       "3351i\n"
      ]
     },
     "execution_count": 208,
     "metadata": {},
     "output_type": "execute_result"
    }
   ],
   "source": [
    "/ part 2\n",
    "sum/[nhance[img;50;algo]]"
   ]
  },
  {
   "cell_type": "code",
   "execution_count": null,
   "id": "91bffe0f",
   "metadata": {},
   "outputs": [],
   "source": []
  }
 ],
 "metadata": {
  "kernelspec": {
   "display_name": "Q (kdb+)",
   "language": "q",
   "name": "qpk"
  },
  "language_info": {
   "file_extension": ".q",
   "mimetype": "text/x-q",
   "name": "q",
   "version": "4.0"
  }
 },
 "nbformat": 4,
 "nbformat_minor": 5
}
