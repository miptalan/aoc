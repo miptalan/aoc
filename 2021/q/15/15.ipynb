{
 "cells": [
  {
   "cell_type": "code",
   "execution_count": 128,
   "id": "818a3620",
   "metadata": {},
   "outputs": [
    {
     "data": {
      "text/plain": [
       "4 1 8 6 6 8 7 9 8 9 1 4 7 9 9 9 8 1 4 6 6 1 2 5 9 8 2 9 8 9 8 9 7 7 3 5 9 6 4..\n",
       "9 5 7 9 9 9 3 6 7 9 7 4 9 2 8 8 8 1 8 4 6 2 7 7 7 9 7 9 7 5 8 3 8 9 8 9 9 8 5..\n",
       "1 8 9 4 7 3 8 8 1 1 9 8 8 8 2 9 9 8 6 9 3 9 8 9 7 9 6 5 9 3 5 4 8 6 6 8 6 6 1..\n",
       "1 7 9 8 9 9 1 9 9 9 1 9 7 5 9 9 6 4 6 8 8 2 9 3 7 6 8 7 9 3 4 5 7 7 8 1 6 7 9..\n",
       "9 4 3 5 5 7 4 9 9 9 9 1 7 1 8 8 9 3 5 8 8 9 1 1 7 4 5 4 8 7 1 2 3 7 6 6 3 6 8..\n",
       "1 2 8 7 1 8 6 4 8 5 9 9 4 7 6 8 9 3 6 8 5 9 6 9 9 8 1 5 2 8 4 7 8 2 5 8 5 9 9..\n",
       "6 8 7 1 5 7 8 6 8 5 8 2 8 4 4 4 3 8 7 4 6 6 5 7 8 6 9 1 9 1 6 4 6 1 4 9 7 4 2..\n",
       "7 7 6 8 2 7 4 9 6 9 8 8 9 1 3 2 8 2 1 3 7 9 7 4 8 8 9 1 1 9 7 3 3 7 9 8 5 9 9..\n",
       "6 1 1 9 8 9 9 8 4 8 1 4 9 8 4 5 5 6 1 1 7 5 4 1 6 8 9 2 7 3 3 9 7 6 7 9 9 1 5..\n",
       "4 9 9 6 8 4 5 9 3 2 2 1 9 6 4 4 8 9 9 6 5 9 7 6 9 7 7 9 1 8 9 9 4 9 8 7 6 6 8..\n",
       "7 9 7 1 4 9 9 5 1 8 8 9 8 3 8 1 9 3 9 9 9 3 9 8 9 9 6 8 2 5 9 8 4 1 9 3 5 7 8..\n",
       "8 9 8 9 2 9 4 9 1 9 9 4 9 9 8 9 9 8 3 9 6 2 1 9 9 9 9 1 9 6 9 6 4 9 3 9 3 7 6..\n",
       "9 1 9 3 7 9 6 8 5 4 8 9 3 6 9 8 6 3 7 8 9 9 4 7 6 2 9 7 9 8 6 9 4 4 2 6 5 7 9..\n",
       "4 3 3 4 7 5 6 6 4 5 1 2 9 7 3 3 9 8 3 1 9 9 9 6 2 4 7 3 9 6 9 4 8 9 9 8 3 3 9..\n",
       "3 8 9 7 5 8 9 7 1 8 9 8 3 8 8 8 4 7 9 4 9 9 5 9 8 4 8 6 9 2 7 5 9 9 5 6 7 9 9..\n",
       "4 6 7 9 1 4 8 9 9 6 9 2 3 4 3 8 1 8 9 9 4 1 4 4 7 7 8 9 8 9 5 1 9 1 8 8 5 8 9..\n",
       "1 9 3 7 1 1 8 8 8 7 9 9 8 9 8 6 3 8 8 4 8 2 6 8 1 7 8 2 8 8 1 4 5 7 2 4 8 6 8..\n",
       "6 1 9 5 6 8 9 3 9 8 2 8 6 8 3 8 8 1 2 3 7 1 2 3 5 1 9 2 3 8 2 1 1 6 1 1 9 3 1..\n",
       "3 5 9 8 6 6 7 2 7 2 7 2 3 4 9 1 7 7 9 6 2 7 9 9 7 2 4 2 1 7 1 6 9 8 9 2 5 7 3..\n",
       "1 5 1 9 9 4 4 1 4 2 9 9 3 1 9 9 8 4 1 9 4 1 6 9 9 2 9 4 9 6 8 6 9 8 9 9 5 3 6..\n",
       "2 2 1 8 9 4 1 4 9 9 9 7 3 3 1 9 7 9 9 4 4 9 8 8 1 2 7 5 8 9 1 6 1 4 1 7 9 5 9..\n",
       "4 9 6 9 9 2 8 8 6 7 6 1 9 5 8 6 6 9 3 8 1 5 5 1 9 6 9 9 9 7 9 8 3 7 5 8 3 3 9..\n",
       "..\n"
      ]
     },
     "execution_count": 128,
     "metadata": {},
     "output_type": "execute_result"
    }
   ],
   "source": [
    "input:-48+\"j\"$read0 `:input.txt\n",
    "input"
   ]
  },
  {
   "cell_type": "code",
   "execution_count": 130,
   "id": "d11dd792",
   "metadata": {},
   "outputs": [],
   "source": [
    "N:count input;\n",
    "shifts:(0 1;1 0;0 -1;-1 0)\n",
    "start:0 0\n",
    "end:(N-1;N-1)"
   ]
  },
  {
   "cell_type": "code",
   "execution_count": 131,
   "id": "e15669d0",
   "metadata": {},
   "outputs": [
    {
     "data": {
      "text/plain": [
       "0 0\n",
       "0 1\n",
       "0 2\n"
      ]
     },
     "execution_count": 131,
     "metadata": {},
     "output_type": "execute_result"
    }
   ],
   "source": [
    "v:{x cross x} til N\n",
    "3#v"
   ]
  },
  {
   "cell_type": "code",
   "execution_count": 132,
   "id": "732defaa",
   "metadata": {},
   "outputs": [
    {
     "data": {
      "text/plain": [
       "0 0| 0\n",
       "0 1| 0W\n",
       "0 2| 0W\n"
      ]
     },
     "execution_count": 132,
     "metadata": {},
     "output_type": "execute_result"
    }
   ],
   "source": [
    "dist:v!count[v]#0Wj\n",
    "fr0m:v!count[v]#()\n",
    "\n",
    "dist[0 0]:0\n",
    "fr0m[0 0]:0 0\n",
    "\n",
    "3#dist"
   ]
  },
  {
   "cell_type": "code",
   "execution_count": null,
   "id": "d14a9056",
   "metadata": {},
   "outputs": [],
   "source": [
    "/ part 1\n",
    "prio:dist;\n",
    "while[0<count prio;\n",
    "    prio:asc prio;\n",
    "    shortest:1#prio;\n",
    "    prio:1_prio;\n",
    "\n",
    "    sdist:first value shortest;\n",
    "    scoord:first key shortest;\n",
    "\n",
    "    neighbours:neighbours where all flip within[;(0;N-1)] each neighbours:+[scoord] each shifts;\n",
    "    while[0<count neighbours;\n",
    "        n:first neighbours;neighbours:1_neighbours;\n",
    "        d:input . n;\n",
    "        if[dist[n]>newdist:sdist+d;\n",
    "            prio[n]:dist[n]:newdist;\n",
    "            fr0m[n]:scoord;\n",
    "         ];\n",
    "     ];\n",
    "\n",
    "    cnt-:1;\n",
    " ];"
   ]
  },
  {
   "cell_type": "code",
   "execution_count": null,
   "id": "98367ed7",
   "metadata": {},
   "outputs": [],
   "source": [
    "dist[end]"
   ]
  },
  {
   "cell_type": "code",
   "execution_count": 129,
   "id": "40de288d",
   "metadata": {},
   "outputs": [
    {
     "data": {
      "text/plain": [
       "4 1 8 6 6 8 7 9 8 9 1 4 7 9 9 9 8 1 4 6 6 1 2 5 9 8 2 9 8 9 8 9 7 7 3 5 9 6 4..\n",
       "9 5 7 9 9 9 3 6 7 9 7 4 9 2 8 8 8 1 8 4 6 2 7 7 7 9 7 9 7 5 8 3 8 9 8 9 9 8 5..\n",
       "1 8 9 4 7 3 8 8 1 1 9 8 8 8 2 9 9 8 6 9 3 9 8 9 7 9 6 5 9 3 5 4 8 6 6 8 6 6 1..\n",
       "1 7 9 8 9 9 1 9 9 9 1 9 7 5 9 9 6 4 6 8 8 2 9 3 7 6 8 7 9 3 4 5 7 7 8 1 6 7 9..\n",
       "9 4 3 5 5 7 4 9 9 9 9 1 7 1 8 8 9 3 5 8 8 9 1 1 7 4 5 4 8 7 1 2 3 7 6 6 3 6 8..\n",
       "1 2 8 7 1 8 6 4 8 5 9 9 4 7 6 8 9 3 6 8 5 9 6 9 9 8 1 5 2 8 4 7 8 2 5 8 5 9 9..\n",
       "6 8 7 1 5 7 8 6 8 5 8 2 8 4 4 4 3 8 7 4 6 6 5 7 8 6 9 1 9 1 6 4 6 1 4 9 7 4 2..\n",
       "7 7 6 8 2 7 4 9 6 9 8 8 9 1 3 2 8 2 1 3 7 9 7 4 8 8 9 1 1 9 7 3 3 7 9 8 5 9 9..\n",
       "6 1 1 9 8 9 9 8 4 8 1 4 9 8 4 5 5 6 1 1 7 5 4 1 6 8 9 2 7 3 3 9 7 6 7 9 9 1 5..\n",
       "4 9 9 6 8 4 5 9 3 2 2 1 9 6 4 4 8 9 9 6 5 9 7 6 9 7 7 9 1 8 9 9 4 9 8 7 6 6 8..\n",
       "7 9 7 1 4 9 9 5 1 8 8 9 8 3 8 1 9 3 9 9 9 3 9 8 9 9 6 8 2 5 9 8 4 1 9 3 5 7 8..\n",
       "8 9 8 9 2 9 4 9 1 9 9 4 9 9 8 9 9 8 3 9 6 2 1 9 9 9 9 1 9 6 9 6 4 9 3 9 3 7 6..\n",
       "9 1 9 3 7 9 6 8 5 4 8 9 3 6 9 8 6 3 7 8 9 9 4 7 6 2 9 7 9 8 6 9 4 4 2 6 5 7 9..\n",
       "4 3 3 4 7 5 6 6 4 5 1 2 9 7 3 3 9 8 3 1 9 9 9 6 2 4 7 3 9 6 9 4 8 9 9 8 3 3 9..\n",
       "3 8 9 7 5 8 9 7 1 8 9 8 3 8 8 8 4 7 9 4 9 9 5 9 8 4 8 6 9 2 7 5 9 9 5 6 7 9 9..\n",
       "4 6 7 9 1 4 8 9 9 6 9 2 3 4 3 8 1 8 9 9 4 1 4 4 7 7 8 9 8 9 5 1 9 1 8 8 5 8 9..\n",
       "1 9 3 7 1 1 8 8 8 7 9 9 8 9 8 6 3 8 8 4 8 2 6 8 1 7 8 2 8 8 1 4 5 7 2 4 8 6 8..\n",
       "6 1 9 5 6 8 9 3 9 8 2 8 6 8 3 8 8 1 2 3 7 1 2 3 5 1 9 2 3 8 2 1 1 6 1 1 9 3 1..\n",
       "3 5 9 8 6 6 7 2 7 2 7 2 3 4 9 1 7 7 9 6 2 7 9 9 7 2 4 2 1 7 1 6 9 8 9 2 5 7 3..\n",
       "1 5 1 9 9 4 4 1 4 2 9 9 3 1 9 9 8 4 1 9 4 1 6 9 9 2 9 4 9 6 8 6 9 8 9 9 5 3 6..\n",
       "2 2 1 8 9 4 1 4 9 9 9 7 3 3 1 9 7 9 9 4 4 9 8 8 1 2 7 5 8 9 1 6 1 4 1 7 9 5 9..\n",
       "4 9 6 9 9 2 8 8 6 7 6 1 9 5 8 6 6 9 3 8 1 5 5 1 9 6 9 9 9 7 9 8 3 7 5 8 3 3 9..\n",
       "..\n"
      ]
     },
     "execution_count": 129,
     "metadata": {},
     "output_type": "execute_result"
    }
   ],
   "source": [
    "/ part 2\n",
    "newcol:raze +[input] each til 5;\n",
    "newinput:flip raze +[flip newcol] each til 5;\n",
    "input:newinput+9*0=newinput:newinput mod 9; \n",
    "input"
   ]
  },
  {
   "cell_type": "code",
   "execution_count": null,
   "id": "007c1ad6",
   "metadata": {},
   "outputs": [],
   "source": []
  }
 ],
 "metadata": {
  "kernelspec": {
   "display_name": "Q (kdb+)",
   "language": "q",
   "name": "qpk"
  },
  "language_info": {
   "file_extension": ".q",
   "mimetype": "text/x-q",
   "name": "q",
   "version": "4.0"
  }
 },
 "nbformat": 4,
 "nbformat_minor": 5
}
