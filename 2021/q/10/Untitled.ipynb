{
 "cells": [
  {
   "cell_type": "code",
   "execution_count": 2,
   "id": "c0ad7dc6",
   "metadata": {},
   "outputs": [
    {
     "data": {
      "text/plain": [
       "\"{([(<{}[<>[]}>{[]{[(<()>\"\n"
      ]
     },
     "execution_count": 2,
     "metadata": {},
     "output_type": "execute_result"
    }
   ],
   "source": [
    "input:\"{([(<{}[<>[]}>{[]{[(<()>\"\n",
    "input"
   ]
  },
  {
   "cell_type": "code",
   "execution_count": 13,
   "id": "03f213fa",
   "metadata": {},
   "outputs": [
    {
     "name": "stdout",
     "output_type": "stream",
     "text": [
      "\"{ \"\n",
      "\"( {\"\n",
      "\"[ ({\"\n",
      "\"( [({\"\n",
      "\"< ([({\"\n",
      "\"{ <([({\"\n",
      "\"} {<([({\"\n"
     ]
    },
    {
     "ename": "\u001b[0;31mtype\u001b[0m",
     "evalue": "\u001b[0;31mtype\u001b[0m",
     "output_type": "error",
     "traceback": [
      "\u001b[0;31mevaluation error:\n\u001b[0m",
      "\u001b[0;31mtype\u001b[0m",
      "\u001b[0;31m\u001b[0m",
      "\u001b[0;31m  [1]  \n    :$[y in \"(<{[\";y,x;\n        $[x=first y;1_x;\"\"]\n           ^\n     ]\n\u001b[0m",
      "\u001b[0;31m  [0]  \n     ]\n }\\[();input]\n  ^\n\u001b[0m"
     ]
    }
   ],
   "source": [
    "input:\"{([(<{}[<>[]}>{[]{[(<()>\"\n",
    "\n",
    "{\n",
    "    show y,\" \",x;\n",
    "    :$[y in \"(<{[\";y,x;\n",
    "        $[x=first y;1_x;\"\"]\n",
    "     ]\n",
    " }\\[();input]"
   ]
  },
  {
   "cell_type": "code",
   "execution_count": 13,
   "id": "89a14889",
   "metadata": {},
   "outputs": [
    {
     "data": {
      "text/plain": [
       "2 3\n"
      ]
     },
     "execution_count": 13,
     "metadata": {},
     "output_type": "execute_result"
    }
   ],
   "source": [
    "1_1 2 3"
   ]
  },
  {
   "cell_type": "code",
   "execution_count": null,
   "id": "ec0587b7",
   "metadata": {},
   "outputs": [],
   "source": []
  }
 ],
 "metadata": {
  "kernelspec": {
   "display_name": "Q (kdb+)",
   "language": "q",
   "name": "qpk"
  },
  "language_info": {
   "file_extension": ".q",
   "mimetype": "text/x-q",
   "name": "q",
   "version": "4.0"
  }
 },
 "nbformat": 4,
 "nbformat_minor": 5
}
