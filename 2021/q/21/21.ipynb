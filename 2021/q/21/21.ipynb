{
 "cells": [
  {
   "cell_type": "code",
   "execution_count": 66,
   "id": "d864325b",
   "metadata": {},
   "outputs": [
    {
     "name": "stdout",
     "output_type": "stream",
     "text": [
      "(\"Player 1 starting position: 4\";\"Player 2 starting position: 8\")\n"
     ]
    },
    {
     "data": {
      "text/plain": [
       "4 8\n"
      ]
     },
     "execution_count": 66,
     "metadata": {},
     "output_type": "execute_result"
    }
   ],
   "source": [
    "input:\"J\"$#[-1;] each 0N!read0 `test.txt\n",
    "input"
   ]
  },
  {
   "cell_type": "code",
   "execution_count": 67,
   "id": "0c548264",
   "metadata": {},
   "outputs": [
    {
     "name": "stdout",
     "output_type": "stream",
     "text": [
      "75 76  77\n",
      "78 79  80\n",
      "81 82  83\n",
      "84 85  86\n",
      "87 88  89\n",
      "90 91  92\n",
      "93 94  95\n",
      "96 97  98\n",
      "99 100 1 \n",
      "2  3   4 \n"
     ]
    }
   ],
   "source": [
    "/ after at most 2000 rolls game will be over\n",
    "show -10#rolls:3 cut 2004#1+til 100"
   ]
  },
  {
   "cell_type": "code",
   "execution_count": 68,
   "id": "86047f03",
   "metadata": {},
   "outputs": [
    {
     "name": "stdout",
     "output_type": "stream",
     "text": [
      "6   15 \n",
      "24  33 \n",
      "42  51 \n",
      "60  69 \n",
      "78  87 \n",
      "96  105\n",
      "114 123\n",
      "132 141\n",
      "150 159\n",
      "168 177\n",
      "186 195\n",
      "204 213\n",
      "222 231\n",
      "240 249\n",
      "258 267\n",
      "276 285\n",
      "294 103\n",
      "12  21 \n",
      "30  39 \n",
      "48  57 \n",
      "66  75 \n",
      "84  93 \n",
      "..\n"
     ]
    }
   ],
   "source": [
    "show turns:2 cut sum each rolls"
   ]
  },
  {
   "cell_type": "code",
   "execution_count": 69,
   "id": "bea4dc39",
   "metadata": {},
   "outputs": [
    {
     "name": "stdout",
     "output_type": "stream",
     "text": [
      "10 3\n",
      "4  6\n",
      "6  7\n",
      "6  6\n",
      "4  3\n",
      "10 8\n",
      "4  1\n",
      "6  2\n",
      "6  1\n",
      "4  8\n",
      "10 3\n",
      "4  6\n",
      "6  7\n",
      "6  6\n",
      "4  3\n",
      "10 8\n",
      "4  1\n",
      "6  2\n",
      "6  1\n",
      "4  8\n",
      "10 3\n",
      "4  6\n",
      "..\n"
     ]
    }
   ],
   "source": [
    "smod10:{1+(x+y-1) mod 10}\n",
    "show scores:smod10\\[input;turns]"
   ]
  },
  {
   "cell_type": "code",
   "execution_count": 70,
   "id": "cba5f8c6",
   "metadata": {},
   "outputs": [
    {
     "name": "stdout",
     "output_type": "stream",
     "text": [
      "10 3 14 9 20 16 26 22 30 25 40 33 44 34 50 36 56 37 60 45 70 48 74 54 80 61 8..\n",
      "330\n"
     ]
    }
   ],
   "source": [
    "show cumscores:raze sums scores\n",
    "show idx:first where 1000<=cumscores"
   ]
  },
  {
   "cell_type": "code",
   "execution_count": 71,
   "id": "8456af1b",
   "metadata": {},
   "outputs": [
    {
     "name": "stdout",
     "output_type": "stream",
     "text": [
      "993\n"
     ]
    }
   ],
   "source": [
    "show numRounds:3*idx+1"
   ]
  },
  {
   "cell_type": "code",
   "execution_count": 72,
   "id": "34bbab2d",
   "metadata": {},
   "outputs": [
    {
     "name": "stdout",
     "output_type": "stream",
     "text": [
      "745\n"
     ]
    }
   ],
   "source": [
    "show loserScore:cumscores idx-1"
   ]
  },
  {
   "cell_type": "code",
   "execution_count": 73,
   "id": "b0cd06ac",
   "metadata": {},
   "outputs": [
    {
     "data": {
      "text/plain": [
       "739785\n"
      ]
     },
     "execution_count": 73,
     "metadata": {},
     "output_type": "execute_result"
    }
   ],
   "source": [
    "/ part 1\n",
    "numRounds*loserScore"
   ]
  },
  {
   "cell_type": "code",
   "execution_count": 74,
   "id": "cdae1b7e",
   "metadata": {},
   "outputs": [
    {
     "name": "stdout",
     "output_type": "stream",
     "text": [
      "3| 1\n",
      "4| 3\n",
      "5| 6\n",
      "6| 7\n",
      "7| 6\n",
      "8| 3\n",
      "9| 1\n"
     ]
    }
   ],
   "source": [
    "/part 2\n",
    "show toss3sum:count each group sum flip a cross a cross a:1 2 3"
   ]
  },
  {
   "cell_type": "code",
   "execution_count": 75,
   "id": "19863ea3",
   "metadata": {},
   "outputs": [
    {
     "data": {
      "text/plain": [
       "::\n",
       "::\n"
      ]
     },
     "execution_count": 75,
     "metadata": {},
     "output_type": "execute_result"
    },
    {
     "data": {
      "text/plain": [
       "pl1 depth pos sc| nu\n",
       "----------------| --\n",
       "1   1     7   7 | 1 \n",
       "1   1     8   8 | 3 \n",
       "1   1     9   9 | 6 \n",
       "1   1     10  10| 7 \n",
       "1   1     1   1 | 6 \n",
       "1   1     2   2 | 3 \n",
       "1   1     3   3 | 1 \n"
      ]
     },
     "execution_count": 75,
     "metadata": {},
     "output_type": "execute_result"
    }
   ],
   "source": [
    "/ player's depth, position, cum score, and number of observed corresponding universes\n",
    "states:([pl1:`boolean$();depth:`long$();pos:`long$();sc:`long$()]nu:`long$())\n",
    "\n",
    "/ position score depth\n",
    "genUniverses:{[p1;d;p;s;n]\n",
    "    exN:first states[(p1;d;p;s)];\n",
    "    $[not null exN;\n",
    "        update nu:exN+n from `states where pl1=p1,depth=d,pos=p,sc=s;\n",
    "        `states upsert ([pl1:enlist p1;depth:enlist d;pos:enlist p;sc:enlist s]nu:enlist n) \n",
    "     ];\n",
    "    if[s<21;\n",
    "        newP:smod10[p;] each key toss3sum;\n",
    "        newS:s+newP;\n",
    "        newN:n*value toss3sum;\n",
    "        .z.s[p1;d+1]'[newP;newS;newN];\n",
    "     ];\n",
    " }\n",
    "\n",
    "genUniverses[;0;;0;1]'[10b;input]\n",
    "\n",
    "select from states where pl1,depth=1"
   ]
  },
  {
   "cell_type": "code",
   "execution_count": 76,
   "id": "47d69ff3",
   "metadata": {},
   "outputs": [
    {
     "data": {
      "text/plain": [
       "pl1 depth sc| nu\n",
       "------------| --\n",
       "0   3     6 | 12\n",
       "1   3     6 | 37\n"
      ]
     },
     "execution_count": 76,
     "metadata": {},
     "output_type": "execute_result"
    }
   ],
   "source": [
    "sumStates:select sum nu by pl1,depth,sc from states\n",
    "select from sumStates where depth=3,sc=6"
   ]
  },
  {
   "cell_type": "code",
   "execution_count": 77,
   "id": "d70249c1",
   "metadata": {},
   "outputs": [
    {
     "data": {
      "text/plain": [
       "win2           \n",
       "---------------\n",
       "341960390180808\n"
      ]
     },
     "execution_count": 77,
     "metadata": {},
     "output_type": "execute_result"
    }
   ],
   "source": [
    "p1:select d:depth,s1:sc,n1:nu from sumStates where pl1=1b\n",
    "p2:select d:depth,s2:sc,n2:nu from sumStates where pl1=0b\n",
    "\n",
    "select win2:sum n1*n2 from ej[`d;p1;p2] where s1<21,s2>20"
   ]
  },
  {
   "cell_type": "code",
   "execution_count": 78,
   "id": "20d2f966",
   "metadata": {},
   "outputs": [
    {
     "data": {
      "text/plain": [
       "win1           \n",
       "---------------\n",
       "444356092776315\n"
      ]
     },
     "execution_count": 78,
     "metadata": {},
     "output_type": "execute_result"
    }
   ],
   "source": [
    "p2:select d:depth+1,s2:sc,n2:nu from sumStates where pl1=0b\n",
    "select win1:sum n1*n2 from ej[`d;p1;p2] where s2<21,s1>20"
   ]
  }
 ],
 "metadata": {
  "kernelspec": {
   "display_name": "Q (kdb+)",
   "language": "q",
   "name": "qpk"
  },
  "language_info": {
   "file_extension": ".q",
   "mimetype": "text/x-q",
   "name": "q",
   "version": "4.0"
  }
 },
 "nbformat": 4,
 "nbformat_minor": 5
}
