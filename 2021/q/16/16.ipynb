{
 "cells": [
  {
   "cell_type": "code",
   "execution_count": 216,
   "id": "703aa52d",
   "metadata": {},
   "outputs": [
    {
     "data": {
      "text/plain": [
       "0| 0000b\n",
       "1| 0001b\n",
       "2| 0010b\n",
       "3| 0011b\n",
       "4| 0100b\n",
       "5| 0101b\n",
       "6| 0110b\n",
       "7| 0111b\n",
       "8| 1000b\n",
       "9| 1001b\n",
       "A| 1010b\n",
       "B| 1011b\n",
       "C| 1100b\n",
       "D| 1101b\n",
       "E| 1110b\n",
       "F| 1111b\n"
      ]
     },
     "execution_count": 216,
     "metadata": {},
     "output_type": "execute_result"
    }
   ],
   "source": [
    "d:\"0123456789ABCDEF\"!(0000b;0001b;0010b;0011b;0100b;0101b;0110b;0111b;1000b;1001b;1010b;1011b;1100b;1101b;1110b;1111b)\n",
    "toBits:{raze x each y}[d]\n",
    "d"
   ]
  },
  {
   "cell_type": "code",
   "execution_count": 217,
   "id": "67991926",
   "metadata": {},
   "outputs": [
    {
     "data": {
      "text/plain": [
       "110100101111111000101000b\n"
      ]
     },
     "execution_count": 217,
     "metadata": {},
     "output_type": "execute_result"
    }
   ],
   "source": [
    "literal:toBits \"D2FE28\"\n",
    "literal"
   ]
  },
  {
   "cell_type": "code",
   "execution_count": 219,
   "id": "2882b084",
   "metadata": {},
   "outputs": [],
   "source": [
    "/ return list:\n",
    "/ 0) index\n",
    "/ 1) version\n",
    "/ 2) type\n",
    "/ 3) value\n",
    "\n",
    "/ parse sequentially, return list of 4 above for each call\n",
    "pp:{[whole;idx]\n",
    "    if[not any idx _ whole;\n",
    "        show\"Exhausted packet\";\n",
    "        :enlist (idx;0;0Nj;0Nj);\n",
    "     ];    \n",
    "     \n",
    "    result:();\n",
    "    version:2 sv (idx;3) sublist whole;\n",
    "    idx+:3;\n",
    "    typeId:2 sv (idx;3) sublist whole;\n",
    "    idx+:3;\n",
    "    if[typeId=4; / literal\n",
    "        l:();\n",
    "        while[first b5:(idx;5) sublist whole;\n",
    "            idx+:5;\n",
    "            l,:1_b5\n",
    "         ];\n",
    "        l,:1_b5;\n",
    "        idx+:5;\n",
    "        v:2 sv l;        \n",
    "        /show \"Literal: \",string v;        \n",
    "        result,:enlist (idx;version;typeId;v);\n",
    "     ];\n",
    "    if[typeId<>4; / operator\n",
    "        lengthTypeId:whole idx;\n",
    "        idx+:1;\n",
    "        if[not lengthTypeId; / 15 bit of payload length\n",
    "            len:2 sv (idx;15) sublist whole;\n",
    "            idx+:15;\n",
    "            /show \"Operator type \",string[typeId],\" LT=0: will parse \",string[len],\" bits\";         \n",
    "            sbpck:();\n",
    "            midx:idx+len;\n",
    "            while[idx<midx;\n",
    "                pck:pp[whole;idx];\n",
    "                idx:first first pck;\n",
    "                sbpck,:pck;\n",
    "             ];\n",
    "            result,:enlist (idx;version;typeId;sbpck);\n",
    "          ];\n",
    "        if[lengthTypeId; / 11 bit of num of sub-packed\n",
    "            nsp:2 sv (idx;11) sublist whole;\n",
    "            idx+:11;\n",
    "            /show \"Operator type \",string[typeId],\" LT=1: will parse \",string[nsp],\" sub-packets\";\n",
    "            sbpck:();\n",
    "            do[nsp;\n",
    "                pck:pp[whole;idx];\n",
    "                idx:first first pck;\n",
    "                sbpck,:pck;\n",
    "             ];\n",
    "            result,:enlist (idx;version;typeId;sbpck);\n",
    "         ];\n",
    "     ];\n",
    "    \n",
    "    result\n",
    " };"
   ]
  },
  {
   "cell_type": "code",
   "execution_count": 220,
   "id": "b9849735",
   "metadata": {},
   "outputs": [
    {
     "data": {
      "text/plain": [
       "\",(51;7;3;(29 2 4 1;40 4 4 2;51 1 4 3))\"\n"
      ]
     },
     "execution_count": 220,
     "metadata": {},
     "output_type": "execute_result"
    }
   ],
   "source": [
    ".Q.s1 pp[;0] toBits \"EE00D40C823060\""
   ]
  },
  {
   "cell_type": "code",
   "execution_count": 221,
   "id": "58e82889",
   "metadata": {},
   "outputs": [
    {
     "data": {
      "text/plain": [
       "\",21 6 4 2021\"\n"
      ]
     },
     "execution_count": 221,
     "metadata": {},
     "output_type": "execute_result"
    }
   ],
   "source": [
    ".Q.s1 pp[;0] literal"
   ]
  },
  {
   "cell_type": "code",
   "execution_count": 222,
   "id": "e4cae824",
   "metadata": {},
   "outputs": [
    {
     "data": {
      "text/plain": [
       "\",(49;1;6;(33 6 4 10;49 2 4 20))\"\n"
      ]
     },
     "execution_count": 222,
     "metadata": {},
     "output_type": "execute_result"
    }
   ],
   "source": [
    ".Q.s1 pp[;0] toBits \"38006F45291200\""
   ]
  },
  {
   "cell_type": "code",
   "execution_count": 223,
   "id": "c1beedd6",
   "metadata": {},
   "outputs": [],
   "source": [
    "sumVersions:{$[0>type last x;x 1;x[1]+sum sumVersions each x 3]};"
   ]
  },
  {
   "cell_type": "code",
   "execution_count": 224,
   "id": "e56cfa79",
   "metadata": {},
   "outputs": [
    {
     "data": {
      "text/plain": [
       "1b\n"
      ]
     },
     "execution_count": 224,
     "metadata": {},
     "output_type": "execute_result"
    }
   ],
   "source": [
    "16=sumVersions first pp[;0] toBits \"8A004A801A8002F478\""
   ]
  },
  {
   "cell_type": "code",
   "execution_count": 225,
   "id": "c20a978d",
   "metadata": {},
   "outputs": [
    {
     "name": "stdout",
     "output_type": "stream",
     "text": [
      "(102;3;0;((62;0;0;(51 0 4 10;62 5 4 11));(102;1;0;(91 0 4 12;102 3 4 13))))\n"
     ]
    },
    {
     "data": {
      "text/plain": [
       "1b\n"
      ]
     },
     "execution_count": 225,
     "metadata": {},
     "output_type": "execute_result"
    }
   ],
   "source": [
    "12=sumVersions 0N!first pp[;0] toBits \"620080001611562C8802118E34\""
   ]
  },
  {
   "cell_type": "code",
   "execution_count": 226,
   "id": "4807fb03",
   "metadata": {},
   "outputs": [
    {
     "name": "stdout",
     "output_type": "stream",
     "text": [
      "(106;6;0;((66;0;0;(55 0 4 10;66 6 4 11));(106;4;0;(95 7 4 12;106 0 4 13))))\n"
     ]
    },
    {
     "data": {
      "text/plain": [
       "1b\n"
      ]
     },
     "execution_count": 226,
     "metadata": {},
     "output_type": "execute_result"
    }
   ],
   "source": [
    "23=sumVersions 0N!first pp[;0] toBits \"C0015000016115A2E0802F182340\""
   ]
  },
  {
   "cell_type": "code",
   "execution_count": 227,
   "id": "65d3396d",
   "metadata": {},
   "outputs": [
    {
     "name": "stdout",
     "output_type": "stream",
     "text": [
      "(113;5;0;,(113;1;0;,(113;3;0;(69 7 4 6;80 6 4 6;91 5 4 12;102 2 4 15;113 2 4 15))))\n"
     ]
    },
    {
     "data": {
      "text/plain": [
       "1b\n"
      ]
     },
     "execution_count": 227,
     "metadata": {},
     "output_type": "execute_result"
    }
   ],
   "source": [
    "31=sumVersions 0N!first pp[;0] toBits \"A0016C880162017C3686B18A3D4780\""
   ]
  },
  {
   "cell_type": "code",
   "execution_count": 228,
   "id": "58d6337a",
   "metadata": {},
   "outputs": [
    {
     "data": {
      "text/plain": [
       "\"220D700071F39F9C6BC92D4A6713C737B3E98783004AC0169B4B99F93CFC31AC4D8A4BB89E9D654D216B80131DC0050B20043E27C1F83240086C468A311CC0188DB0BA12B00719221D3F7AF776DC5DE635094A7D2370082795A52911791ECB7EDA9CFD634BDED14030047C01498EE203931BF7256189A593005E116802D34673999A3A805126EB2B5BEEBB823CB561E9F2165492CE00E6918C011926CA005465B0BB2D85D700B675DA72DD7E9DBE377D62B27698F0D4BAD100735276B4B93C0FF002FF359F3BCFF0DC802ACC002CE3546B92FCB7590C380210523E180233FD21D0040001098ED076108002110960D45F988EB14D9D9802F232A32E802F2FDBEBA7D3B3B7FB06320132B0037700043224C5D8F2000844558C704A6FEAA800D2CFE27B921CA872003A90C6214D62DA8AA9009CF600B8803B10E144741006A1C47F85D29DCF7C9C40132680213037284B3D488640A1008A314BC3D86D9AB6492637D331003E79300012F9BDE8560F1009B32B09EC7FC0151006A0EC6082A0008744287511CC0269810987789132AC600BD802C00087C1D88D05C001088BF1BE284D298005FB1366B353798689D8A84D5194C017D005647181A931895D588E7736C6A5008200F0B802909F97B35897CFCBD9AC4A26DD880259A0037E49861F4E4349A6005CFAD180333E95281338A930EA400824981CC8A2804523AA6F5B3691CF5425B05B3D9AF8DD400F9EDA1100789800D2CBD30E32F4C3ACF52F9FF64326009D802733197392438BF22C52D5AD2D8524034E800C8B202F604008602A6CC00940256C008A9601FF8400D100240062F50038400970034003CE600C70C00F600760C00B98C563FB37CE4BD1BFA769839802F400F8C9CA79429B96E0A93FAE4A5F32201428401A8F508A1B0002131723B43400043618C2089E40143CBA748B3CE01C893C8904F4E1B2D300527AB63DA0091253929E42A53929E420\"\n"
      ]
     },
     "execution_count": 228,
     "metadata": {},
     "output_type": "execute_result"
    }
   ],
   "source": [
    "input:first read0 `:input.txt\n",
    "input"
   ]
  },
  {
   "cell_type": "code",
   "execution_count": 229,
   "id": "5f7be53e",
   "metadata": {},
   "outputs": [
    {
     "data": {
      "text/plain": [
       "1014\n"
      ]
     },
     "execution_count": 229,
     "metadata": {},
     "output_type": "execute_result"
    }
   ],
   "source": [
    "/part 1\n",
    "sumVersions first parsed:pp[;0] toBits input"
   ]
  },
  {
   "cell_type": "code",
   "execution_count": 230,
   "id": "2b185261",
   "metadata": {},
   "outputs": [],
   "source": [
    "/ return list:\n",
    "/ 0) index\n",
    "/ 1) version\n",
    "/ 2) type\n",
    "/ 3) value\n",
    "\n",
    "types:0 1 2 3 5 6 7!(sum;prd;min;max;>;<;=);\n",
    "build:{\n",
    "    if[7h=type x;:x 3]; / literal\n",
    "    \n",
    "    typeId:x 2;op:types typeId;\n",
    "    if[typeId in 5 6 7;:(op;build first x 3;build last x 3)]; / binary operators\n",
    "    \n",
    "    :(op;(enlist,build each x 3)) / list operators\n",
    " };"
   ]
  },
  {
   "cell_type": "code",
   "execution_count": 231,
   "id": "ee479927",
   "metadata": {},
   "outputs": [
    {
     "data": {
      "text/plain": [
       "2021\n"
      ]
     },
     "execution_count": 231,
     "metadata": {},
     "output_type": "execute_result"
    }
   ],
   "source": [
    "build first pp[;0] literal"
   ]
  },
  {
   "cell_type": "code",
   "execution_count": 232,
   "id": "38b92180",
   "metadata": {},
   "outputs": [
    {
     "name": "stdout",
     "output_type": "stream",
     "text": [
      "(max;(enlist;1;2;3))\n"
     ]
    },
    {
     "data": {
      "text/plain": [
       "3\n"
      ]
     },
     "execution_count": 232,
     "metadata": {},
     "output_type": "execute_result"
    }
   ],
   "source": [
    "eval 0N!build first pp[;0] toBits \"EE00D40C823060\""
   ]
  },
  {
   "cell_type": "code",
   "execution_count": 233,
   "id": "664bb78f",
   "metadata": {},
   "outputs": [
    {
     "data": {
      "text/plain": [
       "1922490999789\n"
      ]
     },
     "execution_count": 233,
     "metadata": {},
     "output_type": "execute_result"
    }
   ],
   "source": [
    "/ part 2\n",
    "eval build first parsed"
   ]
  },
  {
   "cell_type": "code",
   "execution_count": null,
   "id": "ac1be0ea",
   "metadata": {},
   "outputs": [],
   "source": []
  }
 ],
 "metadata": {
  "kernelspec": {
   "display_name": "Q (kdb+)",
   "language": "q",
   "name": "qpk"
  },
  "language_info": {
   "file_extension": ".q",
   "mimetype": "text/x-q",
   "name": "q",
   "version": "4.0"
  }
 },
 "nbformat": 4,
 "nbformat_minor": 5
}
