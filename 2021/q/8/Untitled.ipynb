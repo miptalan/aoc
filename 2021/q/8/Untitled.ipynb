{
 "cells": [
  {
   "cell_type": "code",
   "execution_count": 44,
   "id": "33112b61",
   "metadata": {},
   "outputs": [
    {
     "data": {
      "text/plain": [
       "\"fdgacbe\" \"cefdb\"   \"cefbgd\"  \"gcbe\"   \n",
       "\"fcgedb\"  \"cgb\"     \"dgebacf\" \"gc\"     \n",
       "\"cg\"      \"cg\"      \"fdcagb\"  \"cbg\"    \n",
       "\"efabcd\"  \"cedba\"   \"gadfec\"  \"cb\"     \n",
       "\"gecf\"    \"egdcabf\" \"bgf\"     \"bfgea\"  \n",
       "\"gebdcfa\" \"ecba\"    \"ca\"      \"fadegcb\"\n",
       "\"cefg\"    \"dcbef\"   \"fcge\"    \"gbcadfe\"\n",
       "\"ed\"      \"bcgafe\"  \"cdgba\"   \"cbgef\"  \n",
       "\"gbdfcae\" \"bgc\"     \"cg\"      \"cgb\"    \n",
       "\"fgae\"    \"cfgab\"   \"fg\"      \"bagce\"  \n"
      ]
     },
     "execution_count": 44,
     "metadata": {},
     "output_type": "execute_result"
    }
   ],
   "source": [
    "input:vs[\" | \"] each read0 `:test.txt\n",
    "sig:vs[\" \"] each input[;0]\n",
    "dig:vs[\" \"] each input[;1]\n",
    "dig"
   ]
  },
  {
   "cell_type": "code",
   "execution_count": 39,
   "id": "b9004510",
   "metadata": {},
   "outputs": [
    {
     "data": {
      "text/plain": [
       "7 5 6 4!(,0;,1;,2;,3)\n",
       "6 3 7 2!(,0;,1;,2;,3)\n",
       "2 6 3!(0 1;,2;,3)\n",
       "6 5 2!(0 2;,1;,3)\n",
       "4 7 3 5!(,0;,1;,2;,3)\n",
       "7 4 2!(0 3;,1;,2)\n",
       "4 5 7!(0 2;,1;,3)\n",
       "2 6 5!(,0;,1;2 3)\n",
       "7 3 2!(,0;1 3;,2)\n",
       "4 5 2!(,0;1 3;,2)\n"
      ]
     },
     "execution_count": 39,
     "metadata": {},
     "output_type": "execute_result"
    }
   ],
   "source": [
    "/ group by digit counts\n",
    "{group count each x} each dig"
   ]
  },
  {
   "cell_type": "code",
   "execution_count": 40,
   "id": "066ebd84",
   "metadata": {},
   "outputs": [
    {
     "data": {
      "text/plain": [
       "2 3 4 7!0N 0N 1 1\n",
       "2 3 4 7!1 1 0N 1\n",
       "2 3 4 7!2 1 0N 0N\n",
       "2 3 4 7!1 0N 0N 0N\n",
       "2 3 4 7!0N 1 1 1\n",
       "2 3 4 7!1 0N 1 2\n",
       "2 3 4 7!0N 0N 2 1\n",
       "2 3 4 7!1 0N 0N 0N\n",
       "2 3 4 7!1 2 0N 1\n",
       "2 3 4 7!1 0N 1 0N\n"
      ]
     },
     "execution_count": 40,
     "metadata": {},
     "output_type": "execute_result"
    }
   ],
   "source": [
    "/ count occurrences in each group and take only digits 1, 4, 7, 8 - 2, 4, 3 and 7 segments correspondingly\n",
    "{2 3 4 7#count each group count each x} each dig"
   ]
  },
  {
   "cell_type": "code",
   "execution_count": 45,
   "id": "ba9915d3",
   "metadata": {},
   "outputs": [
    {
     "data": {
      "text/plain": [
       "26\n"
      ]
     },
     "execution_count": 45,
     "metadata": {},
     "output_type": "execute_result"
    }
   ],
   "source": [
    "/ part 1\n",
    "sum {sum 2 3 4 7#count each group count each x} each dig"
   ]
  },
  {
   "cell_type": "code",
   "execution_count": null,
   "id": "cdefbb94",
   "metadata": {},
   "outputs": [],
   "source": []
  }
 ],
 "metadata": {
  "kernelspec": {
   "display_name": "Q (kdb+)",
   "language": "q",
   "name": "qpk"
  },
  "language_info": {
   "file_extension": ".q",
   "mimetype": "text/x-q",
   "name": "q",
   "version": "4.0"
  }
 },
 "nbformat": 4,
 "nbformat_minor": 5
}
