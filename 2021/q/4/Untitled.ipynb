{
 "cells": [
  {
   "cell_type": "code",
   "execution_count": 4,
   "id": "da7fa480",
   "metadata": {},
   "outputs": [
    {
     "data": {
      "text/plain": [
       "\"7,4,9,5,11,17,23,2,0,14,21,24,10,16,13,6,15,25,12,22,18,20,8,19,3,26,1\"\n",
       "\"\"\n",
       "\"22 13 17 11  0\"\n",
       "\" 8  2 23  4 24\"\n",
       "\"21  9 14 16  7\"\n",
       "\" 6 10  3 18  5\"\n",
       "\" 1 12 20 15 19\"\n",
       "\"\"\n",
       "\" 3 15  0  2 22\"\n",
       "\" 9 18 13 17  5\"\n"
      ]
     },
     "execution_count": 4,
     "metadata": {},
     "output_type": "execute_result"
    }
   ],
   "source": [
    "lines:read0 `:test.txt\n",
    "10#lines"
   ]
  },
  {
   "cell_type": "code",
   "execution_count": 7,
   "id": "a9e7312b",
   "metadata": {},
   "outputs": [
    {
     "data": {
      "text/plain": [
       "7 4 9 5 11 17 23 2 0 14 21 24 10 16 13 6 15 25 12 22 18 20 8 19 3 26 1\n"
      ]
     },
     "execution_count": 7,
     "metadata": {},
     "output_type": "execute_result"
    }
   ],
   "source": [
    "draws:\"J\"$\",\" vs lines[0]\n",
    "draws"
   ]
  },
  {
   "cell_type": "code",
   "execution_count": 98,
   "id": "878c8cdd",
   "metadata": {},
   "outputs": [
    {
     "data": {
      "text/plain": [
       "\"22 13 17 11  0\"\n",
       "\" 8  2 23  4 24\"\n",
       "\"21  9 14 16  7\"\n",
       "\" 6 10  3 18  5\"\n",
       "\" 1 12 20 15 19\"\n"
      ]
     },
     "execution_count": 98,
     "metadata": {},
     "output_type": "execute_result"
    }
   ],
   "source": [
    "sBoards:1_'6 cut 1_lines\n",
    "first sBoards"
   ]
  },
  {
   "cell_type": "code",
   "execution_count": 117,
   "id": "bb0a6a17",
   "metadata": {},
   "outputs": [
    {
     "data": {
      "text/plain": [
       "22 8 21 6 1 13 2 9 10 12 17 23 14 3 20 11 4 16 18 15 0 24 7 5 19\n"
      ]
     },
     "execution_count": 117,
     "metadata": {},
     "output_type": "execute_result"
    }
   ],
   "source": [
    "boards:{raze (\"JJJJJ\";2 3 3 3 3) 0:x} each sBoards\n",
    "first boards"
   ]
  },
  {
   "cell_type": "code",
   "execution_count": 179,
   "id": "1979adcc",
   "metadata": {},
   "outputs": [
    {
     "data": {
      "text/plain": [
       "0N 8 21 6 1 0N 2 9 10 12 0N 23 14 3 20 0N 4 16 18 15 0N 24 7 5 19\n"
      ]
     },
     "execution_count": 179,
     "metadata": {},
     "output_type": "execute_result"
    }
   ],
   "source": [
    "b:first boards\n",
    "marked:@[b;0 5 10 15 20;:;0N]\n",
    "marked"
   ]
  },
  {
   "cell_type": "code",
   "execution_count": 180,
   "id": "1c132816",
   "metadata": {},
   "outputs": [
    {
     "data": {
      "text/plain": [
       "0  5  10 15 20\n",
       "1  6  11 16 21\n",
       "2  7  12 17 22\n",
       "3  8  13 18 23\n",
       "4  9  14 19 24\n",
       "0  1  2  3  4 \n",
       "5  6  7  8  9 \n",
       "10 11 12 13 14\n",
       "15 16 17 18 19\n",
       "20 21 22 23 24\n"
      ]
     },
     "execution_count": 180,
     "metadata": {},
     "output_type": "execute_result"
    }
   ],
   "source": [
    "idx:{x+5*til 5} each til 5\n",
    "check:idx,flip idx\n",
    "check"
   ]
  },
  {
   "cell_type": "code",
   "execution_count": 181,
   "id": "70f3eec8",
   "metadata": {},
   "outputs": [
    {
     "data": {
      "text/plain": [
       "1b\n"
      ]
     },
     "execution_count": 181,
     "metadata": {},
     "output_type": "execute_result"
    }
   ],
   "source": [
    "any all each null won each check"
   ]
  },
  {
   "cell_type": "code",
   "execution_count": 189,
   "id": "28cc1af1",
   "metadata": {},
   "outputs": [],
   "source": [
    "checkIfWon:{any all each null x each check}"
   ]
  },
  {
   "cell_type": "code",
   "execution_count": 197,
   "id": "1e3e9c79",
   "metadata": {},
   "outputs": [
    {
     "data": {
      "text/plain": [
       "000000000000011111111111111b\n"
      ]
     },
     "execution_count": 197,
     "metadata": {},
     "output_type": "execute_result"
    }
   ],
   "source": [
    "checkIfWon each {i:x?y;$[i<25;@[x;i;:;0N];x]}\\[b;draws]"
   ]
  },
  {
   "cell_type": "code",
   "execution_count": 198,
   "id": "b290b9b7",
   "metadata": {},
   "outputs": [
    {
     "data": {
      "text/plain": [
       "13\n"
      ]
     },
     "execution_count": 198,
     "metadata": {},
     "output_type": "execute_result"
    }
   ],
   "source": [
    "(checkIfWon each {i:x?y;$[i<25;@[x;i;:;0N];x]}\\[b;draws])?1b"
   ]
  },
  {
   "cell_type": "code",
   "execution_count": 218,
   "id": "902dda37",
   "metadata": {},
   "outputs": [
    {
     "data": {
      "text/plain": [
       "4512\n"
      ]
     },
     "execution_count": 218,
     "metadata": {},
     "output_type": "execute_result"
    }
   ],
   "source": [
    "last first asc {idx:(checkIfWon each b:{i:x?y;$[i<25;@[x;i;:;0N];x]}\\[x;draws])?1b;:(idx;draws[idx]*sum b idx)} each boards"
   ]
  },
  {
   "cell_type": "code",
   "execution_count": 13,
   "id": "a8e37a32",
   "metadata": {},
   "outputs": [
    {
     "data": {
      "text/plain": [
       "46920 12635\n"
      ]
     },
     "execution_count": 13,
     "metadata": {},
     "output_type": "execute_result"
    }
   ],
   "source": [
    "/ part1 full\n",
    "fn:{\n",
    "    lines:read0 x;\n",
    "    draws:\"J\"$\",\" vs lines[0];\n",
    "    boards:{raze (\"JJJJJ\";2 3 3 3 3) 0:x} each 1_'6 cut 1_lines;\n",
    "    results:{\n",
    "        check:idx,flip idx:{x+5*til 5} each til 5;\n",
    "        checkIfWon:{any all each null x each y}[;check];\n",
    "        won:checkIfWon each b:{i:x?y;$[i<25;@[x;i;:;0N];x]}\\[x;y];\n",
    "        idx:won?1b;\n",
    "        :(idx;y[idx]*sum b idx)\n",
    "     }[;draws] each boards;\n",
    "    {last first x} each (asc;desc)@\\: results\n",
    " };\n",
    "fn `:input.txt"
   ]
  }
 ],
 "metadata": {
  "kernelspec": {
   "display_name": "Q (kdb+)",
   "language": "q",
   "name": "qpk"
  },
  "language_info": {
   "file_extension": ".q",
   "mimetype": "text/x-q",
   "name": "q",
   "version": "4.0"
  }
 },
 "nbformat": 4,
 "nbformat_minor": 5
}
