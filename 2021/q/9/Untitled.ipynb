{
 "cells": [
  {
   "cell_type": "code",
   "execution_count": 1,
   "id": "d2eb043e",
   "metadata": {},
   "outputs": [
    {
     "name": "stdout",
     "output_type": "stream",
     "text": [
      "(\"2199943210\";\"3987894921\";\"9856789892\";\"8767896789\";\"9899965678\")\n"
     ]
    },
    {
     "data": {
      "text/plain": [
       "2 1 9 9 9 4 3 2 1 0\n",
       "3 9 8 7 8 9 4 9 2 1\n",
       "9 8 5 6 7 8 9 8 9 2\n",
       "8 7 6 7 8 9 6 7 8 9\n",
       "9 8 9 9 9 6 5 6 7 8\n"
      ]
     },
     "execution_count": 1,
     "metadata": {},
     "output_type": "execute_result"
    }
   ],
   "source": [
    "input:-48+$[\"j\"] each 0N!read0 `:test.txt\n",
    "input"
   ]
  },
  {
   "cell_type": "code",
   "execution_count": 161,
   "id": "5ce0361a",
   "metadata": {},
   "outputs": [
    {
     "name": "stdout",
     "output_type": "stream",
     "text": [
      "1 9 9 9 4 3 2 1 0 0w\n"
     ]
    },
    {
     "data": {
      "text/plain": [
       "0100000001b\n"
      ]
     },
     "execution_count": 161,
     "metadata": {},
     "output_type": "execute_result"
    }
   ],
   "source": [
    "l<0N!0w^next l:2 1 9 9 9 4 3 2 1 0"
   ]
  },
  {
   "cell_type": "code",
   "execution_count": 162,
   "id": "423de623",
   "metadata": {},
   "outputs": [
    {
     "data": {
      "text/plain": [
       "0100000001b\n",
       "1001001001b\n",
       "0010000101b\n",
       "0010001000b\n",
       "0100001000b\n"
      ]
     },
     "execution_count": 162,
     "metadata": {},
     "output_type": "execute_result"
    }
   ],
   "source": [
    "i1:{(x[0]<x 1)&x[0]<x 2} 0w^(::;prev;next)@/:\\:input\n",
    "i1"
   ]
  },
  {
   "cell_type": "code",
   "execution_count": 163,
   "id": "097c4595",
   "metadata": {},
   "outputs": [
    {
     "data": {
      "text/plain": [
       "1100011111b\n",
       "0000000000b\n",
       "0011110000b\n",
       "1100000000b\n",
       "0000011111b\n"
      ]
     },
     "execution_count": 163,
     "metadata": {},
     "output_type": "execute_result"
    }
   ],
   "source": [
    "i2:flip {(x[0]<x 1)&x[0]<x 2} 0w^(::;prev;next)@/:\\:flip input\n",
    "i2"
   ]
  },
  {
   "cell_type": "code",
   "execution_count": 164,
   "id": "85c62cac",
   "metadata": {},
   "outputs": [
    {
     "data": {
      "text/plain": [
       "15\n"
      ]
     },
     "execution_count": 164,
     "metadata": {},
     "output_type": "execute_result"
    }
   ],
   "source": [
    "sum 1+raze {x where y}'[input;lowPoints:i1&'i2]"
   ]
  },
  {
   "cell_type": "code",
   "execution_count": 165,
   "id": "cb36f8fe",
   "metadata": {},
   "outputs": [
    {
     "data": {
      "text/plain": [
       "0100000001b\n",
       "0000000000b\n",
       "0010000000b\n",
       "0000000000b\n",
       "0000001000b\n"
      ]
     },
     "execution_count": 165,
     "metadata": {},
     "output_type": "execute_result"
    }
   ],
   "source": [
    "lowPoints"
   ]
  },
  {
   "cell_type": "code",
   "execution_count": 166,
   "id": "c4f21082",
   "metadata": {},
   "outputs": [
    {
     "data": {
      "text/plain": [
       "0 1\n",
       "0 9\n",
       "2 2\n",
       "4 6\n"
      ]
     },
     "execution_count": 166,
     "metadata": {},
     "output_type": "execute_result"
    }
   ],
   "source": [
    "/ find (x;y) coords of low points - start points for traversal\n",
    "lowPointsCoordinates:raze {flip (count[w]#x;w:where lowPoints x)} each til count lowPoints\n",
    "lowPointsCoordinates"
   ]
  },
  {
   "cell_type": "code",
   "execution_count": 167,
   "id": "ab5858c5",
   "metadata": {},
   "outputs": [],
   "source": [
    "/ simple grid traversal\n",
    "/ make use of the fact out-of-boundaries value for boolean list is 0b\n",
    "fn:{[tovisit;start]\n",
    "    cnt:0;\n",
    "    queue:enlist start;\n",
    "    while[(0<count queue) and cnt<100000;\n",
    "        p:first queue;\n",
    "        queue:1_queue;\n",
    "        x:p 0;y:p 1;\n",
    "        if[tovisit[x;y];\n",
    "            tovisit[x;y]:0b; \n",
    "            cnt+:1;\n",
    "            c:c where .[tovisit] each c:+[p] each (-1 0;0 -1;1 0;0 1);\n",
    "            queue,:c except queue;\n",
    "         ];\n",
    "     ]; \n",
    "\n",
    "    cnt\n",
    " };"
   ]
  },
  {
   "cell_type": "code",
   "execution_count": 171,
   "id": "786c9ea4",
   "metadata": {},
   "outputs": [
    {
     "data": {
      "text/plain": [
       "1100011111b\n",
       "1011101011b\n",
       "0111110101b\n",
       "1111101110b\n",
       "0100011111b\n"
      ]
     },
     "execution_count": 171,
     "metadata": {},
     "output_type": "execute_result"
    }
   ],
   "source": [
    "/ example\n",
    "input<>9"
   ]
  },
  {
   "cell_type": "code",
   "execution_count": 172,
   "id": "763fe3a3",
   "metadata": {},
   "outputs": [
    {
     "data": {
      "text/plain": [
       "3\n"
      ]
     },
     "execution_count": 172,
     "metadata": {},
     "output_type": "execute_result"
    }
   ],
   "source": [
    "fn[input<>9;0 0]"
   ]
  },
  {
   "cell_type": "code",
   "execution_count": 173,
   "id": "88baba49",
   "metadata": {},
   "outputs": [
    {
     "data": {
      "text/plain": [
       "1134\n"
      ]
     },
     "execution_count": 173,
     "metadata": {},
     "output_type": "execute_result"
    }
   ],
   "source": [
    "/ part 2\n",
    "prd 3#desc fn[input<>9;] each lowPointsCoordinates"
   ]
  },
  {
   "cell_type": "code",
   "execution_count": null,
   "id": "1d6ab378",
   "metadata": {},
   "outputs": [],
   "source": []
  }
 ],
 "metadata": {
  "kernelspec": {
   "display_name": "Q (kdb+)",
   "language": "q",
   "name": "qpk"
  },
  "language_info": {
   "file_extension": ".q",
   "mimetype": "text/x-q",
   "name": "q",
   "version": "4.0"
  }
 },
 "nbformat": 4,
 "nbformat_minor": 5
}
