{
 "cells": [
  {
   "cell_type": "code",
   "execution_count": 90,
   "id": "1982b604",
   "metadata": {},
   "outputs": [
    {
     "data": {
      "text/plain": [
       "\"0,9\" \"5,9\"\n",
       "\"8,0\" \"0,8\"\n",
       "\"9,4\" \"3,4\"\n",
       "\"2,2\" \"2,1\"\n",
       "\"7,0\" \"7,4\"\n",
       "\"6,4\" \"2,0\"\n",
       "\"0,9\" \"2,9\"\n",
       "\"3,4\" \"1,4\"\n",
       "\"0,0\" \"8,8\"\n",
       "\"5,5\" \"8,2\"\n"
      ]
     },
     "execution_count": 90,
     "metadata": {},
     "output_type": "execute_result"
    }
   ],
   "source": [
    "i1:vs[\" -> \"] each read0 `:test.txt\n",
    "i1"
   ]
  },
  {
   "cell_type": "code",
   "execution_count": 91,
   "id": "038b0279",
   "metadata": {},
   "outputs": [
    {
     "data": {
      "text/plain": [
       "0 9 5 9\n",
       "8 0 0 8\n",
       "9 4 3 4\n",
       "2 2 2 1\n",
       "7 0 7 4\n",
       "6 4 2 0\n",
       "0 9 2 9\n",
       "3 4 1 4\n",
       "0 0 8 8\n",
       "5 5 8 2\n"
      ]
     },
     "execution_count": 91,
     "metadata": {},
     "output_type": "execute_result"
    }
   ],
   "source": [
    "i2:{\"J\"$vs[\",\"] each x} each i1\n",
    "i2"
   ]
  },
  {
   "cell_type": "code",
   "execution_count": 92,
   "id": "73ea4565",
   "metadata": {},
   "outputs": [
    {
     "data": {
      "text/plain": [
       "2 2 2 1\n",
       "7 0 7 4\n"
      ]
     },
     "execution_count": 92,
     "metadata": {},
     "output_type": "execute_result"
    }
   ],
   "source": [
    "i2 where .[=] flip i2[;;0]"
   ]
  },
  {
   "cell_type": "code",
   "execution_count": 50,
   "id": "ce374080",
   "metadata": {},
   "outputs": [
    {
     "data": {
      "text/plain": [
       "0 9 5 9\n",
       "9 4 3 4\n",
       "2 2 2 1\n",
       "7 0 7 4\n",
       "0 9 2 9\n",
       "3 4 1 4\n"
      ]
     },
     "execution_count": 50,
     "metadata": {},
     "output_type": "execute_result"
    }
   ],
   "source": [
    "vhends:i2 where any {.[=] flip i2[;;x]} each 0 1\n",
    "vhends"
   ]
  },
  {
   "cell_type": "code",
   "execution_count": 95,
   "id": "5095b711",
   "metadata": {},
   "outputs": [
    {
     "data": {
      "text/plain": [
       "0 1 2 3 4 5   ,0       \n",
       "0 1 2 3 4 5 6 ,0       \n",
       ",0            0 1      \n",
       ",0            0 1 2 3 4\n",
       "0 1 2         ,0       \n",
       "0 1 2         ,0       \n"
      ]
     },
     "execution_count": 95,
     "metadata": {},
     "output_type": "execute_result"
    }
   ],
   "source": [
    "{til each 1+abs x-y}.'vhends"
   ]
  },
  {
   "cell_type": "code",
   "execution_count": 234,
   "id": "1bf43d56",
   "metadata": {},
   "outputs": [
    {
     "data": {
      "text/plain": [
       "(0 9;1 9;2 9;3 9;4 9;5 9)\n",
       "(9 4;8 4;7 4;6 4;5 4;4 4;3 4)\n",
       "(2 2;2 1)\n",
       "(7 0;7 1;7 2;7 3;7 4)\n",
       "(0 9;1 9;2 9)\n",
       "(3 4;2 4;1 4)\n"
      ]
     },
     "execution_count": 234,
     "metadata": {},
     "output_type": "execute_result"
    }
   ],
   "source": [
    "vhlines:{flip #[max d] each x+signum[y-x]*til each d:1+abs x-y}.'vhends\n",
    "vhlines"
   ]
  },
  {
   "cell_type": "code",
   "execution_count": 235,
   "id": "9b50b56e",
   "metadata": {},
   "outputs": [
    {
     "data": {
      "text/plain": [
       "5i\n"
      ]
     },
     "execution_count": 235,
     "metadata": {},
     "output_type": "execute_result"
    }
   ],
   "source": [
    "sum 1<count each group raze vhlines"
   ]
  },
  {
   "cell_type": "code",
   "execution_count": 236,
   "id": "cf203ff4",
   "metadata": {},
   "outputs": [
    {
     "data": {
      "text/plain": [
       "6189i\n"
      ]
     },
     "execution_count": 236,
     "metadata": {},
     "output_type": "execute_result"
    }
   ],
   "source": [
    "/ part1\n",
    "i2:{\"J\"$vs[\",\"] each x} each vs[\" -> \"] each read0 `:input.txt\n",
    "sum 1<count each group raze {flip #[max d] each x+signum[y-x]*til each d:1+abs x-y}.'i2 where any {.[=] flip i2[;;x]} each 0 1"
   ]
  },
  {
   "cell_type": "code",
   "execution_count": 238,
   "id": "d9d22f2f",
   "metadata": {},
   "outputs": [
    {
     "data": {
      "text/plain": [
       "19164i\n"
      ]
     },
     "execution_count": 238,
     "metadata": {},
     "output_type": "execute_result"
    }
   ],
   "source": [
    "/part 2\n",
    "sum 1<count each group raze {flip #[max d] each x+signum[y-x]*til each d:1+abs x-y}.'i2 "
   ]
  },
  {
   "cell_type": "code",
   "execution_count": null,
   "id": "165f2803",
   "metadata": {},
   "outputs": [],
   "source": []
  }
 ],
 "metadata": {
  "kernelspec": {
   "display_name": "Q (kdb+)",
   "language": "q",
   "name": "qpk"
  },
  "language_info": {
   "file_extension": ".q",
   "mimetype": "text/x-q",
   "name": "q",
   "version": "4.0"
  }
 },
 "nbformat": 4,
 "nbformat_minor": 5
}
