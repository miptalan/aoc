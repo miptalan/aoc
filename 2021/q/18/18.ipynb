{
 "cells": [
  {
   "cell_type": "code",
   "execution_count": 1,
   "id": "2ebca06c",
   "metadata": {},
   "outputs": [
    {
     "data": {
      "text/plain": [
       "\"[[[[[9,8],1],2],3],4]\"\n"
      ]
     },
     "execution_count": 1,
     "metadata": {},
     "output_type": "execute_result"
    }
   ],
   "source": [
    "t1:\"[[[[[9,8],1],2],3],4]\"\n",
    "t1"
   ]
  },
  {
   "cell_type": "code",
   "execution_count": 36,
   "id": "c8f3837e",
   "metadata": {},
   "outputs": [
    {
     "data": {
      "text/plain": [
       "\"((((9 8;1);2);3);4)\"\n"
      ]
     },
     "execution_count": 36,
     "metadata": {},
     "output_type": "execute_result"
    }
   ],
   "source": [
    "/ brackets escaping required https://code.kx.com/q/basics/regex/#matching-special-characters\n",
    "prepare:{value ssr/[x;(\"[[]\";\"[]]\";\",\");\"();\"]}\n",
    "pt1:prepare t1\n",
    ".Q.s1 pt1"
   ]
  },
  {
   "cell_type": "code",
   "execution_count": 40,
   "id": "f4ea5595",
   "metadata": {},
   "outputs": [
    {
     "name": "stdout",
     "output_type": "stream",
     "text": [
      "(((((9 5;8 5);1 4);2 3);3 2);4 1)\n"
     ]
    },
    {
     "data": {
      "text/plain": [
       "\"(9 5;8 5;1 4;2 3;3 2;4 1)\"\n"
      ]
     },
     "execution_count": 40,
     "metadata": {},
     "output_type": "execute_result"
    }
   ],
   "source": [
    "/ recursively traverse nested lists, flatten result and cut into pairs\n",
    "traverse:{$[0>type x;(x;y);traverse[;y+1] each x]}\n",
    "ft1:2 cut (raze/) 0N!traverse[pt1;0]\n",
    ".Q.s1 ft1 "
   ]
  },
  {
   "cell_type": "code",
   "execution_count": 41,
   "id": "4921ddf3",
   "metadata": {},
   "outputs": [
    {
     "data": {
      "text/plain": [
       "\"(9 5;8 5;1 4;2 3;3 2;4 1)\"\n"
      ]
     },
     "execution_count": 41,
     "metadata": {},
     "output_type": "execute_result"
    }
   ],
   "source": [
    "prse:{2 cut (raze/) traverse[prepare x;0]}\n",
    ".Q.s1 prse t1"
   ]
  },
  {
   "cell_type": "code",
   "execution_count": 42,
   "id": "c6100785",
   "metadata": {},
   "outputs": [
    {
     "data": {
      "text/plain": [
       "0\n"
      ]
     },
     "execution_count": 42,
     "metadata": {},
     "output_type": "execute_result"
    }
   ],
   "source": [
    "findIdxToExplode:{x[;1]?5} / index of left value of pair to explode\n",
    "findIdxToExplode ft1"
   ]
  },
  {
   "cell_type": "code",
   "execution_count": 43,
   "id": "0ca4cf49",
   "metadata": {},
   "outputs": [
    {
     "data": {
      "text/plain": [
       "8 5\n",
       "1 4\n",
       "2 3\n",
       "3 2\n",
       "4 1\n"
      ]
     },
     "execution_count": 43,
     "metadata": {},
     "output_type": "execute_result"
    }
   ],
   "source": [
    "removeByIdx:{x (til count x) except y}\n",
    "removeByIdx[ft1;findIdxToExplode ft1]"
   ]
  },
  {
   "cell_type": "markdown",
   "id": "b37cdd21",
   "metadata": {},
   "source": [
    "To explode a pair, the pair's left value is added to the first regular number to the left of the exploding pair (if any), and the pair's right value is added to the first regular number to the right of the exploding pair (if any). Exploding pairs will always consist of two regular numbers. Then, the entire exploding pair is replaced with the regular number 0."
   ]
  },
  {
   "cell_type": "code",
   "execution_count": 44,
   "id": "7885dbac",
   "metadata": {},
   "outputs": [],
   "source": [
    "explodeAt:{[x;eidx]    \n",
    "    if[not eidx within (0;-1+count x);'\"wrong index to explode\",string eidx];\n",
    "    /show \"Exploding \",.Q.s1[x],\" at \",string eidx;\n",
    "    / left value is added to the first regular number to the left of the exploding pair (if any)\n",
    "    if[eidx>0;x[eidx-1;0]+:x[eidx;0]]; \n",
    "    / right value is added to the first regular number to the right of the exploding pair (if any)\n",
    "    / eidx + 1\n",
    "    if[eidx<-2+count x;x[eidx+2;0]+:x[eidx+1;0]];\n",
    "    / replace with 0 and decrease depth by 1\n",
    "    x[eidx+1]:(0;x[eidx+1;1]-1);\n",
    "    / remove left value\n",
    "    removeByIdx[x;eidx]\n",
    " };\n",
    "\n",
    "explode:{eidx:findIdxToExplode x;$[eidx<count x;explodeAt[x;eidx];x]}"
   ]
  },
  {
   "cell_type": "code",
   "execution_count": 45,
   "id": "cb3d4ad6",
   "metadata": {},
   "outputs": [
    {
     "data": {
      "text/plain": [
       "1b\n"
      ]
     },
     "execution_count": 45,
     "metadata": {},
     "output_type": "execute_result"
    }
   ],
   "source": [
    "prse[\"[[[[0,9],2],3],4]\"]~explode ft1"
   ]
  },
  {
   "cell_type": "code",
   "execution_count": 46,
   "id": "6a168aa1",
   "metadata": {},
   "outputs": [
    {
     "data": {
      "text/plain": [
       "1b\n"
      ]
     },
     "execution_count": 46,
     "metadata": {},
     "output_type": "execute_result"
    }
   ],
   "source": [
    "prse[\"[7,[6,[5,[7,0]]]]\"]~explode prse \"[7,[6,[5,[4,[3,2]]]]]\""
   ]
  },
  {
   "cell_type": "code",
   "execution_count": 47,
   "id": "2419dbde",
   "metadata": {},
   "outputs": [
    {
     "data": {
      "text/plain": [
       "1b\n"
      ]
     },
     "execution_count": 47,
     "metadata": {},
     "output_type": "execute_result"
    }
   ],
   "source": [
    "prse[\"[[6,[5,[7,0]]],3]\"]~explode prse \"[[6,[5,[4,[3,2]]]],1]\""
   ]
  },
  {
   "cell_type": "code",
   "execution_count": 48,
   "id": "fffd65f8",
   "metadata": {},
   "outputs": [
    {
     "data": {
      "text/plain": [
       "1b\n"
      ]
     },
     "execution_count": 48,
     "metadata": {},
     "output_type": "execute_result"
    }
   ],
   "source": [
    "prse[\"[[3,[2,[8,0]]],[9,[5,[4,[3,2]]]]]\"]~explode prse \"[[3,[2,[1,[7,3]]]],[6,[5,[4,[3,2]]]]]\""
   ]
  },
  {
   "cell_type": "code",
   "execution_count": 49,
   "id": "5bb9f395",
   "metadata": {},
   "outputs": [
    {
     "data": {
      "text/plain": [
       "1b\n"
      ]
     },
     "execution_count": 49,
     "metadata": {},
     "output_type": "execute_result"
    }
   ],
   "source": [
    "prse[\"[[3,[2,[8,0]]],[9,[5,[7,0]]]]\"]~explode prse \"[[3,[2,[8,0]]],[9,[5,[4,[3,2]]]]]\""
   ]
  },
  {
   "cell_type": "code",
   "execution_count": 50,
   "id": "6d594329",
   "metadata": {},
   "outputs": [
    {
     "name": "stdout",
     "output_type": "stream",
     "text": [
      "(9 1;10 2;2 2)\n"
     ]
    },
    {
     "data": {
      "text/plain": [
       "1\n"
      ]
     },
     "execution_count": 50,
     "metadata": {},
     "output_type": "execute_result"
    }
   ],
   "source": [
    "findIdxToSplit:{first where x[;0]>=10} / index of left value of pair to explode\n",
    "findIdxToSplit 0N!prse \"[9,[10,2]]\""
   ]
  },
  {
   "cell_type": "markdown",
   "id": "c29d9293",
   "metadata": {},
   "source": [
    "To split a regular number, replace it with a pair; the left element of the pair should be the regular number divided by two and rounded down, while the right element of the pair should be the regular number divided by two and rounded up. For example, 10 becomes [5,5], 11 becomes [5,6], 12 becomes [6,6], and so on."
   ]
  },
  {
   "cell_type": "code",
   "execution_count": 51,
   "id": "3a720b8c",
   "metadata": {},
   "outputs": [],
   "source": [
    "splitAt:{[x;sidx]\n",
    "    if[not sidx within (0;-1+count x);'\"wrong index to explode: \",string sidx];\n",
    "    /show \"Splitting \",.Q.s1[x],\" at \",string sidx;\n",
    "    p:(0.5*x[sidx;0];1+x[sidx;1]);\n",
    "    (floor p;ceiling p);\n",
    "    :(sidx#x),(floor p;ceiling p),(sidx+1)_x\n",
    " };\n",
    "\n",
    "split:{sidx:findIdxToSplit x;$[null sidx;x;splitAt[x;sidx]]}"
   ]
  },
  {
   "cell_type": "code",
   "execution_count": 52,
   "id": "a386c675",
   "metadata": {},
   "outputs": [
    {
     "data": {
      "text/plain": [
       "\"(5 4;6 4;0 3;10 2;10 2;11 2)\"\n"
      ]
     },
     "execution_count": 52,
     "metadata": {},
     "output_type": "execute_result"
    }
   ],
   "source": [
    ".Q.s1 split prse \"[[[11,0],10],[10,11]]\""
   ]
  },
  {
   "cell_type": "code",
   "execution_count": 53,
   "id": "d4c09155",
   "metadata": {},
   "outputs": [],
   "source": [
    "/ [1,2] + [[3,4],5] becomes [[1,2],[[3,4],5]].\n",
    "doAdd:{r:x,y;r[;1]+:1;r}"
   ]
  },
  {
   "cell_type": "code",
   "execution_count": 54,
   "id": "080f09cf",
   "metadata": {},
   "outputs": [
    {
     "data": {
      "text/plain": [
       "1b\n"
      ]
     },
     "execution_count": 54,
     "metadata": {},
     "output_type": "execute_result"
    }
   ],
   "source": [
    "prse[\"[[1,2],[[3,4],5]]\"]~doAdd[prse \"[1,2]\";prse \"[[3,4],5]\"]"
   ]
  },
  {
   "cell_type": "markdown",
   "id": "0b27a92b",
   "metadata": {},
   "source": [
    "Here is the process of finding the reduced result of [[[[4,3],4],4],[7,[[8,4],9]]] + [1,1]:\n",
    "\n",
    "- after addition: [[[[[4,3],4],4],[7,[[8,4],9]]],[1,1]]\n",
    "- after explode:  [[[[0,7],4],[7,[[8,4],9]]],[1,1]]\n",
    "- after explode:  [[[[0,7],4],[15,[0,13]]],[1,1]]\n",
    "- after split:    [[[[0,7],4],[[7,8],[0,13]]],[1,1]]\n",
    "- after split:    [[[[0,7],4],[[7,8],[0,[6,7]]]],[1,1]]\n",
    "- after explode:  [[[[0,7],4],[[7,8],[6,0]]],[8,1]]"
   ]
  },
  {
   "cell_type": "code",
   "execution_count": 55,
   "id": "0cefc84e",
   "metadata": {},
   "outputs": [
    {
     "data": {
      "text/plain": [
       "1b\n"
      ]
     },
     "execution_count": 55,
     "metadata": {},
     "output_type": "execute_result"
    }
   ],
   "source": [
    "at1:prse\"[[[[4,3],4],4],[7,[[8,4],9]]]\";\n",
    "at2:prse\"[1,1]\";\n",
    "prse[\"[[[[[4,3],4],4],[7,[[8,4],9]]],[1,1]]\"]~r1:doAdd[at1;at2]"
   ]
  },
  {
   "cell_type": "code",
   "execution_count": 56,
   "id": "e21e8fc5",
   "metadata": {},
   "outputs": [
    {
     "data": {
      "text/plain": [
       "1b\n"
      ]
     },
     "execution_count": 56,
     "metadata": {},
     "output_type": "execute_result"
    }
   ],
   "source": [
    "prse[\"[[[[0,7],4],[7,[[8,4],9]]],[1,1]]\"]~r2:explode r1"
   ]
  },
  {
   "cell_type": "code",
   "execution_count": 57,
   "id": "9ea10d66",
   "metadata": {},
   "outputs": [
    {
     "data": {
      "text/plain": [
       "1b\n"
      ]
     },
     "execution_count": 57,
     "metadata": {},
     "output_type": "execute_result"
    }
   ],
   "source": [
    "prse[\"[[[[0,7],4],[15,[0,13]]],[1,1]]\"]~r3:explode r2"
   ]
  },
  {
   "cell_type": "code",
   "execution_count": 58,
   "id": "46ee1ab2",
   "metadata": {},
   "outputs": [
    {
     "data": {
      "text/plain": [
       "1b\n"
      ]
     },
     "execution_count": 58,
     "metadata": {},
     "output_type": "execute_result"
    }
   ],
   "source": [
    "prse[\"[[[[0,7],4],[[7,8],[0,13]]],[1,1]]\"]~r4:split r3"
   ]
  },
  {
   "cell_type": "code",
   "execution_count": 59,
   "id": "8dd389c8",
   "metadata": {},
   "outputs": [
    {
     "data": {
      "text/plain": [
       "1b\n"
      ]
     },
     "execution_count": 59,
     "metadata": {},
     "output_type": "execute_result"
    }
   ],
   "source": [
    "prse[\"[[[[0,7],4],[[7,8],[0,[6,7]]]],[1,1]]\"]~r5:split r4"
   ]
  },
  {
   "cell_type": "code",
   "execution_count": 60,
   "id": "60806895",
   "metadata": {},
   "outputs": [
    {
     "data": {
      "text/plain": [
       "1b\n"
      ]
     },
     "execution_count": 60,
     "metadata": {},
     "output_type": "execute_result"
    }
   ],
   "source": [
    "prse[\"[[[[0,7],4],[[7,8],[6,0]]],[8,1]]\"]~r6:explode r5"
   ]
  },
  {
   "cell_type": "code",
   "execution_count": 61,
   "id": "59700637",
   "metadata": {},
   "outputs": [
    {
     "data": {
      "text/plain": [
       "1b\n"
      ]
     },
     "execution_count": 61,
     "metadata": {},
     "output_type": "execute_result"
    }
   ],
   "source": [
    "prse[\"[[[[0,7],4],[[7,8],[6,0]]],[8,1]]\"]~reduce/[doAdd[at1;at2]]"
   ]
  },
  {
   "cell_type": "code",
   "execution_count": 62,
   "id": "8dbf2f00",
   "metadata": {},
   "outputs": [],
   "source": [
    "reduce:{\n",
    "    eidx:findIdxToExplode x;\n",
    "    if[eidx<count x;:explodeAt[x;eidx]];\n",
    "    sidx:findIdxToSplit x;\n",
    "    if[not null sidx;:splitAt[x;sidx]];\n",
    "    x\n",
    " };\n",
    "\n",
    "add:{reduce/[doAdd[x;y]]}"
   ]
  },
  {
   "cell_type": "code",
   "execution_count": 63,
   "id": "2b6c7c82",
   "metadata": {},
   "outputs": [
    {
     "data": {
      "text/plain": [
       "1b\n"
      ]
     },
     "execution_count": 63,
     "metadata": {},
     "output_type": "execute_result"
    }
   ],
   "source": [
    "prse[\"[[[[0,7],4],[[7,8],[6,0]]],[8,1]]\"]~add[at1;at2]"
   ]
  },
  {
   "cell_type": "code",
   "execution_count": 64,
   "id": "cc437c10",
   "metadata": {},
   "outputs": [],
   "source": [
    "magnitude:{\n",
    "    if[0>type x;:x];\n",
    "    if[0~x[0;1];:x[0;0]];\n",
    "\n",
    "    midx:x[;1]?max x[;1];\n",
    "    m:(3*x[midx;0])+2*x[midx+1;0];\n",
    "    x[midx+1]:(m;x[midx;1]-1);\n",
    "    removeByIdx[x;midx]\n",
    " };\n",
    "\n",
    "m:{magnitude/[x]}"
   ]
  },
  {
   "cell_type": "code",
   "execution_count": 65,
   "id": "f1181be6",
   "metadata": {},
   "outputs": [
    {
     "data": {
      "text/plain": [
       "1b\n"
      ]
     },
     "execution_count": 65,
     "metadata": {},
     "output_type": "execute_result"
    }
   ],
   "source": [
    "3488=m[prse \"[[[[8,7],[7,7]],[[8,6],[7,7]]],[[[0,7],[6,6]],[8,7]]]\"]"
   ]
  },
  {
   "cell_type": "code",
   "execution_count": 66,
   "id": "5f2436f4",
   "metadata": {},
   "outputs": [
    {
     "name": "stdout",
     "output_type": "stream",
     "text": [
      "143\n",
      "1384\n",
      "445\n",
      "791\n",
      "1137\n",
      "3488\n"
     ]
    },
    {
     "data": {
      "text/plain": [
       "1b\n"
      ]
     },
     "execution_count": 66,
     "metadata": {},
     "output_type": "execute_result"
    }
   ],
   "source": [
    "d:()!()\n",
    "d[enlist \"[[1,2],[[3,4],5]]\"]:143\n",
    "d[enlist \"[[[[0,7],4],[[7,8],[6,0]]],[8,1]]\"]:1384\n",
    "d[enlist \"[[[[1,1],[2,2]],[3,3]],[4,4]]\"]:445\n",
    "d[enlist \"[[[[3,0],[5,3]],[4,4]],[5,5]]\"]:791\n",
    "d[enlist \"[[[[5,0],[7,4]],[5,5]],[6,6]]\"]: 1137\n",
    "d[enlist \"[[[[8,7],[7,7]],[[8,6],[7,7]]],[[[0,7],[6,6]],[8,7]]]\"]:3488\n",
    "\n",
    "all {y=0N!m prse x}'[key d;value d]"
   ]
  },
  {
   "cell_type": "code",
   "execution_count": 67,
   "id": "c8406920",
   "metadata": {},
   "outputs": [
    {
     "data": {
      "text/plain": [
       "(1 1;2 1)\n",
       "(1 2;2 2;3 1)\n",
       "(9 1;8 2;7 2)\n",
       "(1 2;9 2;8 2;5 2)\n",
       "(1 4;2 4;3 4;4 4;5 4;6 4;7 4;8 4;9 1)\n",
       "(9 3;3 4;8 4;0 4;9 4;6 3;3 4;7 4;4 4;9 4;3 2)\n",
       "(1 4;3 4;5 4;3 4;1 4;3 4;8 4;7 4;4 4;9 4;6 4;9 4;8 4;2 4;7 4;3 4)\n"
      ]
     },
     "execution_count": 67,
     "metadata": {},
     "output_type": "execute_result"
    }
   ],
   "source": [
    "snums:prse each read0 `:test.txt\n",
    "snums"
   ]
  },
  {
   "cell_type": "code",
   "execution_count": 68,
   "id": "25bb4d02",
   "metadata": {},
   "outputs": [
    {
     "data": {
      "text/plain": [
       "4230\n"
      ]
     },
     "execution_count": 68,
     "metadata": {},
     "output_type": "execute_result"
    }
   ],
   "source": [
    "/ part 1 - accumulate result of sequential addition and calculate magnitude\n",
    "m add/[first snums;1_snums]"
   ]
  },
  {
   "cell_type": "code",
   "execution_count": 69,
   "id": "388bfc13",
   "metadata": {},
   "outputs": [
    {
     "data": {
      "text/plain": [
       "0 1\n",
       "0 2\n",
       "0 3\n"
      ]
     },
     "execution_count": 69,
     "metadata": {},
     "output_type": "execute_result"
    }
   ],
   "source": [
    "/ all possibe pairs except self\n",
    "p:c cross c:til count snums\n",
    "p:p where not p[;0]=p[;1]\n",
    "3#p"
   ]
  },
  {
   "cell_type": "code",
   "execution_count": 70,
   "id": "101201e6",
   "metadata": {},
   "outputs": [
    {
     "data": {
      "text/plain": [
       "4647\n"
      ]
     },
     "execution_count": 70,
     "metadata": {},
     "output_type": "execute_result"
    }
   ],
   "source": [
    "/ part 2 - maximum magnitude of all possible pairs added\n",
    "max m each add .' snums @ p"
   ]
  }
 ],
 "metadata": {
  "kernelspec": {
   "display_name": "Q (kdb+)",
   "language": "q",
   "name": "qpk"
  },
  "language_info": {
   "file_extension": ".q",
   "mimetype": "text/x-q",
   "name": "q",
   "version": "4.0"
  }
 },
 "nbformat": 4,
 "nbformat_minor": 5
}
