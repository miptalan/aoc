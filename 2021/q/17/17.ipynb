{
 "cells": [
  {
   "cell_type": "code",
   "execution_count": 366,
   "id": "0221d453",
   "metadata": {},
   "outputs": [
    {
     "name": "stdout",
     "output_type": "stream",
     "text": [
      "20 30 -10 -5\n"
     ]
    },
    {
     "data": {
      "text/plain": [
       "`x1`x2`y1`y2\n"
      ]
     },
     "execution_count": 366,
     "metadata": {},
     "output_type": "execute_result"
    }
   ],
   "source": [
    "input:0N!raze parse each ssr[;\"..\";\" \"] each \", y=\" vs 15_first read0 `:test.txt\n",
    "set'[`x1`x2`y1`y2;input]\n",
    "target:{(x within (x1;x2)) and y within (y1;y2)}"
   ]
  },
  {
   "cell_type": "code",
   "execution_count": 367,
   "id": "5fcd415a",
   "metadata": {},
   "outputs": [
    {
     "data": {
      "text/plain": [
       "000111b\n"
      ]
     },
     "execution_count": 367,
     "metadata": {},
     "output_type": "execute_result"
    }
   ],
   "source": [
    ".[target] each (1 1;10 -7;25 0;20 -10;30 -5;25 -7)"
   ]
  },
  {
   "cell_type": "code",
   "execution_count": 368,
   "id": "3506c762",
   "metadata": {},
   "outputs": [
    {
     "data": {
      "text/plain": [
       "45\n"
      ]
     },
     "execution_count": 368,
     "metadata": {},
     "output_type": "execute_result"
    }
   ],
   "source": [
    "/ part 1 \n",
    "/  on return probe will cross 0 with velocity -Vy\n",
    "/  max Vy -> max height\n",
    "/  max possible velocity at 0 is the one that gets to lower bound (y1) in 1 step -> -Vy-1=y1\n",
    "/  height is partial sum of [0;Vy]\n",
    "sum til 1+neg y1+1 / or Vy(Vy+1)/2"
   ]
  },
  {
   "cell_type": "code",
   "execution_count": 369,
   "id": "8855a92e",
   "metadata": {},
   "outputs": [
    {
     "data": {
      "text/plain": [
       "-10 -9 -8 -7 -6 -5 -4 -3 -2 -1 0 1 2 3 4 5 6 7 8 9 10 11\n"
      ]
     },
     "execution_count": 369,
     "metadata": {},
     "output_type": "execute_result"
    }
   ],
   "source": [
    "/ part 2\n",
    "/  Vy range [y1;-y1-1] - from 1-shot down to lower (y1) boundary to part 1 shot\n",
    "yrange:y1+til 2-2*y1\n",
    "yrange"
   ]
  },
  {
   "cell_type": "code",
   "execution_count": 381,
   "id": "9da8f722",
   "metadata": {},
   "outputs": [
    {
     "data": {
      "text/plain": [
       "6 7 8 9 10 11 12 13 14 15 16 17 18 19 20 21 22 23 24 25 26 27 28 29 30\n"
      ]
     },
     "execution_count": 381,
     "metadata": {},
     "output_type": "execute_result"
    }
   ],
   "source": [
    "/ Vx range [r1;x2] - from positive root r1 of Vx(Vx+1)/2=lower Bound to 1-shot to far bound\n",
    "xrange:reverse x2-til 1+x2-ceiling {0.5*-1+sqrt 1+4*2*x} x1\n",
    "xrange"
   ]
  },
  {
   "cell_type": "code",
   "execution_count": 373,
   "id": "0c879edd",
   "metadata": {},
   "outputs": [
    {
     "data": {
      "text/plain": [
       "7 2  \n",
       "6 1  \n",
       "5 0  \n",
       "4 -1 \n",
       "3 -2 \n",
       "2 -3 \n",
       "1 -4 \n",
       "0 -5 \n",
       "0 -6 \n",
       "0 -7 \n",
       "0 -8 \n",
       "0 -9 \n",
       "0 -10\n",
       "0 -11\n"
      ]
     },
     "execution_count": 373,
     "metadata": {},
     "output_type": "execute_result"
    }
   ],
   "source": [
    "/ scan as converge - stop when result repeats\n",
    "{x|y-1 1}[(0;-1+y1)]\\[7 2]"
   ]
  },
  {
   "cell_type": "code",
   "execution_count": 374,
   "id": "c94b7704",
   "metadata": {},
   "outputs": [
    {
     "data": {
      "text/plain": [
       "112i\n"
      ]
     },
     "execution_count": 374,
     "metadata": {},
     "output_type": "execute_result"
    }
   ],
   "source": [
    "sum {any target . sums each flip x} each {x|y-1 1}[(0;-1+y1)]\\'[p:xrange cross yrange]"
   ]
  }
 ],
 "metadata": {
  "kernelspec": {
   "display_name": "Q (kdb+)",
   "language": "q",
   "name": "qpk"
  },
  "language_info": {
   "file_extension": ".q",
   "mimetype": "text/x-q",
   "name": "q",
   "version": "4.0"
  }
 },
 "nbformat": 4,
 "nbformat_minor": 5
}
