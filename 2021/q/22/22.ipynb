{
 "cells": [
  {
   "cell_type": "code",
   "execution_count": 27,
   "id": "c55605ad",
   "metadata": {},
   "outputs": [
    {
     "name": "stdout",
     "output_type": "stream",
     "text": [
      "1b (60 60 60;60 60 61;60 60 62;60 61 60;60 61 61;60 61 62;60 62 60;60 62 61;6..\n",
      "1b (61 61 61;61 61 62;61 61 63;61 62 61;61 62 62;61 62 63;61 63 61;61 63 62;6..\n",
      "0b (59 59 59;59 59 60;59 59 61;59 60 59;59 60 60;59 60 61;59 61 59;59 61 60;5..\n",
      "1b ,60 60 60                                                                 ..\n"
     ]
    }
   ],
   "source": [
    "\\T 5\n",
    "f1:{on:\"on \"~3#x;x:$[on;3 _ x;4 _ x];xyz:(2 _) each \",\" vs x;\n",
    "    xyz:50+value each ssr[;\".\";\" \"] each xyz;\n",
    "    xyz:xyz where all flip xyz within 0 100;\n",
    "    (on;(cross/){x[0]+til 1+x[1]-x 0} each xyz)\n",
    " };\n",
    "show input:f1 each read0`test.txt"
   ]
  },
  {
   "cell_type": "code",
   "execution_count": 33,
   "id": "09af586d",
   "metadata": {},
   "outputs": [
    {
     "name": "stdout",
     "output_type": "stream",
     "text": [
      "00000000000000000000000000000000000000000000000000000000000000000000000000000..\n",
      "00000000000000000000000000000000000000000000000000000000000000000000000000000..\n",
      "00000000000000000000000000000000000000000000000000000000000000000000000000000..\n",
      "00000000000000000000000000000000000000000000000000000000000000000000000000000..\n",
      "00000000000000000000000000000000000000000000000000000000000000000000000000000..\n",
      "00000000000000000000000000000000000000000000000000000000000000000000000000000..\n",
      "00000000000000000000000000000000000000000000000000000000000000000000000000000..\n",
      "00000000000000000000000000000000000000000000000000000000000000000000000000000..\n",
      "00000000000000000000000000000000000000000000000000000000000000000000000000000..\n",
      "00000000000000000000000000000000000000000000000000000000000000000000000000000..\n",
      "00000000000000000000000000000000000000000000000000000000000000000000000000000..\n",
      "00000000000000000000000000000000000000000000000000000000000000000000000000000..\n",
      "00000000000000000000000000000000000000000000000000000000000000000000000000000..\n",
      "00000000000000000000000000000000000000000000000000000000000000000000000000000..\n",
      "00000000000000000000000000000000000000000000000000000000000000000000000000000..\n",
      "00000000000000000000000000000000000000000000000000000000000000000000000000000..\n",
      "00000000000000000000000000000000000000000000000000000000000000000000000000000..\n",
      "00000000000000000000000000000000000000000000000000000000000000000000000000000..\n",
      "00000000000000000000000000000000000000000000000000000000000000000000000000000..\n",
      "00000000000000000000000000000000000000000000000000000000000000000000000000000..\n",
      "00000000000000000000000000000000000000000000000000000000000000000000000000000..\n",
      "00000000000000000000000000000000000000000000000000000000000000000000000000000..\n",
      "..\n"
     ]
    },
    {
     "data": {
      "text/plain": [
       "27i\n"
      ]
     },
     "execution_count": 33,
     "metadata": {},
     "output_type": "execute_result"
    }
   ],
   "source": [
    "reactor:101#enlist 101#enlist 101#0b\n",
    "show res:.[;;:;1b]/[reactor;last first input]\n",
    "(sum/)res"
   ]
  },
  {
   "cell_type": "code",
   "execution_count": 29,
   "id": "a4279546",
   "metadata": {},
   "outputs": [
    {
     "data": {
      "text/plain": [
       "39i\n"
      ]
     },
     "execution_count": 29,
     "metadata": {},
     "output_type": "execute_result"
    }
   ],
   "source": [
    "p1:{.[;;:;first y]/[x;last y]}\n",
    "(sum/)p1/[reactor;input]"
   ]
  },
  {
   "cell_type": "code",
   "execution_count": 34,
   "id": "05898f87",
   "metadata": {},
   "outputs": [
    {
     "data": {
      "text/plain": [
       "590784i\n"
      ]
     },
     "execution_count": 34,
     "metadata": {},
     "output_type": "execute_result"
    }
   ],
   "source": [
    "input:input where 0<>count each last each input:f1 each read0`test2.txt\n",
    "reactor:101#enlist 101#enlist 101#0b\n",
    "(sum/)p1/[reactor;input]"
   ]
  },
  {
   "cell_type": "code",
   "execution_count": 3,
   "id": "1c2bb17b",
   "metadata": {},
   "outputs": [],
   "source": [
    "/ part 2 - intersections |A+B|=|A|+|B|-|A U B|"
   ]
  },
  {
   "cell_type": "code",
   "execution_count": 36,
   "id": "0e356268",
   "metadata": {},
   "outputs": [
    {
     "name": "stdout",
     "output_type": "stream",
     "text": [
      "1b (-5 47;-31 22;-19 33)                     \n",
      "1b (-44 5;-27 21;-14 35)                     \n",
      "1b (-49 -1;-11 42;-10 38)                    \n",
      "1b (-20 34;-40 6;-44 1)                      \n",
      "0b (26 39;40 50;-2 11)                       \n",
      "1b (-41 5;-41 6;-36 8)                       \n",
      "0b (-43 -33;-45 -28;7 25)                    \n",
      "1b (-33 15;-32 19;-34 11)                    \n",
      "0b (35 47;-46 -34;-11 5)                     \n",
      "1b (-14 36;-6 44;-16 29)                     \n",
      "1b (-57795 -6158;29564 72030;20435 90618)    \n",
      "1b (36731 105352;-21140 28532;16094 90401)   \n",
      "1b (30999 107136;-53464 15513;8553 71215)    \n",
      "1b (13528 83982;-99403 -27377;-24141 23996)  \n",
      "1b (-72682 -12347;18159 111354;7391 80950)   \n",
      "1b (-1060 80757;-65301 -20884;-103788 -16709)\n",
      "1b (-83015 -9461;-72160 -8347;-81239 -26856) \n",
      "1b (-52752 22273;-49450 9096;54442 119054)   \n",
      "1b (-29982 40483;-108474 -28371;-24328 38471)\n",
      "1b (-4958 62750;40422 118853;-7672 65583)    \n",
      "1b (55694 108686;-43367 46958;-26781 48729)  \n",
      "1b (-98497 -18186;-63569 3412;1232 88485)    \n",
      "..\n"
     ]
    }
   ],
   "source": [
    "\\T 30\n",
    "f2:{\n",
    "    on:\"on \"~3#x;\n",
    "    x:$[on;3 _ x;4 _ x];\n",
    "    xyz:(2 _) each \",\" vs x;\n",
    "    xyz:value each ssr[;\".\";\" \"] each xyz;    \n",
    "    (on;xyz)\n",
    " };\n",
    "show input:f2 each read0`test3.txt"
   ]
  },
  {
   "cell_type": "code",
   "execution_count": 59,
   "id": "4e97b3b4",
   "metadata": {},
   "outputs": [
    {
     "data": {
      "text/plain": [
       "-5  5 \n",
       "-27 21\n",
       "-14 33\n"
      ]
     },
     "execution_count": 59,
     "metadata": {},
     "output_type": "execute_result"
    }
   ],
   "source": [
    "int1:{$[(x[1]<y 0) or y[1]<x 0;:();asc[x,y] 1 2]}\n",
    "int:{res:int1'[x;y];$[all 0<count each res;res;()]}\n",
    "int[(-5 47;-31 22;-19 33);(-44 5;-27 21;-14 35)]"
   ]
  },
  {
   "cell_type": "code",
   "execution_count": 78,
   "id": "1707662f",
   "metadata": {},
   "outputs": [
    {
     "data": {
      "text/plain": [
       "9\n"
      ]
     },
     "execution_count": 78,
     "metadata": {},
     "output_type": "execute_result"
    }
   ],
   "source": [
    "/   0 1 2 3\n",
    "/ 0 x x\n",
    "/ 1 x x x x\n",
    "/ 2   x x x\n",
    "\n",
    "A:(1b;(0 1;0 1))\n",
    "B:(0b;(1 2;1 1))\n",
    "C:(1b;(1 3;1 2))\n",
    "\n",
    "/ build list of intersections - with inverted on/off\n",
    "/ add self if on\n",
    "/ +A\n",
    "/ -A U B\n",
    "/ +B\n",
    "/ etc.\n",
    "p2:{[acc;c]   \n",
    "    res:not[acc[;0]],'enlist each int[last c;] each acc[;1];\n",
    "    acc,:res where not ()~/:res[;1];\n",
    "    if[first c;acc,:c];\n",
    "    acc\n",
    " }\n",
    "res:p2/[enlist A;(B;C)]\n",
    "sum {$[first x;1;-1]*prd 1-.[-] each last x} each res"
   ]
  },
  {
   "cell_type": "code",
   "execution_count": 82,
   "id": "e01bf6ae",
   "metadata": {},
   "outputs": [
    {
     "data": {
      "text/plain": [
       "2758514936282235\n"
      ]
     },
     "execution_count": 82,
     "metadata": {},
     "output_type": "execute_result"
    }
   ],
   "source": [
    "sum {$[first x;1;-1]*prd 1-.[-] each last x} each p2/[1#input;1_input]"
   ]
  },
  {
   "cell_type": "code",
   "execution_count": null,
   "id": "b61a22da",
   "metadata": {},
   "outputs": [],
   "source": []
  }
 ],
 "metadata": {
  "kernelspec": {
   "display_name": "Q (kdb+)",
   "language": "q",
   "name": "qpk"
  },
  "language_info": {
   "file_extension": ".q",
   "mimetype": "text/x-q",
   "name": "q",
   "version": "4.0"
  }
 },
 "nbformat": 4,
 "nbformat_minor": 5
}
