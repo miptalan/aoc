{
 "cells": [
  {
   "cell_type": "code",
   "execution_count": 106,
   "id": "4ba9987c",
   "metadata": {},
   "outputs": [
    {
     "data": {
      "text/plain": [
       "start| `A`b\n",
       "A    | `start`c`b`end\n",
       "b    | `start`A`d`end\n",
       "c    | ,`A\n",
       "d    | ,`b\n",
       "end  | `A`b\n"
      ]
     },
     "execution_count": 106,
     "metadata": {},
     "output_type": "execute_result"
    }
   ],
   "source": [
    "graph:()!();\n",
    "\n",
    "{[line]\n",
    "    ends:`$\"-\" vs line;\n",
    "    \n",
    "    new:ends where not ends in key graph;\n",
    "    graph[new]:count[new]#();\n",
    "\n",
    "    graph[ends 0],:ends 1;\n",
    "    graph[ends 1],:ends 0;\n",
    " } each read0 `:test1.txt;\n",
    "\n",
    "graph"
   ]
  },
  {
   "cell_type": "code",
   "execution_count": 107,
   "id": "739c085c",
   "metadata": {},
   "outputs": [],
   "source": [
    "/ part1 - simple DFS with visited list\n",
    "getPaths1:{[g;s;e;v;p]\n",
    "    p,:s;\n",
    "    if[s=e;:p]; / reached destination\n",
    "    \n",
    "    if[s in v;:()]; / already visited\n",
    "    if[s=lower s;v,:s]; / mark only small as visited\n",
    "    \n",
    "    :raze getPaths1[g;;e;v;p] each g s;\n",
    " };"
   ]
  },
  {
   "cell_type": "code",
   "execution_count": 108,
   "id": "4d074f25",
   "metadata": {},
   "outputs": [
    {
     "name": "stdout",
     "output_type": "stream",
     "text": [
      "10\n"
     ]
    },
    {
     "data": {
      "text/plain": [
       "`start`A`c`A`b`A`end\n",
       "`start`A`c`A`b`end\n",
       "`start`A`c`A`end\n",
       "`start`A`b`A`c`A`end\n",
       "`start`A`b`A`end\n",
       "`start`A`b`end\n",
       "`start`A`end\n",
       "`start`b`A`c`A`end\n",
       "`start`b`A`end\n",
       "`start`b`end\n"
      ]
     },
     "execution_count": 108,
     "metadata": {},
     "output_type": "execute_result"
    }
   ],
   "source": [
    "show count paths:(0,1+-1_where paths=`end) cut paths:getPaths1[graph;`start;`end;();()]\n",
    "paths"
   ]
  },
  {
   "cell_type": "code",
   "execution_count": 109,
   "id": "ddaf7fa5",
   "metadata": {},
   "outputs": [],
   "source": [
    "/ part 2 - DFS with visited map counter\n",
    "getPaths2:{[g;s;e;v;p]\n",
    "    p,:s;\n",
    "    if[s=e;:p]; / reached destination\n",
    "    \n",
    "    if[1<v s;:()]; / already visited enough times\n",
    "    if[s=lower s;v[s]+:1]; / increase visit counter only for small\n",
    "    \n",
    "    :raze getPaths2[g;;e;v;p] each g s;\n",
    " };"
   ]
  },
  {
   "cell_type": "code",
   "execution_count": 110,
   "id": "3d9a44f4",
   "metadata": {},
   "outputs": [
    {
     "data": {
      "text/plain": [
       "start| 1\n",
       "A    | 1\n",
       "b    | 1\n",
       "c    | 1\n",
       "d    | 1\n",
       "end  | 1\n"
      ]
     },
     "execution_count": 110,
     "metadata": {},
     "output_type": "execute_result"
    }
   ],
   "source": [
    "visited:key[graph]!count[graph]#1\n",
    "visited"
   ]
  },
  {
   "cell_type": "code",
   "execution_count": 111,
   "id": "0cb3ccbf",
   "metadata": {},
   "outputs": [
    {
     "name": "stdout",
     "output_type": "stream",
     "text": [
      "10\n"
     ]
    },
    {
     "data": {
      "text/plain": [
       "`start`A`c`A`b`A`end\n",
       "`start`A`c`A`b`end\n",
       "`start`A`c`A`end\n",
       "`start`A`b`A`c`A`end\n",
       "`start`A`b`A`end\n",
       "`start`A`b`end\n",
       "`start`A`end\n",
       "`start`b`A`c`A`end\n",
       "`start`b`A`end\n",
       "`start`b`end\n"
      ]
     },
     "execution_count": 111,
     "metadata": {},
     "output_type": "execute_result"
    }
   ],
   "source": [
    "/ with 1 visit remaining - equivalent to part 1\n",
    "show count paths:(0,1+-1_where paths=`end) cut paths:getPaths2[graph;`start;`end;visited;()]\n",
    "paths"
   ]
  },
  {
   "cell_type": "code",
   "execution_count": 112,
   "id": "166e719e",
   "metadata": {},
   "outputs": [
    {
     "data": {
      "text/plain": [
       "36\n"
      ]
     },
     "execution_count": 112,
     "metadata": {},
     "output_type": "execute_result"
    }
   ],
   "source": [
    "/ part 2 - allow additional visit for each small cave and count distinct resulting paths\n",
    "count distinct raze {\n",
    "    visited:key[graph]!count[graph]#1;\n",
    "    visited[x]:0;\n",
    "    :(0,1+-1_where paths=`end) cut paths:getPaths2[graph;`start;`end;visited;()];\n",
    " } each k where k=lower k:key[graph] except `start`end"
   ]
  },
  {
   "cell_type": "code",
   "execution_count": null,
   "id": "f32d93cb",
   "metadata": {},
   "outputs": [],
   "source": []
  }
 ],
 "metadata": {
  "kernelspec": {
   "display_name": "Q (kdb+)",
   "language": "q",
   "name": "qpk"
  },
  "language_info": {
   "file_extension": ".q",
   "mimetype": "text/x-q",
   "name": "q",
   "version": "4.0"
  }
 },
 "nbformat": 4,
 "nbformat_minor": 5
}
