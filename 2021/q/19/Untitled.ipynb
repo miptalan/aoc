{
 "cells": [
  {
   "cell_type": "code",
   "execution_count": 1,
   "id": "72645090",
   "metadata": {},
   "outputs": [],
   "source": [
    "import numpy as np"
   ]
  },
  {
   "cell_type": "code",
   "execution_count": 2,
   "id": "e3d22d58",
   "metadata": {},
   "outputs": [],
   "source": [
    "P = np.matrix(\"\"\"-618,-824,-621\n",
    "-537,-823,-458\n",
    "-447,-329,318\n",
    "404,-588,-901\n",
    "544,-627,-890\n",
    "528,-643,409\n",
    "-661,-816,-575\n",
    "390,-675,-793\n",
    "423,-701,434\n",
    "-345,-311,381\n",
    "459,-707,401\n",
    "-485,-357,347\"\"\").reshape((-1,3))"
   ]
  },
  {
   "cell_type": "code",
   "execution_count": 3,
   "id": "c24cf3fd",
   "metadata": {},
   "outputs": [],
   "source": [
    "Q = np.matrix(\"\"\"686 422 578 \n",
    "605 423 415 \n",
    "515 917 -361\n",
    "-336 658 858 \n",
    "-476 619 847 \n",
    "-460 603 -452\n",
    "729 430 532 \n",
    "-322 571 750 \n",
    "-355 545 -477\n",
    "413 935 -424\n",
    "-391 539 -444\n",
    "553 889 -390\"\"\").reshape((-1,3))"
   ]
  },
  {
   "cell_type": "code",
   "execution_count": 4,
   "id": "90bdb436",
   "metadata": {},
   "outputs": [],
   "source": [
    "def center(M):\n",
    "    c = np.mean(M, axis=0)\n",
    "    return M-c, c"
   ]
  },
  {
   "cell_type": "code",
   "execution_count": 5,
   "id": "f0de37b5",
   "metadata": {},
   "outputs": [
    {
     "name": "stdout",
     "output_type": "stream",
     "text": [
      "[[-589.25       -207.25       -458.66666667]\n",
      " [-508.25       -206.25       -295.66666667]\n",
      " [-418.25        287.75        480.33333333]\n",
      " [ 432.75         28.75       -738.66666667]\n",
      " [ 572.75        -10.25       -727.66666667]\n",
      " [ 556.75        -26.25        571.33333333]\n",
      " [-632.25       -199.25       -412.66666667]\n",
      " [ 418.75        -58.25       -630.66666667]\n",
      " [ 451.75        -84.25        596.33333333]\n",
      " [-316.25        305.75        543.33333333]\n",
      " [ 487.75        -90.25        563.33333333]\n",
      " [-456.25        259.75        509.33333333]]\n",
      "[[ 589.25       -207.25        458.66666667]\n",
      " [ 508.25       -206.25        295.66666667]\n",
      " [ 418.25        287.75       -480.33333333]\n",
      " [-432.75         28.75        738.66666667]\n",
      " [-572.75        -10.25        727.66666667]\n",
      " [-556.75        -26.25       -571.33333333]\n",
      " [ 632.25       -199.25        412.66666667]\n",
      " [-418.75        -58.25        630.66666667]\n",
      " [-451.75        -84.25       -596.33333333]\n",
      " [ 316.25        305.75       -543.33333333]\n",
      " [-487.75        -90.25       -563.33333333]\n",
      " [ 456.25        259.75       -509.33333333]]\n"
     ]
    }
   ],
   "source": [
    "cP, centroidP = center(P)\n",
    "cQ, centroidQ = center(Q)\n",
    "print(cP)\n",
    "print(cQ)"
   ]
  },
  {
   "cell_type": "code",
   "execution_count": 7,
   "id": "5fc6ef50",
   "metadata": {},
   "outputs": [
    {
     "data": {
      "text/plain": [
       "matrix([[-1.00000000e+00, -2.27744073e-17, -5.73564209e-17],\n",
       "        [ 1.63758187e-17,  1.00000000e+00,  4.46361394e-18],\n",
       "        [ 4.14532894e-17, -1.80948110e-16, -1.00000000e+00]])"
      ]
     },
     "execution_count": 7,
     "metadata": {},
     "output_type": "execute_result"
    }
   ],
   "source": [
    "H = cQ.T*cP\n",
    "U, S, Vt = np.linalg.svd(H)\n",
    "R = Vt.T * U.T\n",
    "if 0>(d:=np.sign(np.linalg.det(R))):\n",
    "    I = np.eye(3)\n",
    "    I[-1,-1] = d\n",
    "    R = Vt.T * I * U.T\n",
    "    \n",
    "t = -R*centroidP.T + centroidQ.T\n",
    "R"
   ]
  },
  {
   "cell_type": "code",
   "execution_count": 8,
   "id": "1d61b4b5",
   "metadata": {},
   "outputs": [
    {
     "data": {
      "text/plain": [
       "matrix([[-476.,  422., -477.],\n",
       "        [-460.,  423., -452.],\n",
       "        [-391.,  430., -444.],\n",
       "        [-355.,  539., -424.],\n",
       "        [-336.,  545., -390.],\n",
       "        [-322.,  571., -361.],\n",
       "        [ 413.,  603.,  415.],\n",
       "        [ 515.,  619.,  532.],\n",
       "        [ 553.,  658.,  578.],\n",
       "        [ 605.,  889.,  750.],\n",
       "        [ 686.,  917.,  847.],\n",
       "        [ 729.,  935.,  858.]])"
      ]
     },
     "execution_count": 8,
     "metadata": {},
     "output_type": "execute_result"
    }
   ],
   "source": [
    "np.sort(cP*R+centroidQ, axis=0)"
   ]
  },
  {
   "cell_type": "code",
   "execution_count": 9,
   "id": "994c7f89",
   "metadata": {},
   "outputs": [
    {
     "data": {
      "text/plain": [
       "matrix([[-476,  422, -477],\n",
       "        [-460,  423, -452],\n",
       "        [-391,  430, -444],\n",
       "        [-355,  539, -424],\n",
       "        [-336,  545, -390],\n",
       "        [-322,  571, -361],\n",
       "        [ 413,  603,  415],\n",
       "        [ 515,  619,  532],\n",
       "        [ 553,  658,  578],\n",
       "        [ 605,  889,  750],\n",
       "        [ 686,  917,  847],\n",
       "        [ 729,  935,  858]])"
      ]
     },
     "execution_count": 9,
     "metadata": {},
     "output_type": "execute_result"
    }
   ],
   "source": [
    "np.sort(Q, axis=0)"
   ]
  },
  {
   "cell_type": "code",
   "execution_count": 10,
   "id": "676a5161",
   "metadata": {},
   "outputs": [
    {
     "data": {
      "text/plain": [
       "matrix([[  68.],\n",
       "        [1246.],\n",
       "        [ -43.]])"
      ]
     },
     "execution_count": 10,
     "metadata": {},
     "output_type": "execute_result"
    }
   ],
   "source": [
    "t"
   ]
  },
  {
   "cell_type": "code",
   "execution_count": null,
   "id": "d9f6ef20",
   "metadata": {},
   "outputs": [],
   "source": []
  }
 ],
 "metadata": {
  "kernelspec": {
   "display_name": "Python 3 (ipykernel)",
   "language": "python",
   "name": "python3"
  },
  "language_info": {
   "codemirror_mode": {
    "name": "ipython",
    "version": 3
   },
   "file_extension": ".py",
   "mimetype": "text/x-python",
   "name": "python",
   "nbconvert_exporter": "python",
   "pygments_lexer": "ipython3",
   "version": "3.8.12"
  }
 },
 "nbformat": 4,
 "nbformat_minor": 5
}
