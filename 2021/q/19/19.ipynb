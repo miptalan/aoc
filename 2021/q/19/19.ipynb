{
 "cells": [
  {
   "cell_type": "code",
   "execution_count": 132,
   "id": "ae6a2e50",
   "metadata": {},
   "outputs": [
    {
     "name": "stdout",
     "output_type": "stream",
     "text": [
      "5\n",
      "1734501 5605830 3494337 19429 1464872 5442469 1136955 1918314 3510861 993458 ..\n",
      "33131 1155987 854312 1178580 1136955 2277243 739073 495774 929930 1155057 146..\n",
      "2086235 3478659 4969524 3262585 4867718 27242 3729747 1635940 3305376 3584514..\n",
      "2953576 2024850 5027138 35202 2746994 1966864 2536198 2309534 1714136 2096184..\n",
      "2400805 1128686 3433581 3882854 3633627 1454566 4054081 3670750 1553361 3069 ..\n"
     ]
    },
    {
     "data": {
      "text/plain": [
       "404  -588 -901 1\n",
       "528  -643 409  1\n",
       "-838 591  734  1\n",
       "390  -675 -793 1\n",
       "-537 -823 -458 1\n",
       "-485 -357 347  1\n",
       "-345 -311 381  1\n",
       "-661 -816 -575 1\n",
       "-876 649  763  1\n",
       "-618 -824 -621 1\n",
       "553  345  -567 1\n",
       "474  580  667  1\n",
       "-447 -329 318  1\n",
       "-584 868  -557 1\n",
       "544  -627 -890 1\n",
       "564  392  -477 1\n",
       "455  729  728  1\n",
       "-892 524  684  1\n",
       "-689 845  -530 1\n",
       "423  -701 434  1\n",
       "7    -33  -71  1\n",
       "630  319  -379 1\n",
       "..\n"
      ]
     },
     "execution_count": 132,
     "metadata": {},
     "output_type": "execute_result"
    }
   ],
   "source": [
    "system\"T 1\"\n",
    "show count input:`float$@[{value[x],1f} each] each 2_/:cut[;l] 0,where \"\"~/:l:\" \",read0 `:test3dfull.txt;\n",
    "/ https://code.kx.com/phrases/math/#combinations\n",
    "comb:{[n;k] $[k=n;enlist til k; k=1;enlist each til n; .z.s[n-1;k],.z.s[n-1;k-1],\\:enlist n-1]};\n",
    "dists:{{sum .[-;x] xexp 2} each x} each pairs:{x@comb[count x;2]} each input\n",
    "show dists\n",
    "first input"
   ]
  },
  {
   "cell_type": "code",
   "execution_count": 133,
   "id": "25085b56",
   "metadata": {},
   "outputs": [
    {
     "data": {
      "text/plain": [
       "33131 1155987 854312 1178580 1136955 2277243 739073 495774 929930 1155057 146..\n",
       "2086235 3478659 4969524 3262585 4867718 27242 3729747 1635940 3305376 3584514..\n",
       "2953576 2024850 5027138 35202 2746994 1966864 2536198 2309534 1714136 2096184..\n",
       "2400805 1128686 3433581 3882854 3633627 1454566 4054081 3670750 1553361 3069 ..\n"
      ]
     },
     "execution_count": 133,
     "metadata": {},
     "output_type": "execute_result"
    }
   ],
   "source": [
    "(1_dists) except enlist first dists"
   ]
  },
  {
   "cell_type": "code",
   "execution_count": 134,
   "id": "ba369d14",
   "metadata": {},
   "outputs": [
    {
     "name": "stdout",
     "output_type": "stream",
     "text": [
      "66\n"
     ]
    },
    {
     "data": {
      "text/plain": [
       "1734501 19429 1464872 1136955 1918314 993458 2401186 1111809 2166349 867885 2..\n"
      ]
     },
     "execution_count": 134,
     "metadata": {},
     "output_type": "execute_result"
    }
   ],
   "source": [
    "// 66 - C(12,2) - same distances for 12 shared points \n",
    "0N!count first .[inter] each dists@comb[count dists;2];\n",
    "sharedDist:(inter) . 2#dists;\n",
    "sharedDist"
   ]
  },
  {
   "cell_type": "code",
   "execution_count": 135,
   "id": "6b6a9f57",
   "metadata": {},
   "outputs": [
    {
     "name": "stdout",
     "output_type": "stream",
     "text": [
      "404  -588 -901 1\n",
      "528  -643 409  1\n",
      "390  -675 -793 1\n",
      "-537 -823 -458 1\n",
      "-485 -357 347  1\n",
      "-345 -311 381  1\n",
      "-661 -816 -575 1\n",
      "-618 -824 -621 1\n",
      "-447 -329 318  1\n",
      "544  -627 -890 1\n",
      "423  -701 434  1\n",
      "459  -707 401  1\n",
      "0N\n",
      "686  422 578  1\n",
      "605  423 415  1\n",
      "515  917 -361 1\n",
      "-336 658 858  1\n",
      "-476 619 847  1\n",
      "-460 603 -452 1\n",
      "729  430 532  1\n",
      "-322 571 750  1\n",
      "-355 545 -477 1\n",
      "413  935 -424 1\n",
      "-391 539 -444 1\n",
      "553  889 -390 1\n"
     ]
    }
   ],
   "source": [
    "show A:distinct raze first[pairs] where first[dists] in sharedDist\n",
    "show 0N\n",
    "show B:distinct raze first[1_pairs] where first[1_dists] in sharedDist"
   ]
  },
  {
   "cell_type": "code",
   "execution_count": 136,
   "id": "743d4a58",
   "metadata": {},
   "outputs": [
    {
     "name": "stdout",
     "output_type": "stream",
     "text": [
      "404 -588 -901 1f\n"
     ]
    },
    {
     "data": {
      "text/plain": [
       "12\n"
      ]
     },
     "execution_count": 136,
     "metadata": {},
     "output_type": "execute_result"
    }
   ],
   "source": [
    "count refdA:{sum (x-y) xexp 2}[0N!A 0] each A"
   ]
  },
  {
   "cell_type": "code",
   "execution_count": 137,
   "id": "851b9baf",
   "metadata": {},
   "outputs": [
    {
     "name": "stdout",
     "output_type": "stream",
     "text": [
      "686  422 578  1 729  430 532  1 605  423 415  1 -322 571 750  1 515  917 -361..\n",
      "605  423 415  1 729  430 532  1 686  422 578  1 515  917 -361 1 553  889 -390..\n",
      "515  917 -361 1 553  889 -390 1 413  935 -424 1 605  423 415  1 -355 545 -477..\n",
      "-336 658 858  1 -322 571 750  1 -476 619 847  1 605  423 415  1 686  422 578 ..\n",
      "-476 619 847  1 -336 658 858  1 -322 571 750  1 605  423 415  1 686  422 578 ..\n",
      "-460 603 -452 1 -391 539 -444 1 -355 545 -477 1 413  935 -424 1 515  917 -361..\n",
      "729  430 532  1 686  422 578  1 605  423 415  1 515  917 -361 1 553  889 -390..\n",
      "-322 571 750  1 -336 658 858  1 -476 619 847  1 605  423 415  1 686  422 578 ..\n",
      "-355 545 -477 1 -391 539 -444 1 -460 603 -452 1 413  935 -424 1 515  917 -361..\n",
      "413  935 -424 1 515  917 -361 1 553  889 -390 1 -355 545 -477 1 -391 539 -444..\n",
      "-391 539 -444 1 -355 545 -477 1 -460 603 -452 1 413  935 -424 1 515  917 -361..\n",
      "553  889 -390 1 515  917 -361 1 413  935 -424 1 605  423 415  1 -355 545 -477..\n",
      "\"\"\n",
      "-336 658 858  1\n",
      "-322 571 750  1\n",
      "-476 619 847  1\n",
      "605  423 415  1\n",
      "686  422 578  1\n",
      "729  430 532  1\n",
      "-391 539 -444 1\n",
      "-460 603 -452 1\n",
      "-355 545 -477 1\n",
      "515  917 -361 1\n",
      "413  935 -424 1\n",
      "553  889 -390 1\n",
      "\"\"\n",
      "-336 658 858 1\n"
     ]
    }
   ],
   "source": [
    "/ find matching reference point in B and sort as \n",
    "show refdBs:{[l;ref] (l iasc s;asc s:{sum (x-y) xexp 2}[ref] each l)}[B] each B\n",
    "show \"\"\n",
    "show sortedB:first refdBs[;0] w:where asc[refdA]~/:refdBs[;1]\n",
    "show \"\"\n",
    "show B w"
   ]
  },
  {
   "cell_type": "code",
   "execution_count": 138,
   "id": "dac0147d",
   "metadata": {},
   "outputs": [
    {
     "name": "stdout",
     "output_type": "stream",
     "text": [
      "404  -588 -901 1\n",
      "390  -675 -793 1\n",
      "544  -627 -890 1\n",
      "-537 -823 -458 1\n",
      "-618 -824 -621 1\n",
      "-661 -816 -575 1\n",
      "459  -707 401  1\n",
      "528  -643 409  1\n",
      "423  -701 434  1\n",
      "-447 -329 318  1\n",
      "-345 -311 381  1\n",
      "-485 -357 347  1\n"
     ]
    }
   ],
   "source": [
    "show sortedA:A iasc refdA"
   ]
  },
  {
   "cell_type": "code",
   "execution_count": 139,
   "id": "7fe3fede",
   "metadata": {},
   "outputs": [
    {
     "name": "stdout",
     "output_type": "stream",
     "text": [
      "-1 0 0  68   \n",
      "0  1 0  -1246\n",
      "0  0 -1 -43  \n",
      "0  0 0  1    \n"
     ]
    }
   ],
   "source": [
    "/ hm[0 1 2;3] -> translation vector\n",
    "show hm:flip `float$`int$(inv flip[sortedB] mmu sortedB) mmu flip[sortedB] mmu sortedA"
   ]
  },
  {
   "cell_type": "code",
   "execution_count": 140,
   "id": "33070775",
   "metadata": {},
   "outputs": [
    {
     "name": "stdout",
     "output_type": "stream",
     "text": [
      "`s#(-661 -816 -575 1f;-618 -824 -621 1f;-537 -823 -458 1f;-485 -357 347 1f;-4..\n"
     ]
    },
    {
     "data": {
      "text/plain": [
       "1b\n"
      ]
     },
     "execution_count": 140,
     "metadata": {},
     "output_type": "execute_result"
    }
   ],
   "source": [
    "asc[sortedA]~0N!asc flip hm mmu flip sortedB"
   ]
  },
  {
   "cell_type": "code",
   "execution_count": 148,
   "id": "ab6aca65",
   "metadata": {},
   "outputs": [
    {
     "data": {
      "text/plain": [
       "79\n"
      ]
     },
     "execution_count": 148,
     "metadata": {},
     "output_type": "execute_result"
    }
   ],
   "source": [
    "/now altogether\n",
    "findR:{[a;da;b;db]\n",
    "    sd:da inter db;\n",
    "    if[66>count sd;:()];    \n",
    "    A:distinct raze a where da in sd;\n",
    "    B:distinct raze b where db in sd;\n",
    "    refdAs:(sum flip xexp[;2] each A-\\:) each A;\n",
    "    refdBs:(sum flip xexp[;2] each B-\\:) each B;\n",
    "    refs:inter[srefdAs:asc each refdAs;srefdBs:asc each refdBs];\n",
    "    if[0=count refs;:()];\n",
    "    ref:first refs;\n",
    "    sortedA:A iasc refdAs srefdAs?ref;\n",
    "    sortedB:B iasc refdBs srefdBs?ref;\n",
    "    :flip `float$`int$(inv flip[sortedB] mmu sortedB) mmu flip[sortedB] mmu sortedA;        \n",
    " };\n",
    "\n",
    "f:{[pairs;dists;rs]\n",
    "    if[count[rs]=count pairs;:rs];    \n",
    "    nidxs:til[count pairs] except idxs:key rs;\n",
    "    ijs:idxs cross nidxs;\n",
    "    r:();\n",
    "    while[()~r;\n",
    "        i:first first ijs;j:last first ijs;\n",
    "        r:findR[pairs i;dists i;pairs j;dists j];\n",
    "        ijs:1_ijs;\n",
    "     ];\n",
    "    rs[j]:rs[i] mmu r;\n",
    "    \n",
    "    :.z.s[pairs;dists;rs]\n",
    " };\n",
    "\n",
    "/ part 1\n",
    "rs:f[pairs;dists;enlist[0]!enlist `float${x=/:x}til 4];\n",
    "count distinct raze value {flip x mmu flip y}'[(tcnt:til count pairs)#rs;input]"
   ]
  },
  {
   "cell_type": "code",
   "execution_count": 142,
   "id": "de738a1c",
   "metadata": {},
   "outputs": [
    {
     "data": {
      "text/plain": [
       "3621\n"
      ]
     },
     "execution_count": 142,
     "metadata": {},
     "output_type": "execute_result"
    }
   ],
   "source": [
    "txd:{sum abs x-y}\n",
    "txd[1105 -1205 1229;-92 -2380 -20]"
   ]
  },
  {
   "cell_type": "code",
   "execution_count": 150,
   "id": "76f446d7",
   "metadata": {},
   "outputs": [
    {
     "data": {
      "text/plain": [
       "3621f\n"
      ]
     },
     "execution_count": 150,
     "metadata": {},
     "output_type": "execute_result"
    }
   ],
   "source": [
    "/ part 2\n",
    "scanners:value .[;(til 3;3)] each rs / extract translation vectors === scanners positions\n",
    "max .[txd] each (scanners@) each tcnt cross tcnt"
   ]
  },
  {
   "cell_type": "code",
   "execution_count": null,
   "id": "5e1e1f0e",
   "metadata": {},
   "outputs": [],
   "source": []
  }
 ],
 "metadata": {
  "kernelspec": {
   "display_name": "Q (kdb+)",
   "language": "q",
   "name": "qpk"
  },
  "language_info": {
   "file_extension": ".q",
   "mimetype": "text/x-q",
   "name": "q",
   "version": "4.0"
  }
 },
 "nbformat": 4,
 "nbformat_minor": 5
}
