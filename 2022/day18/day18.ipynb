{
 "cells": [
  {
   "cell_type": "code",
   "execution_count": 1,
   "id": "a071aeb5",
   "metadata": {},
   "outputs": [
    {
     "name": "stdout",
     "output_type": "stream",
     "text": [
      "2 2 2\n",
      "1 2 2\n",
      "3 2 2\n",
      "2 1 2\n",
      "2 3 2\n",
      "2 2 1\n",
      "2 2 3\n",
      "2 2 4\n",
      "2 2 6\n",
      "1 2 5\n",
      "3 2 5\n",
      "2 1 5\n",
      "2 3 5\n"
     ]
    }
   ],
   "source": [
    "show input:flip (\"jjj\";\",\") 0:`test.txt"
   ]
  },
  {
   "cell_type": "code",
   "execution_count": 2,
   "id": "b5093183",
   "metadata": {},
   "outputs": [
    {
     "data": {
      "text/plain": [
       "64\n"
      ]
     },
     "execution_count": 2,
     "metadata": {},
     "output_type": "execute_result"
    }
   ],
   "source": [
    "neighbours:{(1 0 0;0 1 0;0 0 1;-1 0 0;0 -1 0;0 0 -1)+\\:x}\n",
    "t:input!count[input]#6\n",
    "/ part 1 - just subtract present neighbours count for each cube\n",
    "f1:{[tbl;c]@[tbl;c;-;sum neighbours[c] in key tbl]}\n",
    "sum f1/[t;input]"
   ]
  },
  {
   "cell_type": "code",
   "execution_count": 3,
   "id": "9e68455b",
   "metadata": {},
   "outputs": [
    {
     "name": "stdout",
     "output_type": "stream",
     "text": [
      "0 0 0\n",
      "4 4 7\n"
     ]
    }
   ],
   "source": [
    "show min input-1\n",
    "show max input+1"
   ]
  },
  {
   "cell_type": "code",
   "execution_count": 4,
   "id": "6294c013",
   "metadata": {},
   "outputs": [
    {
     "name": "stdout",
     "output_type": "stream",
     "text": [
      "0 0 0\n",
      "0 0 1\n",
      "0 0 2\n",
      "0 0 3\n",
      "0 0 4\n",
      "0 0 5\n",
      "0 0 6\n",
      "0 1 0\n",
      "0 1 1\n",
      "0 1 2\n",
      "0 1 3\n",
      "0 1 4\n",
      "0 1 5\n",
      "0 1 6\n",
      "0 2 0\n",
      "0 2 1\n",
      "0 2 2\n",
      "0 2 3\n",
      "0 2 4\n",
      "0 2 5\n",
      "0 2 6\n",
      "0 3 0\n",
      "..\n"
     ]
    }
   ],
   "source": [
    "/ all cubes from min to max\n",
    "show coverCube:cross/[til@'max input+1]"
   ]
  },
  {
   "cell_type": "code",
   "execution_count": 6,
   "id": "e77b1dcb",
   "metadata": {},
   "outputs": [
    {
     "name": "stdout",
     "output_type": "stream",
     "text": [
      "14\n"
     ]
    },
    {
     "data": {
      "text/plain": [
       "58\n"
      ]
     },
     "execution_count": 6,
     "metadata": {},
     "output_type": "execute_result"
    }
   ],
   "source": [
    "/ part 2\n",
    "/ expand steam - 3D flood fill from origin intersecting with max cover\n",
    "f2:{distinct x,coverCube inter raze[neighbours@'x] except input}\n",
    "show count nonSteam:coverCube except f2/[enlist 0 0 0]\n",
    "t2:nonSteam!count[nonSteam]#6\n",
    "\n",
    "/ apply part 1 to non-steam input\n",
    "sum f1/[t2;nonSteam]"
   ]
  },
  {
   "cell_type": "code",
   "execution_count": null,
   "id": "73827c95",
   "metadata": {},
   "outputs": [],
   "source": []
  }
 ],
 "metadata": {
  "kernelspec": {
   "display_name": "Q (kdb+)",
   "language": "q",
   "name": "qpk"
  },
  "language_info": {
   "file_extension": ".q",
   "mimetype": "text/x-q",
   "name": "q",
   "version": "4.0"
  }
 },
 "nbformat": 4,
 "nbformat_minor": 5
}
