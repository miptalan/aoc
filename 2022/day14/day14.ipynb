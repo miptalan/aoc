{
 "cells": [
  {
   "cell_type": "code",
   "execution_count": 33,
   "id": "9adba2ad",
   "metadata": {},
   "outputs": [
    {
     "name": "stdout",
     "output_type": "stream",
     "text": [
      "\"498,4 -> 498,6 -> 496,6\"\n",
      "\"503,4 -> 502,4 -> 502,9 -> 494,9\"\n"
     ]
    }
   ],
   "source": [
    "show raw:read0`test.txt"
   ]
  },
  {
   "cell_type": "code",
   "execution_count": 37,
   "id": "cc834033",
   "metadata": {},
   "outputs": [
    {
     "data": {
      "text/plain": [
       "498 4\n",
       "498 6\n"
      ]
     },
     "execution_count": 37,
     "metadata": {},
     "output_type": "execute_result"
    }
   ],
   "source": [
    "2 cut \"J\"${raze vs[y;] each x}/[enlist \"498,4 -> 498,6\";(\" -> \";\",\")]"
   ]
  },
  {
   "cell_type": "code",
   "execution_count": 38,
   "id": "d4302ca6",
   "metadata": {},
   "outputs": [
    {
     "name": "stdout",
     "output_type": "stream",
     "text": [
      "(498 4;498 6;496 6)\n",
      "(503 4;502 4;502 9;494 9)\n"
     ]
    }
   ],
   "source": [
    "fi:{2 cut \"J\"${raze vs[y;] each x}/[enlist x;(\" -> \";\",\")]}\n",
    "show input:fi each raw "
   ]
  },
  {
   "cell_type": "code",
   "execution_count": 50,
   "id": "d93da4bf",
   "metadata": {},
   "outputs": [
    {
     "data": {
      "text/plain": [
       "494 503\n",
       "4   9  \n"
      ]
     },
     "execution_count": 50,
     "metadata": {},
     "output_type": "execute_result"
    }
   ],
   "source": [
    "(min;max)@\\:/:flip raze[input]"
   ]
  },
  {
   "cell_type": "code",
   "execution_count": null,
   "id": "e7705da3",
   "metadata": {},
   "outputs": [],
   "source": []
  }
 ],
 "metadata": {
  "kernelspec": {
   "display_name": "Q (kdb+)",
   "language": "q",
   "name": "qpk"
  },
  "language_info": {
   "file_extension": ".q",
   "mimetype": "text/x-q",
   "name": "q",
   "version": "4.0"
  }
 },
 "nbformat": 4,
 "nbformat_minor": 5
}
