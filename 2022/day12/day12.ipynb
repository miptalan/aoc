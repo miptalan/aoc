{
 "cells": [
  {
   "cell_type": "code",
   "execution_count": 1,
   "id": "3c39b17a",
   "metadata": {},
   "outputs": [
    {
     "name": "stdout",
     "output_type": "stream",
     "text": [
      "\"Sabqponm\"\n",
      "\"abcryxxl\"\n",
      "\"accszExk\"\n",
      "\"acctuvwj\"\n",
      "\"abdefghi\"\n"
     ]
    }
   ],
   "source": [
    "show raw:read0`test.txt"
   ]
  },
  {
   "cell_type": "code",
   "execution_count": 2,
   "id": "b693371c",
   "metadata": {},
   "outputs": [
    {
     "name": "stdout",
     "output_type": "stream",
     "text": [
      "x y\n",
      "---\n",
      "0 0\n",
      "x y\n",
      "---\n",
      "2 5\n"
     ]
    }
   ],
   "source": [
    "/ ungroup helps a lot to flatten 2d data into 1d\n",
    "find:{[m;v]ungroup ([]x:til count m;y:where each m=v)}\n",
    "show S:find[raw;\"S\"]\n",
    "show E:find[raw;\"E\"]"
   ]
  },
  {
   "cell_type": "code",
   "execution_count": 3,
   "id": "49aff28f",
   "metadata": {},
   "outputs": [
    {
     "name": "stdout",
     "output_type": "stream",
     "text": [
      "0 0 1 16 15 14 13 12\n",
      "0 1 2 17 24 23 23 11\n",
      "0 2 2 18 25 25 23 10\n",
      "0 2 2 19 20 21 22 9 \n",
      "0 1 3 4  5  6  7  8 \n"
     ]
    }
   ],
   "source": [
    "m:(.Q.a,\"SE\")!.Q.a,\"az\"\n",
    "show height:-97+\"i\"$m raw"
   ]
  },
  {
   "cell_type": "code",
   "execution_count": 4,
   "id": "a6f87f15",
   "metadata": {},
   "outputs": [
    {
     "name": "stdout",
     "output_type": "stream",
     "text": [
      "x y h \n",
      "------\n",
      "0 0 0 \n",
      "0 1 0 \n",
      "0 2 1 \n",
      "0 3 16\n",
      "0 4 15\n",
      "0 5 14\n",
      "0 6 13\n",
      "0 7 12\n",
      "1 0 0 \n",
      "1 1 1 \n",
      "1 2 2 \n",
      "1 3 17\n",
      "1 4 24\n",
      "1 5 23\n",
      "1 6 23\n",
      "1 7 11\n",
      "2 0 0 \n",
      "2 1 2 \n",
      "2 2 2 \n",
      "2 3 18\n",
      "..\n"
     ]
    }
   ],
   "source": [
    "/ flatten with ungroup\n",
    "/ composition with ' to get \"til each count each\"\n",
    "show hm:ungroup ([]x:til count height;y:('[til;count]'[height]);h:height)"
   ]
  },
  {
   "cell_type": "code",
   "execution_count": 5,
   "id": "588d2660",
   "metadata": {},
   "outputs": [
    {
     "name": "stdout",
     "output_type": "stream",
     "text": [
      "x1 y1 x2 y2\n",
      "-----------\n",
      "0  0  0  0 \n",
      "0  0  0  1 \n",
      "0  0  0  2 \n",
      "0  0  0  3 \n",
      "0  0  0  4 \n",
      "0  0  0  5 \n",
      "0  0  0  6 \n",
      "0  0  0  7 \n",
      "0  0  1  0 \n",
      "0  0  1  1 \n",
      "0  0  1  2 \n",
      "0  0  1  3 \n",
      "0  0  1  4 \n",
      "0  0  1  5 \n",
      "0  0  1  6 \n",
      "0  0  1  7 \n",
      "0  0  2  0 \n",
      "0  0  2  1 \n",
      "0  0  2  2 \n",
      "0  0  2  3 \n",
      "..\n"
     ]
    }
   ],
   "source": [
    "/ prepare for pairwise distances calc\n",
    "show cmXY:flip `x1`y1`x2`y2!flip (flip hm`x`y) cross flip hm`x`y"
   ]
  },
  {
   "cell_type": "code",
   "execution_count": 6,
   "id": "603cac45",
   "metadata": {},
   "outputs": [
    {
     "name": "stdout",
     "output_type": "stream",
     "text": [
      "x1 y1 x2 y2 h1 h2 dist\n",
      "----------------------\n",
      "0  0  0  0  0  0  0   \n",
      "0  0  0  1  0  0  1   \n",
      "0  0  1  0  0  0  1   \n",
      "0  1  0  0  0  0  1   \n",
      "0  1  0  1  0  0  0   \n",
      "0  1  0  2  0  1  1   \n",
      "0  1  1  1  0  1  1   \n",
      "0  2  0  1  1  0  1   \n",
      "0  2  0  2  1  1  0   \n",
      "0  2  1  2  1  2  1   \n",
      "0  3  0  3  16 16 0   \n",
      "0  3  0  4  16 15 1   \n",
      "0  3  1  3  16 17 1   \n",
      "0  4  0  3  15 16 1   \n",
      "0  4  0  4  15 15 0   \n",
      "0  4  0  5  15 14 1   \n",
      "0  5  0  4  14 15 1   \n",
      "0  5  0  5  14 14 0   \n",
      "0  5  0  6  14 13 1   \n",
      "0  6  0  5  13 14 1   \n",
      "..\n"
     ]
    }
   ],
   "source": [
    "/ build sparse connection matrix\n",
    "cm:lj/[cmXY;(2!`x1`y1`h1 xcol hm;2!`x2`y2`h2 xcol hm)]\n",
    "\n",
    "/ dist - true if reachable (heights differ in less than 2), false - if not\n",
    "cm:update dist:2>abs h1-h2 from cm \n",
    "\n",
    "/ remove unreachable\n",
    "cm:delete from cm where not dist\n",
    "\n",
    "/ now use 0 for self\n",
    "cm:update dist:0b from cm where x1=x2,y1=y2\n",
    "\n",
    "/ delete all non-LRUD-reachable\n",
    "show cm:delete from cm where 1<abs[x1-x2]+abs y1-y2\n",
    "\n",
    "cm:delete h1,h2 from cm"
   ]
  },
  {
   "cell_type": "code",
   "execution_count": 7,
   "id": "6d819f56",
   "metadata": {},
   "outputs": [],
   "source": [
    "/ min-sum bridge - from https://code.kx.com/q/kb/lp/ and https://github.com/KxSystems/kdb/blob/master/sparse.q\n",
    "minSumBridge:{select min dist+distj by x1,y1,x2,y2 from ej[`xj`yj;`x1`y1`xj`yj`distj xcol x;`xj`yj xcol x]}"
   ]
  },
  {
   "cell_type": "code",
   "execution_count": 9,
   "id": "8820fc04",
   "metadata": {},
   "outputs": [
    {
     "name": "stdout",
     "output_type": "stream",
     "text": [
      "x1 y1 x2 y2| dist\n",
      "-----------| ----\n",
      "0  0  0  0 | 0   \n",
      "0  0  0  1 | 1   \n",
      "0  0  0  2 | 2   \n",
      "0  0  0  3 | 19  \n",
      "0  0  0  4 | 18  \n",
      "0  0  0  5 | 17  \n",
      "0  0  0  6 | 16  \n",
      "0  0  0  7 | 15  \n",
      "0  0  1  0 | 1   \n",
      "0  0  1  1 | 2   \n",
      "0  0  1  2 | 3   \n",
      "0  0  1  3 | 20  \n",
      "0  0  1  4 | 29  \n",
      "0  0  1  5 | 28  \n",
      "0  0  1  6 | 27  \n",
      "0  0  1  7 | 14  \n",
      "0  0  2  0 | 2   \n",
      "0  0  2  1 | 3   \n",
      "0  0  2  2 | 4   \n",
      "0  0  2  3 | 21  \n",
      "..\n"
     ]
    }
   ],
   "source": [
    "/ converge to get pairwise distance matrix\n",
    "show r:(minSumBridge/) cm"
   ]
  },
  {
   "cell_type": "code",
   "execution_count": 10,
   "id": "f5898425",
   "metadata": {},
   "outputs": [
    {
     "data": {
      "text/plain": [
       "x1 y1 x2 y2| dist\n",
       "-----------| ----\n",
       "0  0  2  5 | 31  \n"
      ]
     },
     "execution_count": 10,
     "metadata": {},
     "output_type": "execute_result"
    }
   ],
   "source": [
    "/ part 1\n",
    "select from r where ([]x:x1;y:y1) in S,([]x:x2;y:y2) in E"
   ]
  },
  {
   "cell_type": "code",
   "execution_count": 14,
   "id": "17c930bc",
   "metadata": {},
   "outputs": [
    {
     "data": {
      "text/plain": [
       "x1 y1 x2 y2| dist\n",
       "-----------| ----\n",
       "4  0  2  5 | 29  \n"
      ]
     },
     "execution_count": 14,
     "metadata": {},
     "output_type": "execute_result"
    }
   ],
   "source": [
    "/ part 2\n",
    "select from r where ([]x:x1;y:y1) in find[m raw;\"a\"],([]x:x2;y:y2) in E,dist=min dist"
   ]
  },
  {
   "cell_type": "code",
   "execution_count": null,
   "id": "ed16911d",
   "metadata": {},
   "outputs": [],
   "source": []
  }
 ],
 "metadata": {
  "kernelspec": {
   "display_name": "Q (kdb+)",
   "language": "q",
   "name": "qpk"
  },
  "language_info": {
   "file_extension": ".q",
   "mimetype": "text/x-q",
   "name": "q",
   "version": "4.0"
  }
 },
 "nbformat": 4,
 "nbformat_minor": 5
}
