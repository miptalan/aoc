{
 "cells": [
  {
   "cell_type": "code",
   "execution_count": 193,
   "id": "ef1519ef",
   "metadata": {
    "scrolled": true
   },
   "outputs": [
    {
     "name": "stdout",
     "output_type": "stream",
     "text": [
      "\"root: pppw + sjmn\"\n",
      "\"dbpl: 5\"\n",
      "\"cczh: sllz + lgvd\"\n",
      "\"zczc: 2\"\n",
      "\"ptdq: humn - dvpt\"\n",
      "\"dvpt: 3\"\n",
      "\"lfqf: 4\"\n",
      "\"humn: 5\"\n",
      "\"ljgn: 2\"\n",
      "\"sjmn: drzm * dbpl\"\n",
      "\"sllz: 4\"\n",
      "\"pppw: cczh % lfqf\"\n",
      "\"lgvd: ljgn * ptdq\"\n",
      "\"drzm: hmdt - zczc\"\n",
      "\"hmdt: 32\"\n"
     ]
    }
   ],
   "source": [
    "show raw:ssr[;\"/\";\"%\"] each read0`test.txt\n",
    "/ replace / with % to get valid q"
   ]
  },
  {
   "cell_type": "code",
   "execution_count": 194,
   "id": "9e62c9eb",
   "metadata": {},
   "outputs": [
    {
     "name": "stdout",
     "output_type": "stream",
     "text": [
      "101h\n",
      "5\n",
      "101h\n"
     ]
    }
   ],
   "source": [
    "/ get expression evaluated in trap - to distinguish still waiting for shout\n",
    "show type 0N!@[get;\"dbpl: 5\";{0b}]\n",
    "show dbpl\n",
    "show type 0N!@[get;\"sjmn: drzm * dbpl\";{0b}]"
   ]
  },
  {
   "cell_type": "code",
   "execution_count": 195,
   "id": "e877a449",
   "metadata": {},
   "outputs": [
    {
     "data": {
      "text/plain": []
     },
     "execution_count": 195,
     "metadata": {},
     "output_type": "execute_result"
    },
    {
     "data": {
      "text/plain": [
       "300\n"
      ]
     },
     "execution_count": 195,
     "metadata": {},
     "output_type": "execute_result"
    }
   ],
   "source": [
    "/ part 1 - get value if possible, otherwise defer\n",
    "/ use over as converge\n",
    "f1:{$[-1h=type @[get;v:first x;{0b}];1_x,enlist v;1_x]}\n",
    "f1/[raw]\n",
    "`long$root"
   ]
  },
  {
   "cell_type": "code",
   "execution_count": 196,
   "id": "eb6a2e7b",
   "metadata": {},
   "outputs": [
    {
     "name": "stdout",
     "output_type": "stream",
     "text": [
      "\"root: pppw + sjmn\"\n",
      "\"root: pppw - sjmn\"\n"
     ]
    }
   ],
   "source": [
    "/ update root to difference - to use covergence to 0\n",
    "show v:raw i:first where raw like \"root*\" \n",
    "raw[i]:0N!ssr[v;\"[+-%]\";\"-\"]"
   ]
  },
  {
   "cell_type": "code",
   "execution_count": 197,
   "id": "b219ddd6",
   "metadata": {},
   "outputs": [
    {
     "name": "stdout",
     "output_type": "stream",
     "text": [
      "`root`dbpl`cczh`zczc`ptdq`dvpt`lfqf`humn`ljgn`sjmn`sllz`pppw`lgvd`drzm`hmdt\n"
     ]
    }
   ],
   "source": [
    "/ get all names for deletion\n",
    "show names:`$#[4]'[raw]"
   ]
  },
  {
   "cell_type": "code",
   "execution_count": 198,
   "id": "3f228678",
   "metadata": {},
   "outputs": [],
   "source": [
    "/ exclude humn\n",
    "raw:raw except enlist raw first where raw like \"humn*\" "
   ]
  },
  {
   "cell_type": "code",
   "execution_count": 199,
   "id": "27d3b9f9",
   "metadata": {},
   "outputs": [],
   "source": [
    "f2:{\n",
    "    ![`.;();0b;names]; / clean previous results\n",
    "    `humn set x; / set test value\n",
    "    f1/[raw]; / resolve\n",
    "    root\n",
    " }"
   ]
  },
  {
   "cell_type": "code",
   "execution_count": 200,
   "id": "2585b8c4",
   "metadata": {},
   "outputs": [],
   "source": [
    "/ Newton-Raphson method\n",
    "df2:{0.5*f2[x+1]-f2[x-1]}\n",
    "nr:{x-f2[x]%df2[x]}"
   ]
  },
  {
   "cell_type": "code",
   "execution_count": 201,
   "id": "a52b723f",
   "metadata": {},
   "outputs": [
    {
     "data": {
      "text/plain": [
       "301\n"
      ]
     },
     "execution_count": 201,
     "metadata": {},
     "output_type": "execute_result"
    }
   ],
   "source": [
    "/ part 2\n",
    "`long$nr/[1]"
   ]
  },
  {
   "cell_type": "code",
   "execution_count": null,
   "id": "d3816749",
   "metadata": {},
   "outputs": [],
   "source": []
  }
 ],
 "metadata": {
  "kernelspec": {
   "display_name": "Q (kdb+)",
   "language": "q",
   "name": "qpk"
  },
  "language_info": {
   "file_extension": ".q",
   "mimetype": "text/x-q",
   "name": "q",
   "version": "4.0"
  }
 },
 "nbformat": 4,
 "nbformat_minor": 5
}
