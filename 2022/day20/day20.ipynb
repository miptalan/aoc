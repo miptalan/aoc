{
 "cells": [
  {
   "cell_type": "code",
   "execution_count": 10,
   "id": "b7337d03",
   "metadata": {},
   "outputs": [
    {
     "name": "stdout",
     "output_type": "stream",
     "text": [
      "0  -3883\n",
      "1  -1293\n",
      "2  1605 \n",
      "3  9076 \n",
      "4  653  \n",
      "5  -3831\n",
      "6  1661 \n",
      "7  -2344\n",
      "8  -469 \n",
      "9  2706 \n",
      "10 -511 \n",
      "11 -6909\n",
      "12 7039 \n",
      "13 7403 \n",
      "14 -7542\n",
      "15 1928 \n",
      "16 8732 \n",
      "17 -1987\n",
      "18 -5274\n",
      "19 5199 \n",
      "20 914  \n",
      "21 -9733\n",
      "..\n"
     ]
    }
   ],
   "source": [
    "show input:flip(til count raw;raw:\"J\"$read0`input.txt)\n",
    "/ need to add original indexes to avoid duplicates when doing find(?)"
   ]
  },
  {
   "cell_type": "code",
   "execution_count": 11,
   "id": "4ac9c0e8",
   "metadata": {},
   "outputs": [
    {
     "name": "stdout",
     "output_type": "stream",
     "text": [
      "4278 7905 -8983 -6069 -5232 7658 -9884 8111 -9590 9441 -8599 4339 -5590 9085 ..\n"
     ]
    }
   ],
   "source": [
    "/ as list is a loop - start doesn't matter, only order matters\n",
    "f1:{[res;e]\n",
    "    enlist[e],e[1] rotate 1_(res?e) rotate res\n",
    " }\n",
    "\n",
    "show res:f1/[input;input][;1]"
   ]
  },
  {
   "cell_type": "code",
   "execution_count": 12,
   "id": "cf4e772d",
   "metadata": {},
   "outputs": [
    {
     "name": "stdout",
     "output_type": "stream",
     "text": [
      "-483 6451 7554\n"
     ]
    },
    {
     "data": {
      "text/plain": [
       "13522\n"
      ]
     },
     "execution_count": 12,
     "metadata": {},
     "output_type": "execute_result"
    }
   ],
   "source": [
    "/ part 1\n",
    "sum 0N!res (1000 2000 3000+res?0) mod count res"
   ]
  },
  {
   "cell_type": "code",
   "execution_count": 13,
   "id": "f153ada8",
   "metadata": {},
   "outputs": [
    {
     "name": "stdout",
     "output_type": "stream",
     "text": [
      "0  -3151400681099\n",
      "1  -1049384774829\n",
      "2  1302600590565 \n",
      "3  7365983152628 \n",
      "4  529967716909  \n",
      "5  -3109198045143\n",
      "6  1348049583133 \n",
      "7  -1902364974632\n",
      "8  -380635312757 \n",
      "9  2196160248018 \n",
      "10 -414722057183 \n",
      "11 -5607269458077\n",
      "12 5712776047967 \n",
      "13 6008194499659 \n",
      "14 -6121005391926\n",
      "15 1564743886984 \n",
      "16 7086796483996 \n",
      "17 -1612627647011\n",
      "18 -4280321192922\n",
      "19 4219452006447 \n",
      "20 741792485842  \n",
      "21 -7899197226149\n",
      "..\n",
      "3471978396534 -4036032857869 5956252793867 7892704512925 176926435354 3901309..\n",
      "6551959232169 4219452006447 6341757641542\n"
     ]
    },
    {
     "data": {
      "text/plain": [
       "17113168880158\n"
      ]
     },
     "execution_count": 13,
     "metadata": {},
     "output_type": "execute_result"
    }
   ],
   "source": [
    "/ part 2 - multiply in place with AmendAt \n",
    "/ wrap function into Do iterator https://code.kx.com/q/ref/accumulators/#do\n",
    "show input2:.[input;(til count input;1);*;811589153]\n",
    "f2:{f1/[x;y]}\n",
    "show res:(10 f2[;input2]/ input2)[;1]\n",
    "sum 0N!res (1000 2000 3000+res?0) mod count res"
   ]
  },
  {
   "cell_type": "code",
   "execution_count": null,
   "id": "15929851",
   "metadata": {},
   "outputs": [],
   "source": []
  }
 ],
 "metadata": {
  "kernelspec": {
   "display_name": "Q (kdb+)",
   "language": "q",
   "name": "qpk"
  },
  "language_info": {
   "file_extension": ".q",
   "mimetype": "text/x-q",
   "name": "q",
   "version": "4.0"
  }
 },
 "nbformat": 4,
 "nbformat_minor": 5
}
