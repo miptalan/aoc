{
 "cells": [
  {
   "cell_type": "code",
   "execution_count": 492,
   "id": "3811209c",
   "metadata": {},
   "outputs": [
    {
     "name": "stdout",
     "output_type": "stream",
     "text": [
      "\"[1,1,3,1,1]\"                 \"[1,1,5,1,1]\"                \n",
      "\"[[1],[2,3,4]]\"               \"[[1],4]\"                    \n",
      "\"[9]\"                         \"[[8,7,6]]\"                  \n",
      "\"[[4,4],4,4]\"                 \"[[4,4],4,4,4]\"              \n",
      "\"[7,7,7,7]\"                   \"[7,7,7]\"                    \n",
      "\"[]\"                          \"[3]\"                        \n",
      "\"[[[]]]\"                      \"[[]]\"                       \n",
      "\"[1,[2,[3,[4,[5,6,7]]]],8,9]\" \"[1,[2,[3,[4,[5,6,0]]]],8,9]\"\n"
     ]
    }
   ],
   "source": [
    "show raw:-1_'3 cut (read0`test.txt),enlist \"\""
   ]
  },
  {
   "cell_type": "code",
   "execution_count": 493,
   "id": "4f326c20",
   "metadata": {},
   "outputs": [
    {
     "name": "stdout",
     "output_type": "stream",
     "text": [
      "1 1 3 1 1               1 1 5 1 1              \n",
      ",1 2 3 4                ,1 4                   \n",
      "9                       8 7 6                  \n",
      "(4 4;4;4)               (4 4;4;4;4)            \n",
      "7 7 7 7                 7 7 7                  \n",
      "`long$()                ,3                     \n",
      "                                               \n",
      "1 (2;(3;(4;5 6 7))) 8 9 1 (2;(3;(4;5 6 0))) 8 9\n"
     ]
    }
   ],
   "source": [
    "show pairs:{`long$.j.k each x} each raw"
   ]
  },
  {
   "cell_type": "code",
   "execution_count": 494,
   "id": "53a119ad",
   "metadata": {},
   "outputs": [],
   "source": [
    "/ -1 l>r, 0 l=r, 1 l<r\n",
    "comparePair:{[l;r]\n",
    "    /show .Q.s1(l;r);\n",
    "    if[l~r;:0]; / continue on equality\n",
    "    types:type@'(l;r);\n",
    "    if[-7 -7h~types;:`long$signum r-l]; / simple integer comparison\n",
    "    if[any (-7 0h;-7 7h)~\\:types;:.z.s[enlist l;r]]; / wrap single elements into lists\n",
    "    if[any (0 -7h;7 -7h)~\\:types;:.z.s[l;enlist r]]; \n",
    "    cl:count l;cr:count r;\n",
    "    if[0 0~(cr;cl);:0];\n",
    "    if[cl=0;:1];\n",
    "    if[cr=0;:-1];\n",
    "    if[7 7h~types;:(01b!-1 1) (l;r)~asc(l;r)];\n",
    "    mi:min(cl;cr);i:0;\n",
    "    while[i<mi;\n",
    "        if[0<>res:.z.s[l i;r i];:res];        \n",
    "        i+:1;\n",
    "     ];\n",
    "    /show .Q.s1(l;r;res);\n",
    "    :$[0=res;`long$signum cr-cl;res]\n",
    " }"
   ]
  },
  {
   "cell_type": "code",
   "execution_count": 495,
   "id": "3894d974",
   "metadata": {},
   "outputs": [
    {
     "name": "stdout",
     "output_type": "stream",
     "text": [
      "111111111111111111b\n"
     ]
    },
    {
     "data": {
      "text/plain": [
       "1b\n"
      ]
     },
     "execution_count": 495,
     "metadata": {},
     "output_type": "execute_result"
    }
   ],
   "source": [
    "r:()\n",
    "\n",
    "/ simple equal objects\n",
    "r,:0~comparePair[2;2]\n",
    "r,:0~comparePair[-2;-2]\n",
    "r,:0~comparePair[1 2 3;1 2 3]\n",
    "r,:0~comparePair[();()]\n",
    "r,:0~comparePair[(();());(();())]\n",
    "r,:0~comparePair[2;enlist 2]\n",
    "r,:0~comparePair[enlist 2;enlist 2]\n",
    "r,:0~comparePair[enlist 2;2]\n",
    "\n",
    "/ greater/less integers\n",
    "r,:1~comparePair[1;2]\n",
    "r,:1~comparePair[-2;-1]\n",
    "r,:-1~comparePair[2;1]\n",
    "r,:-1~comparePair[-1;-2]\n",
    "\n",
    "/ greater/less lists of same length\n",
    "r,:1~comparePair[enlist 1;enlist 2]\n",
    "r,:1~comparePair[1 2 3;1 2 3 4]\n",
    "r,:-1~comparePair[enlist 2;enlist 1]\n",
    "r,:-1~comparePair[1 2 3 4;1 2 3]\n",
    "\n",
    "/ nested\n",
    "r,:1~comparePair[(1 2;(3 4;5 6));(1 2;(3 4;5 6 7))]\n",
    "r,:-1~comparePair[(1 2;(3 4;4 5 6));(1 2;(3 4;3 4 5))]\n",
    "\n",
    "all 0N!r"
   ]
  },
  {
   "cell_type": "code",
   "execution_count": 496,
   "id": "92207537",
   "metadata": {},
   "outputs": [
    {
     "data": {
      "text/plain": [
       "13\n"
      ]
     },
     "execution_count": 496,
     "metadata": {},
     "output_type": "execute_result"
    }
   ],
   "source": [
    "/ part 1\n",
    "sum 1+where 1=comparePair .' pairs"
   ]
  },
  {
   "cell_type": "code",
   "execution_count": 497,
   "id": "4c696769",
   "metadata": {},
   "outputs": [
    {
     "data": {
      "text/plain": [
       "140\n"
      ]
     },
     "execution_count": 497,
     "metadata": {},
     "output_type": "execute_result"
    }
   ],
   "source": [
    "/ part 2\n",
    "fullList:raze {`long$.j.k each x} each raw,enlist (\"[[2]]\";\"[[6]]\")\n",
    "/ bubble sort\n",
    "sorted:{[l;i]\n",
    "    $[1=comparePair[l i 0;l i 1];@[l;i 0 1;:;l i 1 0];l]\n",
    " }/[fullList;tcl cross tcl:til count fullList]\n",
    "\n",
    "prd 1+where any sorted~\\:/:(enlist enlist 2;enlist enlist 6)"
   ]
  },
  {
   "cell_type": "code",
   "execution_count": null,
   "id": "5c383d53",
   "metadata": {},
   "outputs": [],
   "source": []
  }
 ],
 "metadata": {
  "kernelspec": {
   "display_name": "Q (kdb+)",
   "language": "q",
   "name": "qpk"
  },
  "language_info": {
   "file_extension": ".q",
   "mimetype": "text/x-q",
   "name": "q",
   "version": "4.0"
  }
 },
 "nbformat": 4,
 "nbformat_minor": 5
}
