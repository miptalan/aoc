{
 "cells": [
  {
   "cell_type": "code",
   "execution_count": 44,
   "id": "6644c063",
   "metadata": {},
   "outputs": [
    {
     "name": "stdout",
     "output_type": "stream",
     "text": [
      "\"        ...#\"\n",
      "\"        .#..\"\n",
      "\"        #...\"\n",
      "\"        ....\"\n",
      "\"...#.......#\"\n",
      "\"........#...\"\n",
      "\"..#....#....\"\n",
      "\"..........#.\"\n",
      "\"        ...#....\"\n",
      "\"        .....#..\"\n",
      "\"        .#......\"\n",
      "\"        ......#.\"\n",
      "\"\"\n",
      "\"10R5L5R10L4R5L5\"\n"
     ]
    }
   ],
   "source": [
    "system\"T 1\"\n",
    "show lines:read0`test.txt\n",
    "rawPath:last lines\n",
    "lines:-2_lines"
   ]
  },
  {
   "cell_type": "code",
   "execution_count": 47,
   "id": "2239a3b8",
   "metadata": {},
   "outputs": [
    {
     "name": "stdout",
     "output_type": "stream",
     "text": [
      "`L 10\n",
      "`R 5 \n",
      "`L 5 \n",
      "`R 10\n",
      "`L 4 \n",
      "`R 5 \n",
      "`L 5 \n",
      "16\n",
      "12\n",
      "\"        ...#    \"\n",
      "\"        .#..    \"\n",
      "\"        #...    \"\n",
      "\"        ....    \"\n",
      "\"...#.......#    \"\n",
      "\"........#...    \"\n",
      "\"..#....#....    \"\n",
      "\"..........#.    \"\n",
      "\"        ...#....\"\n",
      "\"        .....#..\"\n",
      "\"        .#......\"\n",
      "\"        ......#.\"\n"
     ]
    }
   ],
   "source": [
    "/ append initial rotation for symmetry - starting from facing down (vector 1 0)\n",
    "show path:(`$;\"J\"$)@'/:2 cut (raze 0 1+/:where any path=/:.Q.A) cut path:\"L\",rawPath\n",
    "show maxC:max count each lines\n",
    "show maxR:count lines\n",
    "show FIELD:(maxC$)@'lines / pad for simplicity"
   ]
  },
  {
   "cell_type": "code",
   "execution_count": 48,
   "id": "18581a42",
   "metadata": {},
   "outputs": [
    {
     "data": {
      "text/plain": [
       "0 -1\n"
      ]
     },
     "execution_count": 48,
     "metadata": {},
     "output_type": "execute_result"
    }
   ],
   "source": [
    "R:{(x 1;neg x 0)} / rotate 90 degrees clockwise\n",
    "L:{(neg x 1;x 0)} / counter\n",
    "\n",
    "get (`R;1 0)"
   ]
  },
  {
   "cell_type": "code",
   "execution_count": 49,
   "id": "725222b1",
   "metadata": {},
   "outputs": [
    {
     "data": {
      "text/plain": [
       "0 10\n",
       "0 1 \n"
      ]
     },
     "execution_count": 49,
     "metadata": {},
     "output_type": "execute_result"
    }
   ],
   "source": [
    "SP:(0;first FIELD[0]?\".\")\n",
    "SD:(1 0) / start facing down\n",
    "\n",
    "move:{[pd;t;s]\n",
    "    prevp:currp:pd 0;d:get(t;pd 1);\n",
    "    /show .Q.s1(currp;d;s);\n",
    "    while[s>0;\n",
    "        currp:(currp+d)mod(maxR;maxC);\n",
    "        c:FIELD . currp;\n",
    "        /show .Q.s1(currp;s;c);\n",
    "        if[\"#\"=c;:(prevp;d)];\n",
    "        if[\".\"=c;s-:1;prevp:currp];\n",
    "     ];\n",
    "    (currp;d)\n",
    " }\n",
    "\n",
    "move[(SP;SD);`L;4]"
   ]
  },
  {
   "cell_type": "code",
   "execution_count": 37,
   "id": "8ab1c03c",
   "metadata": {},
   "outputs": [],
   "source": [
    "test:{[f;i;o]\n",
    "    if[not o~r:f . i;\n",
    "        '\"expected: \",.Q.s1[o],\", but got \",.Q.s1[r],\" for \",.Q.s1 i\n",
    "     ];\n",
    "    :1b\n",
    " }"
   ]
  },
  {
   "cell_type": "code",
   "execution_count": 38,
   "id": "223700f8",
   "metadata": {},
   "outputs": [
    {
     "data": {
      "text/plain": [
       "1b\n"
      ]
     },
     "execution_count": 38,
     "metadata": {},
     "output_type": "execute_result"
    }
   ],
   "source": [
    "t1:test move\n",
    "all t1 .' (\n",
    "    (((0 8;1 0);`L;1);(0 9;0 1));\n",
    "    (((0 8;1 0);`L;2);(0 10;0 1));\n",
    "    (((0 8;1 0);`L;3);(0 10;0 1)); / wall\n",
    "    (((0 8;0 1);`R;1);(1 8;1 0)); \n",
    "    (((0 8;0 1);`R;2);(1 8;1 0)); / wall\n",
    "    (((3 8;1 0);`L;1);(3 9;0 1));\n",
    "    (((3 8;1 0);`L;3);(3 11;0 1));\n",
    "    (((3 8;1 0);`L;4);(3 8;0 1))\n",
    " )"
   ]
  },
  {
   "cell_type": "code",
   "execution_count": 40,
   "id": "dc347d35",
   "metadata": {},
   "outputs": [
    {
     "name": "stdout",
     "output_type": "stream",
     "text": [
      "\"(5 7;0 1)\"\n"
     ]
    },
    {
     "data": {
      "text/plain": [
       "6032\n"
      ]
     },
     "execution_count": 40,
     "metadata": {},
     "output_type": "execute_result"
    }
   ],
   "source": [
    "/ part 1\n",
    "facing:(0 1;1 0;0 -1;-1 0)!til 4\n",
    "\n",
    "show .Q.s1 res:move/[(SP;SD);path[;0];path[;1]]\n",
    "/ adjust for 0-based index\n",
    "sum 1000 4 1*1 1 0+res[0],first facing res 1"
   ]
  },
  {
   "cell_type": "code",
   "execution_count": 93,
   "id": "274f1e23",
   "metadata": {},
   "outputs": [
    {
     "data": {
      "text/plain": [
       "1b\n"
      ]
     },
     "execution_count": 93,
     "metadata": {},
     "output_type": "execute_result"
    }
   ],
   "source": [
    "nextpd:{[pd]\n",
    "    @[pd;0;+;pd 1]mod(maxR;maxC) / (currp+d)mod(maxR;maxC)\n",
    " }\n",
    "\n",
    "/ recreate the same but with function to produce next position/direction\n",
    "move:{[pd;t;s]\n",
    "    currpd:prevpd:@[pd;1;t];\n",
    "    /show .Q.s1(currp;d;s);\n",
    "    while[s>0;\n",
    "        currpd:nextpd[currpd];\n",
    "        c:FIELD . currpd 0;\n",
    "        /show .Q.s1(currp;s;c);\n",
    "        if[\"#\"=c;:prevpd];\n",
    "        if[\".\"=c;s-:1;prevpd:currpd];\n",
    "     ];\n",
    "    currpd\n",
    " }\n",
    "\n",
    "all t1 .' (\n",
    "    (((0 8;1 0);`L;1);(0 9;0 1));\n",
    "    (((0 8;1 0);`L;2);(0 10;0 1));\n",
    "    (((0 8;1 0);`L;3);(0 10;0 1)); / wall\n",
    "    (((0 8;0 1);`R;1);(1 8;1 0)); \n",
    "    (((0 8;0 1);`R;2);(1 8;1 0)); / wall\n",
    "    (((3 8;1 0);`L;1);(3 9;0 1));\n",
    "    (((3 8;1 0);`L;3);(3 11;0 1));\n",
    "    (((3 8;1 0);`L;4);(3 8;0 1))\n",
    " )"
   ]
  },
  {
   "cell_type": "code",
   "execution_count": 90,
   "id": "86f2183c",
   "metadata": {},
   "outputs": [
    {
     "name": "stdout",
     "output_type": "stream",
     "text": [
      "4\n"
     ]
    },
    {
     "data": {
      "text/plain": [
       "1b\n"
      ]
     },
     "execution_count": 90,
     "metadata": {},
     "output_type": "execute_result"
    }
   ],
   "source": [
    "show N:maxR div 3; / face side - 4 in example, 50 in real\n",
    "\n",
    "tile:{d:(0 2;1 0;1 1;1 2;2 2;2 3)!1 2 3 4 5 6;d x div N}\n",
    "t2:test tile\n",
    "all t2 .' (\n",
    "    (enlist 5 11;4);\n",
    "    (enlist 3 11;1);\n",
    "    (enlist 8 11;5);\n",
    "    (enlist 8 12;6);\n",
    "    (enlist 5 7;3);\n",
    "    (enlist 5 3;2)\n",
    " )"
   ]
  },
  {
   "cell_type": "code",
   "execution_count": 136,
   "id": "c69f9ec9",
   "metadata": {},
   "outputs": [],
   "source": [
    "TS:1 2 3 4 5 6!(0 8;4 0;4 4;4 8;8 8;8 12) / tile starts\n",
    "nextpd:{[pd]\n",
    "    p:pd 0;d:pd 1;\n",
    "    t:tile p;\n",
    "    0N!p:p mod N;\n",
    "    / A->B 5 11 -> 8 14 (tile 4 to tile 6) and change direction to down\n",
    "    if[(t=4)&(d~0 1)&p[1]=N-1;\n",
    "        /show \"AB\";\n",
    "        :(@[TS 6;1;+;N-1+p 0];1 0)];\n",
    "    \n",
    "    / C->D 11 10 -> 7 1 (tile 5 to tile 2) and change direction to up\n",
    "    if[(t=5)&(d~1 0)&p[0]=N-1;\n",
    "        /show \"CD\";\n",
    "        :(TS[2]+N-1+(0;p 1);-1 0)];\n",
    "\n",
    "    if[(t=5)&(d~0 -1)&p[1]=0;\n",
    "        /show \"5l\";\n",
    "        :(TS[3]+N-1+(0;p 0);-1 0)];\n",
    "\n",
    "    if[(t=3)&(d~1 0)&p[0]=N-1;\n",
    "        show \"3d\";\n",
    "        :(TS[5]+(N-1+p 1;0);0 1)];\n",
    "    \n",
    "    show \"default\";\n",
    "    :@[pd;0;+;pd 1]mod(maxR;maxC); / inside \n",
    " }"
   ]
  },
  {
   "cell_type": "code",
   "execution_count": 138,
   "id": "b0e062ad",
   "metadata": {},
   "outputs": [
    {
     "name": "stdout",
     "output_type": "stream",
     "text": [
      "3 1\n",
      "\"3d\"\n"
     ]
    },
    {
     "data": {
      "text/plain": [
       "1b\n"
      ]
     },
     "execution_count": 138,
     "metadata": {},
     "output_type": "execute_result"
    }
   ],
   "source": [
    "t3:test nextpd\n",
    "all t3 .' (\n",
    "    /(enlist (5 11;0 1);(8 14;1 0));\n",
    "    /(enlist (4 11;0 1);(8 15;1 0));\n",
    "    /(enlist (7 11;0 1);(8 12;1 0));\n",
    "    /(enlist (11 10;1 0);(7 1;-1 0));\n",
    "    /(enlist (11 8;1 0);(7 3;-1 0));\n",
    "    /(enlist (11 11;1 0);(7 0;-1 0));\n",
    "    enlist (enlist (7 5;1 0);(10 8;0 1))\n",
    " )"
   ]
  },
  {
   "cell_type": "code",
   "execution_count": 125,
   "id": "3ff041de",
   "metadata": {},
   "outputs": [
    {
     "data": {
      "text/plain": [
       "4 4\n"
      ]
     },
     "execution_count": 125,
     "metadata": {},
     "output_type": "execute_result"
    }
   ],
   "source": [
    "TS 3"
   ]
  },
  {
   "cell_type": "code",
   "execution_count": null,
   "id": "26a52547",
   "metadata": {},
   "outputs": [],
   "source": []
  }
 ],
 "metadata": {
  "kernelspec": {
   "display_name": "Q (kdb+)",
   "language": "q",
   "name": "qpk"
  },
  "language_info": {
   "file_extension": ".q",
   "mimetype": "text/x-q",
   "name": "q",
   "version": "4.0"
  }
 },
 "nbformat": 4,
 "nbformat_minor": 5
}
