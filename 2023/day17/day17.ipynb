{
 "cells": [
  {
   "cell_type": "code",
   "execution_count": 4,
   "id": "f1f4334a",
   "metadata": {},
   "outputs": [],
   "source": [
    ".hq.heap:()\n",
    "\n",
    "siftdown:{[startpos;pos]\n",
    "    newitem:.hq.heap[pos];\n",
    "    while[pos>startpos;\n",
    "        parentpos:(pos-1)div 2;\n",
    "        parent:.hq.heap[parentpos];\n",
    "        if[newitem[0]<parent 0;\n",
    "            .hq.heap[pos]:parent;\n",
    "            pos:parentpos;\n",
    "         ];\n",
    "        if[newitem[0]>=parent 0;startpos:pos];\n",
    "     ];\n",
    "    .hq.heap[pos]:newitem;\n",
    " };\n",
    "\n",
    "siftup:{[pos]\n",
    "    endpos:count .hq.heap;\n",
    "    startpos:pos;\n",
    "    newitem:.hq.heap[pos];\n",
    "    childpos:1+2*pos;\n",
    "    while[childpos<endpos;\n",
    "        rightpos:childpos+1;\n",
    "        if[(rightpos<endpos)&not .hq.heap[childpos;0]<.hq.heap[rightpos;0];childpos:rightpos];\n",
    "        .hq.heap[pos]:.hq.heap[childpos];\n",
    "        pos:childpos;\n",
    "        childpos:1+2*pos;\n",
    "     ];\n",
    "    .hq.heap[pos]:newitem;\n",
    "    siftdown[startpos;pos];\n",
    " };\n",
    "\n",
    "heappop:{\n",
    "    lastelt:last .hq.heap;\n",
    "    if[1=count .hq.heap;.hq.heap:();:lastelt];\n",
    "    returnitem:.hq.heap[0];\n",
    "    .hq.heap[0]:lastelt;\n",
    "    .hq.heap: -1_.hq.heap;\n",
    "    siftup[0];\n",
    "    :returnitem;\n",
    " };\n",
    "\n",
    "heappush:{[item]\n",
    "    .hq.heap,:enlist item;\n",
    "    siftdown[0;count[.hq.heap]-1];\n",
    " };"
   ]
  },
  {
   "cell_type": "code",
   "execution_count": 5,
   "id": "723e0985",
   "metadata": {},
   "outputs": [
    {
     "data": {
      "text/plain": [
       "::\n",
       "::\n"
      ]
     },
     "execution_count": 5,
     "metadata": {},
     "output_type": "execute_result"
    },
    {
     "name": "stdout",
     "output_type": "stream",
     "text": [
      "\"(23:41:59.092;50000)\"\n",
      "\"(23:42:24.615;100000)\"\n",
      "\"(23:43:11.371;150000)\"\n",
      "\"(23:44:30.891;200000)\"\n",
      "\"(23:46:26.092;250000)\"\n",
      "\"(23:48:44.479;300000)\"\n",
      "\"(23:51:57.927;350000)\"\n",
      "\"(23:55:24.787;400000)\"\n",
      "427748\n",
      "665\n"
     ]
    }
   ],
   "source": [
    "G:-48+\"j\"$r:read0`:input.txt / ascii shift\n",
    "N:count G\n",
    "mn:1\n",
    "mx:3\n",
    "end:(N-1;N-1)\n",
    "seen:enlist[(-1 -1;0 0)]!enlist 1b\n",
    ".hq.heap:()\n",
    "heappush each ((0;0 0;1 0);(0;0 0;0 1))\n",
    "/`r`u`l`d!(0 1;-1 0;0 -1;1 0)\n",
    "tl:{(neg y;x)} / turn left\n",
    "tr:{(y;neg x)} / turn right\n",
    "\n",
    "jj:0\n",
    "while[0<count .hq.heap;\n",
    "    if[not mod[jj+:1;50000];show .Q.s1(.z.T;jj)];\n",
    "    curr:heappop[];\n",
    "    val:curr 0;pos:curr 1;dir:curr 2;\n",
    "    if[pos~end;show jj;show val;.hq.heap:()];\n",
    "    if[(not pos~end)&not seen(pos;dir);\n",
    "        seen[(pos;dir)]:1b;\n",
    "        {[i;pos;d;val]\n",
    "            if[not null G . newpos:pos+i*d;\n",
    "                heappush (val+sum['[;]/[(G .;pos+;d*)]'[1+til i]];newpos;d)\n",
    "             ];\n",
    "         }[;pos;tl . dir;val] each mn+til 1+mx-mn;  \n",
    "        {[i;pos;d;val]\n",
    "            if[not null G . newpos:pos+i*d;\n",
    "                heappush (val+sum['[;]/[(G .;pos+;d*)]'[1+til i]];newpos;d)\n",
    "             ];\n",
    "         }[;pos;tr . dir;val] each mn+til 1+mx-mn;  \n",
    "     ];\n",
    " ];"
   ]
  },
  {
   "cell_type": "markdown",
   "id": "e8800aa1",
   "metadata": {},
   "source": [
    "# numeric dirs"
   ]
  },
  {
   "cell_type": "code",
   "execution_count": 84,
   "id": "6241a012",
   "metadata": {
    "scrolled": false
   },
   "outputs": [
    {
     "name": "stdout",
     "output_type": "stream",
     "text": [
      "102\n"
     ]
    },
    {
     "data": {
      "text/plain": []
     },
     "execution_count": 84,
     "metadata": {},
     "output_type": "execute_result"
    }
   ],
   "source": [
    "/ flattened\n",
    "raw:(-48+\"j\"$r:read0`:test1.txt),\\:3#0N / ascii shift, pad with nulls, flatten\n",
    "n:count first raw / \n",
    "N:count i:raze raw\n",
    "\n",
    "dirs:(1;-1;neg n;n) / r l u d\n",
    "visited:enlist[enlist -1 1]!enlist 1b\n",
    "tl:dirs!(n;neg n;1;-1) / turn left\n",
    "tr:dirs!(neg n;n;-1;1) / turn right\n",
    "dist:til[N]!0,(N-1)#10000\n",
    "end:N-4\n",
    "\n",
    "ii:0\n",
    "djf:{[hq]\n",
    "    /show hq;\n",
    "    if[not mod[ii+:1;10000];show ii];\n",
    "    t:first hq;hq:1_hq;\n",
    "    if[end~t 1;show t 0;:()];\n",
    "    if[visited enlist t 1 2;:hq];\n",
    "    visited[enlist t 1 2]:1b;\n",
    "\n",
    "    hl:t 0;pos:t 1;dir:t 2;\n",
    "    / turn right and do 1,2,3 steps\n",
    "    nt:flip (hl+sums l:i nbrs;nbrs:pos+1 2 3*ndir;3#ndir:tr dir);\n",
    "    hq,:nt where not null l;\n",
    "    / turn left and do 1,2,3 steps\n",
    "    nt:flip (hl+sums l:i nbrs;nbrs:pos+1 2 3*ndir;3#ndir:tl dir);\n",
    "    hq,:nt where not null l;\n",
    "\n",
    "    :hq iasc hq[;0]    \n",
    " }\n",
    "/djf/[18;((0;0;n);(0;0;1))]\n",
    "djf/[{0<>count x};((0;0;n);(0;0;1))]"
   ]
  },
  {
   "cell_type": "markdown",
   "id": "7cd6f6ea",
   "metadata": {},
   "source": [
    "# sorting"
   ]
  },
  {
   "cell_type": "code",
   "execution_count": null,
   "id": "303baf8b",
   "metadata": {
    "scrolled": true
   },
   "outputs": [],
   "source": [
    "/ dijkstra but wth manual control over \"forward move\"\n",
    "dirs:`r`u`l`d!(0 1;-1 0;0 -1;1 0)\n",
    "visited:enlist[(-1 -1;`r)]!enlist 1b\n",
    "tl:{(neg y;x)} / turn left\n",
    "tr:{(y;neg x)} / turn right\n",
    "end:(N-1;N-1)\n",
    "\n",
    "djf:{[hq]\n",
    "    /show .Q.s1 hq;\n",
    "    if[0=.z.t mod 1000;show count hq];\n",
    "    / pop min\n",
    "    hh:hq[;0];\n",
    "    midx:hh?min hh;\n",
    "    hq:@[hq;(0;midx);:;hq (midx;0)];\n",
    "\n",
    "    t:first hq;hq:1_hq;\n",
    "    if[end~t 1;show t 0;:()];\n",
    "    if[visited t 1 2;:hq];\n",
    "    visited[t 1 2]:1b;\n",
    "\n",
    "    hl:t 0;pos:t 1;dir:t 2;\n",
    "    / turn right and do 1,2,3 steps\n",
    "    nt:flip (hl+sums l:i ./:nbrs;nbrs:pos+/:1 2 3*\\:ndir;3#dirs?ndir:tr . dirs dir);\n",
    "    hq,:nt where (not null l)&not visited nt[;1 2];\n",
    "    / turn left and do 1,2,3 steps\n",
    "    nt:flip (hl+sums l:i ./:nbrs;nbrs:pos+/:1 2 3*\\:ndir;3#dirs?ndir:tl . dirs dir);\n",
    "    hq,:nt where (not null l)&not visited nt[;1 2];\n",
    "\n",
    "    :hq\n",
    " }\n",
    "\n",
    "djf/[{0<>count x};((0;0 0;`d);(0;0 0;`r))]"
   ]
  },
  {
   "cell_type": "markdown",
   "id": "629c2786",
   "metadata": {},
   "source": [
    "--- Day 17: Clumsy Crucible ---"
   ]
  },
  {
   "cell_type": "markdown",
   "id": "0c73914c",
   "metadata": {},
   "source": [
    "# pq with dict"
   ]
  },
  {
   "cell_type": "code",
   "execution_count": 2,
   "id": "efc59818",
   "metadata": {
    "scrolled": true
   },
   "outputs": [
    {
     "name": "stdout",
     "output_type": "stream",
     "text": [
      "50000\n",
      "100000\n",
      "150000\n",
      "200000\n",
      "250000\n",
      "300000\n",
      "350000\n",
      "400000\n",
      "665\n"
     ]
    }
   ],
   "source": [
    "i:-48+\"j\"$r:read0`:input.txt / ascii shift\n",
    "N:count i / square grid\n",
    "\n",
    "/ dijkstra but wth manual control over \"forward move\"\n",
    "dirs:`r`u`l`d!(0 1;-1 0;0 -1;1 0)\n",
    "visited:enlist[(-1 -1;`r)]!enlist 1b\n",
    "tl:`r`l`u`d!`d`u`r`l / turn left\n",
    "tr:`r`l`u`d!`u`d`l`r / turn right\n",
    "end:(N-1;N-1)\n",
    "\n",
    "ii:0;\n",
    ".hq.heap:((0;0 0;`d);(0;0 0;`r));\n",
    "t:(-1;-1 -1;`)\n",
    "while[not end~t 1;\n",
    "    /show hq;\n",
    "    /show .Q.s1 visited;\n",
    "    / pop min\n",
    "    t:heappop[];\n",
    "    if[not mod[ii+:1;50000];show ii];\n",
    "    \n",
    "    if[end~t 1;show t 0];\n",
    "    if[not visited pdidx:t 1 2;\n",
    "        visited[pdidx]:1b;\n",
    "\n",
    "        hl:t 0;pos:t 1;dir:t 2;\n",
    "        / turn right and do 1,2,3 steps\n",
    "        npd:flip(hl+sums vals:i ./:nbrs;nbrs:pos+/:1 2 3*\\:dirs nd;3#nd:tr dir);\n",
    "        heappush each npd where not null vals;\n",
    "        / turn left and do 1,2,3 steps\n",
    "        npd:flip(hl+sums vals:i ./:nbrs;nbrs:pos+/:1 2 3*\\:dirs nd;3#nd:tl dir);\n",
    "        heappush each npd where not null vals;\n",
    "     ];\n",
    " ];"
   ]
  },
  {
   "cell_type": "code",
   "execution_count": null,
   "id": "d0c608b8",
   "metadata": {},
   "outputs": [],
   "source": [
    "/ flatened\n",
    "raw:(-48+\"j\"$r:read0`:test2.txt),\\:3#0N / ascii shift, pad with nulls, flatten\n",
    "n:count first raw / \n",
    "N:count i:raze raw\n",
    "\n",
    "dirs:`r`l`u`d!(1;-1;neg n;n)\n",
    "visited:enlist[(-1;`r)]!enlist 1b\n",
    "tl:`r`l`u`d!`d`u`l`r / turn left\n",
    "tr:`r`l`u`d!`u`d`r`l / turn right\n",
    "dist:til[N]!0,(N-1)#10000\n",
    "end:N-4\n",
    "\n",
    "djf:{[hq]\n",
    "    /show .Q.s1 hq;\n",
    "    /show .Q.s1 visited;\n",
    "    t:0N!first hq;hq:1_hq;\n",
    "    if[end~t 1;show t 0;:()];\n",
    "    if[visited t 1 2;:hq];\n",
    "    visited[t 1 2]:1b;\n",
    "\n",
    "    hl:t 0;pos:t 1;dir:t 2;\n",
    "    / turn right and do 1,2,3 steps\n",
    "    nt:flip (hl+sums l:i nbrs;nbrs:pos+1 2 3*ndir;3#dirs?ndir:dirs tr dir);\n",
    "    hq,:nt where not null l;\n",
    "    / turn left and do 1,2,3 steps\n",
    "    nt:flip (hl+sums l:i nbrs;nbrs:pos+1 2 3*ndir;3#dirs?ndir:dirs tl dir);\n",
    "    hq,:nt where not null l;\n",
    "\n",
    "    :hq iasc hq[;0]    \n",
    " }\n",
    "djf/[{0<>count x};((0;0;`d);(0;0;`r))]"
   ]
  },
  {
   "cell_type": "code",
   "execution_count": 47,
   "id": "9a9e8a05",
   "metadata": {
    "scrolled": true
   },
   "outputs": [
    {
     "name": "stdout",
     "output_type": "stream",
     "text": [
      "0 7\n",
      "0 1\n",
      "1 1\n",
      "7 7\n",
      "2 1\n",
      "14 7\n",
      "3 1\n",
      "21 7\n",
      "8 7\n",
      "8 1\n",
      "9 7\n",
      "15 1\n",
      "22 1\n",
      "7 -1\n",
      "1 -7\n",
      "8 7\n",
      "9 1\n",
      "23 1\n",
      "9 1\n",
      "15 7\n",
      "10 1\n",
      "22 7\n",
      "15 7\n",
      "10 1\n",
      "16 7\n",
      "16 1\n",
      "24 1\n",
      "6\n"
     ]
    }
   ],
   "source": [
    "/ dijkstra but wth manual control over \"forward move\"\n",
    "/ flattened\n",
    "raw:(-48+\"j\"$r:read0`:test2.txt),\\:3#0N / ascii shift, pad with nulls, flatten\n",
    "n:count first raw / \n",
    "N:count i:raze raw\n",
    "\n",
    "dirs:(1;-1;neg n;n) / r l u d\n",
    "tr:dirs!(n;neg n;1;-1) / turn right\n",
    "tl:dirs!(neg n;n;-1;1) / turn left\n",
    "visited:(4*N)#0b\n",
    "end:N-4\n",
    "\n",
    "ii:0;\n",
    "hq:enlist[0]!enlist (0;n;0;1);\n",
    "t:(-1;1)\n",
    "while[not end=t 0;\n",
    "    /show .Q.s1 hq;\n",
    "    /show visited;\n",
    "    / pop min\n",
    "    if[not count hq[m]:2_ mv:hq m:min key hq;hq _:m];\n",
    "    t:0N!2#mv;\n",
    "    if[not mod[ii+:1;10000];show ii];\n",
    "    \n",
    "    if[end=t 0;show m];\n",
    "    if[not visited tidx:sum@'[(::;dirs?);t];\n",
    "        visited[tidx]:1b;\n",
    "\n",
    "        hl:m;pos:t 0;dir:t 1;\n",
    "        / turn right and do 1,2,3 steps\n",
    "        nhl:hl+sums l:i nbrs:pos+1 2 3*nd:tr dir;\n",
    "        if[0<cidx:count idx:where not null l;\n",
    "            res:flip (nbrs idx;cidx#nd);\n",
    "            hq[nhl kidx],:res kidx:where nhl in key hq; / existing key -> join\n",
    "            hq,:raze each res group nhl except nhl kidx; / new key -> assign\n",
    "         ];\n",
    "        / turn left and do 1,2,3 steps\n",
    "        nhl:hl+sums l:i nbrs:pos+1 2 3*nd:tl dir;\n",
    "        if[0<cidx:count idx:where not null l;\n",
    "            res:flip (nbrs idx;cidx#nd);\n",
    "            hq[nhl kidx],:res kidx:where nhl in key hq; / existing key -> join\n",
    "            hq,:raze each res group nhl except nhl kidx; / new key -> assign\n",
    "         ];\n",
    "     ];\n",
    " ];"
   ]
  },
  {
   "cell_type": "code",
   "execution_count": null,
   "id": "f3e00a23",
   "metadata": {},
   "outputs": [],
   "source": []
  },
  {
   "cell_type": "code",
   "execution_count": null,
   "id": "3143b0b8",
   "metadata": {},
   "outputs": [],
   "source": []
  }
 ],
 "metadata": {
  "kernelspec": {
   "display_name": "Q (kdb+)",
   "language": "q",
   "name": "qpk"
  },
  "language_info": {
   "file_extension": ".q",
   "mimetype": "text/x-q",
   "name": "q",
   "version": "4.0"
  }
 },
 "nbformat": 4,
 "nbformat_minor": 5
}
