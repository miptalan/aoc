{
 "cells": [
  {
   "cell_type": "code",
   "execution_count": 3,
   "id": "eb764648",
   "metadata": {},
   "outputs": [
    {
     "data": {
      "text/plain": [
       "\"3   4\"\n",
       "\"4   3\"\n",
       "\"2   5\"\n",
       "\"1   3\"\n",
       "\"3   9\"\n",
       "\"3   3\"\n"
      ]
     },
     "execution_count": 3,
     "metadata": {},
     "output_type": "execute_result"
    }
   ],
   "source": [
    "read0`:test.txt"
   ]
  },
  {
   "cell_type": "code",
   "execution_count": 4,
   "id": "550c1e7e",
   "metadata": {},
   "outputs": [
    {
     "data": {
      "text/plain": [
       "3 4 2 1 3 3\n",
       "4 3 5 3 9 3\n"
      ]
     },
     "execution_count": 4,
     "metadata": {},
     "output_type": "execute_result"
    }
   ],
   "source": [
    "/ skip two blank column inbetween\n",
    "/ just lists as output - so no enlist for second \n",
    "(\"J  J\";\" \")0:`:test.txt"
   ]
  },
  {
   "cell_type": "code",
   "execution_count": 6,
   "id": "a763991b",
   "metadata": {},
   "outputs": [
    {
     "data": {
      "text/plain": [
       "3 4 2 1 3 3\n",
       "4 3 5 3 9 3\n"
      ]
     },
     "execution_count": 6,
     "metadata": {},
     "output_type": "execute_result"
    }
   ],
   "source": [
    "/ new feature from 4.1 - pattern matching\n",
    "(a;b):(\"J  J\";\" \")0:`:test.txt\n",
    "(a;b)"
   ]
  },
  {
   "cell_type": "markdown",
   "id": "a2a450a7-6228-4ea9-beff-30ddccf37b95",
   "metadata": {},
   "source": [
    "# Problem 1\n",
    "To find the total distance between the left list and the right list, add up the distances between all of the pairs you found. In the example above, this is 2 + 1 + 0 + 1 + 2 + 5, a total distance of 11!\n",
    "Your actual left and right lists contain many location IDs. What is the total distance between your lists?\n",
    "\n",
    "Solution: sum absolute distances between sorted lists"
   ]
  },
  {
   "cell_type": "code",
   "execution_count": 11,
   "id": "94329568-d8d7-489f-ba69-b92bb02471a2",
   "metadata": {},
   "outputs": [
    {
     "data": {
      "text/plain": [
       "1 2 3 3 3 4\n",
       "3 3 3 4 5 9\n"
      ]
     },
     "execution_count": 11,
     "metadata": {},
     "output_type": "execute_result"
    }
   ],
   "source": [
    "/ sort both\n",
    "asc@'(a;b)"
   ]
  },
  {
   "cell_type": "code",
   "execution_count": 12,
   "id": "d619c011-d680-420d-af20-7e5d15943a5b",
   "metadata": {},
   "outputs": [
    {
     "data": {
      "text/plain": [
       "-2 -1 0 -1 -2 -5\n"
      ]
     },
     "execution_count": 12,
     "metadata": {},
     "output_type": "execute_result"
    }
   ],
   "source": [
    "/ subtract\n",
    ".[-]asc@'(a;b)"
   ]
  },
  {
   "cell_type": "code",
   "execution_count": 14,
   "id": "c0c9c941-a020-4213-a430-c526bfac4b1e",
   "metadata": {},
   "outputs": [
    {
     "data": {
      "text/plain": [
       "11\n"
      ]
     },
     "execution_count": 14,
     "metadata": {},
     "output_type": "execute_result"
    }
   ],
   "source": [
    "/ result\n",
    "sum abs .[-]asc@'(a;b)"
   ]
  },
  {
   "cell_type": "markdown",
   "id": "e8c162e7-caa0-4442-aea8-03e2c09db7ec",
   "metadata": {},
   "source": [
    "# Problem 2\n",
    "\n",
    "This time, you'll need to figure out exactly how often each number from the left list appears in the right list. Calculate a total similarity score by adding up each number in the left list after multiplying it by the number of times that number appears in the right list.\n",
    "Once again consider your left and right lists. What is their similarity score?\n",
    "\n",
    "Solution: sum of product of number of occurences"
   ]
  },
  {
   "cell_type": "code",
   "execution_count": 16,
   "id": "628d57da-ad68-4701-b8b5-f014db46582a",
   "metadata": {},
   "outputs": [
    {
     "data": {
      "text/plain": [
       "3 4 2 1 3 3\n",
       "4 3 5 3 9 3\n"
      ]
     },
     "execution_count": 16,
     "metadata": {},
     "output_type": "execute_result"
    }
   ],
   "source": [
    "(a;b)"
   ]
  },
  {
   "cell_type": "code",
   "execution_count": 15,
   "id": "df008eac-ac0a-4fc3-9ef9-35e937b66344",
   "metadata": {},
   "outputs": [
    {
     "data": {
      "text/plain": [
       "010000b\n",
       "100011b\n",
       "000000b\n",
       "100011b\n",
       "000000b\n",
       "100011b\n"
      ]
     },
     "execution_count": 15,
     "metadata": {},
     "output_type": "execute_result"
    }
   ],
   "source": [
    "/ occurences\n",
    "a in/:b"
   ]
  },
  {
   "cell_type": "code",
   "execution_count": 17,
   "id": "7e9ea7cd-c75e-4920-a492-dceae84bc6e2",
   "metadata": {},
   "outputs": [
    {
     "data": {
      "text/plain": [
       "3 1 0 0 3 3i\n"
      ]
     },
     "execution_count": 17,
     "metadata": {},
     "output_type": "execute_result"
    }
   ],
   "source": [
    "/ number of occurences\n",
    "sum a in/:b"
   ]
  },
  {
   "cell_type": "code",
   "execution_count": 18,
   "id": "183bfa05-078b-4ce3-8c8c-b2c44e242fed",
   "metadata": {},
   "outputs": [
    {
     "data": {
      "text/plain": [
       "31\n"
      ]
     },
     "execution_count": 18,
     "metadata": {},
     "output_type": "execute_result"
    }
   ],
   "source": [
    "/ similarity score\n",
    "sum a*sum a in/:b"
   ]
  }
 ],
 "metadata": {
  "kernelspec": {
   "display_name": "Q (kdb+)",
   "language": "q",
   "name": "qpk"
  },
  "language_info": {
   "file_extension": ".q",
   "mimetype": "text/x-q",
   "name": "q",
   "version": "4.1.0"
  }
 },
 "nbformat": 4,
 "nbformat_minor": 5
}
