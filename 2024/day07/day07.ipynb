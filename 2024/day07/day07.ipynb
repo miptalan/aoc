{
 "cells": [
  {
   "cell_type": "code",
   "execution_count": 232,
   "id": "019cbfa0-3319-47be-9f1d-803807c7b143",
   "metadata": {},
   "outputs": [
    {
     "data": {
      "text/plain": [
       "190    10 19     \n",
       "3267   81 40 27  \n",
       "83     17 5      \n",
       "156    15 6      \n",
       "7290   6 8 6 15  \n",
       "161011 16 10 13  \n",
       "192    17 8 14   \n",
       "21037  9 7 18 13 \n",
       "292    11 6 16 20\n"
      ]
     },
     "execution_count": 232,
     "metadata": {},
     "output_type": "execute_result"
    }
   ],
   "source": [
    "input:{i:x?\":\";\"J\"$(i#x;\" \"vs(i+2)_x)} each read0`test.txt\n",
    "input"
   ]
  },
  {
   "cell_type": "code",
   "execution_count": 233,
   "id": "fd2bbaf9-d54f-4951-a2b5-d499d18eb37d",
   "metadata": {},
   "outputs": [
    {
     "data": {
      "text/plain": [
       "2 5 9 45 51\n"
      ]
     },
     "execution_count": 233,
     "metadata": {},
     "output_type": "execute_result"
    }
   ],
   "source": [
    "l:1 2 3 4 5 6\n",
    "/ accumulate left to right with provided operations\n",
    "{.[z;(x;y)]}\\[l 0;1_l;(*;+;+;*;+)]"
   ]
  },
  {
   "cell_type": "code",
   "execution_count": 234,
   "id": "3b10dc81-6d94-4fc1-89f2-7d1f1c03e3e7",
   "metadata": {},
   "outputs": [
    {
     "data": {
      "text/plain": [
       "8\n"
      ]
     },
     "execution_count": 234,
     "metadata": {},
     "output_type": "execute_result"
    },
    {
     "data": {
      "text/plain": [
       "000b\n",
       "001b\n",
       "010b\n",
       "011b\n",
       "100b\n",
       "101b\n",
       "110b\n",
       "111b\n"
      ]
     },
     "execution_count": 234,
     "metadata": {},
     "output_type": "execute_result"
    }
   ],
   "source": [
    "n:3 / number gabs\n",
    "prd n#2 / number combinations\n",
    "-3#/:0b vs/:til 8 / + or * combinations"
   ]
  },
  {
   "cell_type": "code",
   "execution_count": 235,
   "id": "75ad6261-07bd-4b23-8b5c-071a7d42c84d",
   "metadata": {},
   "outputs": [
    {
     "data": {
      "text/plain": [
       "+ +\n",
       "+ *\n",
       "* +\n",
       "* *\n"
      ]
     },
     "execution_count": 235,
     "metadata": {},
     "output_type": "execute_result"
    }
   ],
   "source": [
    "/ combine into fn\n",
    "ops:{![01b;(+;*)]('[neg[x]#;0b vs]'[til prd x#2])}\n",
    "ops 2"
   ]
  },
  {
   "cell_type": "markdown",
   "id": "6a93ce8a-c713-42f0-b0a4-c38927a0827a",
   "metadata": {},
   "source": [
    "# Problem 1\n",
    "The engineers just need the total calibration result, which is the sum of the test values from just the equations that could possibly be true. In the above example, the sum of the test values for the three equations listed above is 3749.\n",
    "\n",
    "Determine which equations could possibly be true. What is their total calibration result?\n",
    "\n",
    "Solution: create all possible combinations of + and * to fill gaps, accumulate result with accumulator(/)"
   ]
  },
  {
   "cell_type": "code",
   "execution_count": 236,
   "id": "f5f094d7-19b9-40b7-ba7e-ac9c24deb846",
   "metadata": {},
   "outputs": [
    {
     "data": {
      "text/plain": [
       "3749\n"
      ]
     },
     "execution_count": 236,
     "metadata": {},
     "output_type": "execute_result"
    }
   ],
   "source": [
    "p1:{[(r;l)]\n",
    "    / check if result equals to accumulation for each possible combination of operators\n",
    "    r={.[z;(x;y)]}/[l 0;1_l;]'[ops -1+count l]\n",
    " }\n",
    "sum input[;0] where any each p1 each input"
   ]
  },
  {
   "cell_type": "markdown",
   "id": "a5d2f901-1329-4e58-b30c-2469a9d4814d",
   "metadata": {},
   "source": [
    "# Problem 2\n",
    "Using your new knowledge of elephant hiding spots, determine which equations could possibly be true. What is their total calibration result?\n",
    "\n",
    "Solution: same as p1, add one more operation to concat"
   ]
  },
  {
   "cell_type": "code",
   "execution_count": 237,
   "id": "e9bea8d5-6861-4720-a6e2-39feb0ebc691",
   "metadata": {},
   "outputs": [
    {
     "data": {
      "text/plain": [
       "9\n"
      ]
     },
     "execution_count": 237,
     "metadata": {},
     "output_type": "execute_result"
    },
    {
     "data": {
      "text/plain": [
       "0 0\n",
       "0 1\n",
       "0 2\n",
       "1 0\n",
       "1 1\n",
       "1 2\n",
       "2 0\n",
       "2 1\n",
       "2 2\n"
      ]
     },
     "execution_count": 237,
     "metadata": {},
     "output_type": "execute_result"
    }
   ],
   "source": [
    "n:2 / number gabs\n",
    "prd n#3 / number combinations\n",
    "{#[n-count l;0],l:3 vs x} each til prd n#3 / ||, + or * combinations"
   ]
  },
  {
   "cell_type": "code",
   "execution_count": 238,
   "id": "406b2050-c12d-4877-b12a-56f28d08bd55",
   "metadata": {},
   "outputs": [
    {
     "data": {
      "text/plain": [
       "11\n"
      ]
     },
     "execution_count": 238,
     "metadata": {},
     "output_type": "execute_result"
    }
   ],
   "source": [
    "c:{\"J\"$\"\"sv string(x;y)} / concatenate\n",
    "c . 1 1"
   ]
  },
  {
   "cell_type": "code",
   "execution_count": 239,
   "id": "4bb34910-c9e0-4f9d-a309-aaa93cc8035e",
   "metadata": {},
   "outputs": [
    {
     "data": {
      "text/plain": [
       "2 23 27 275 281\n"
      ]
     },
     "execution_count": 239,
     "metadata": {},
     "output_type": "execute_result"
    }
   ],
   "source": [
    "l:1 2 3 4 5 6\n",
    "/ accumulate left to right with provided operations\n",
    "{.[z;(x;y)]}\\[l 0;1_l;(*;c;+;c;+)]"
   ]
  },
  {
   "cell_type": "code",
   "execution_count": 240,
   "id": "2449bd80-7ceb-4f75-8957-66d334f106e8",
   "metadata": {},
   "outputs": [
    {
     "data": {
      "text/plain": [
       "+                      +                     \n",
       "+                      *                     \n",
       "+                      {\"J\"$\"\"sv string(x;y)}\n",
       "*                      +                     \n",
       "*                      *                     \n",
       "*                      {\"J\"$\"\"sv string(x;y)}\n",
       "{\"J\"$\"\"sv string(x;y)} +                     \n",
       "{\"J\"$\"\"sv string(x;y)} *                     \n",
       "{\"J\"$\"\"sv string(x;y)} {\"J\"$\"\"sv string(x;y)}\n"
      ]
     },
     "execution_count": 240,
     "metadata": {},
     "output_type": "execute_result"
    }
   ],
   "source": [
    "/ generate operation combinations\n",
    "ops:{![0 1 2;(+;*;c)]{#[x-count l;0],l:3 vs y}[x] each til prd x#3}\n",
    "ops 2"
   ]
  },
  {
   "cell_type": "code",
   "execution_count": 241,
   "id": "941d9715-548a-4418-baea-325725d16fe1",
   "metadata": {},
   "outputs": [
    {
     "data": {
      "text/plain": [
       "11387\n"
      ]
     },
     "execution_count": 241,
     "metadata": {},
     "output_type": "execute_result"
    }
   ],
   "source": [
    "p1:{[(r;l)]\n",
    "    / check if result equals to accumulation for each possible combination of operators\n",
    "    r={.[z;(x;y)]}/[l 0;1_l;]'[ops -1+count l]\n",
    " }\n",
    "sum input[;0] where any each p1 each input"
   ]
  }
 ],
 "metadata": {
  "kernelspec": {
   "display_name": "Q (kdb+)",
   "language": "q",
   "name": "qpk"
  },
  "language_info": {
   "file_extension": ".q",
   "mimetype": "text/x-q",
   "name": "q",
   "version": "4.1.0"
  }
 },
 "nbformat": 4,
 "nbformat_minor": 5
}
