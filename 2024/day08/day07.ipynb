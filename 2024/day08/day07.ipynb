{
 "cells": [
  {
   "cell_type": "code",
   "execution_count": 35,
   "id": "e6e219cc-065f-4b2c-84d3-d8e31246413f",
   "metadata": {},
   "outputs": [
    {
     "data": {
      "text/plain": [
       "\"........5................r..................B.....\"\n",
       "\"....................................V..B..........\"\n",
       "\"...........................................B......\"\n",
       "\"r..................C....................Y......N..\"\n",
       "\"............................C.....................\"\n",
       "\"vb.r........9......x..................7...........\"\n",
       "\"..v........C.........................U...7.N..6...\"\n",
       "\"5............9..................n.B...............\"\n",
       "\"....r........4....................0.....K.....Y...\"\n",
       "\"..4...C............7.......U..........6...........\"\n",
       "\"......4z....................n.......U....6........\"\n",
       "\"..............b...........N..........n............\"\n",
       "\".......9............x.....V..............K........\"\n",
       "\".....v......................................2.....\"\n",
       "\".....V........Z........n..........................\"\n",
       "\"....z..........................VU......K..........\"\n",
       "\"...b....z..............................Y..........\"\n",
       "\".z.......Z..................................K.....\"\n",
       "\"..b.................................7.............\"\n",
       "\".4x...............................................\"\n",
       "\".h.......................5........................\"\n",
       "\".................................g................\"\n",
       "..\n"
      ]
     },
     "execution_count": 35,
     "metadata": {},
     "output_type": "execute_result"
    },
    {
     "data": {
      "text/plain": [
       "50\n"
      ]
     },
     "execution_count": 35,
     "metadata": {},
     "output_type": "execute_result"
    },
    {
     "data": {
      "text/plain": [
       "50\n"
      ]
     },
     "execution_count": 35,
     "metadata": {},
     "output_type": "execute_result"
    }
   ],
   "source": [
    "input:read0`:input.txt\n",
    "input\n",
    "count input\n",
    "count input 0"
   ]
  },
  {
   "cell_type": "code",
   "execution_count": 36,
   "id": "041388da-2688-4973-b2a4-f9f4a61b4b71",
   "metadata": {},
   "outputs": [
    {
     "data": {
      "text/plain": [
       "5| 3\n",
       "r| 4\n",
       "B| 4\n",
       "V| 4\n",
       "C| 4\n",
       "Y| 3\n",
       "N| 4\n",
       "v| 4\n",
       "b| 4\n",
       "9| 4\n",
       "x| 3\n",
       "7| 4\n",
       "U| 4\n",
       "6| 4\n",
       "n| 4\n",
       "4| 4\n",
       "0| 4\n",
       "K| 4\n",
       "z| 4\n",
       "2| 4\n",
       "Z| 4\n",
       "h| 4\n",
       "..\n"
      ]
     },
     "execution_count": 36,
     "metadata": {},
     "output_type": "execute_result"
    }
   ],
   "source": [
    "/ how many different antennas?\n",
    "count each group (raze input) except \".\""
   ]
  },
  {
   "cell_type": "code",
   "execution_count": 37,
   "id": "30b13439-51bd-48e5-800b-c48c77f25bd7",
   "metadata": {},
   "outputs": [
    {
     "data": {
      "text/plain": [
       "\"5rBVCYNvb9x7U6n40Kz2Zhgcdu8THkqQXODtjoJR3yG1\"\n"
      ]
     },
     "execution_count": 37,
     "metadata": {},
     "output_type": "execute_result"
    }
   ],
   "source": [
    "freqs:(distinct raze input) except \".\"\n",
    "freqs"
   ]
  },
  {
   "cell_type": "code",
   "execution_count": 38,
   "id": "0d8f730f-5a84-409c-b566-edd1fefa6b6a",
   "metadata": {},
   "outputs": [
    {
     "data": {
      "text/plain": [
       "50 50 50 50 50 50 50 50 34 50 50 50 50 50 50 50 50 50 50 50 50 50 19 50 50 50..\n"
      ]
     },
     "execution_count": 38,
     "metadata": {},
     "output_type": "execute_result"
    },
    {
     "data": {
      "text/plain": [
       "8  34\n",
       "22 19\n",
       "47 6 \n",
       "49 17\n"
      ]
     },
     "execution_count": 38,
     "metadata": {},
     "output_type": "execute_result"
    }
   ],
   "source": [
    "N:count input 0\n",
    "input?\\:\"0\"\n",
    "{[f] r:where N<>c:input?\\:f;flip (r;c r)} \"0\""
   ]
  },
  {
   "cell_type": "code",
   "execution_count": 39,
   "id": "0ea750a0-fb12-471a-9a9d-d51e8a7d90c8",
   "metadata": {},
   "outputs": [
    {
     "data": {
      "text/plain": [
       "0 11\n",
       "3 2 \n"
      ]
     },
     "execution_count": 39,
     "metadata": {},
     "output_type": "execute_result"
    }
   ],
   "source": [
    "/ antinodes for a pair\n",
    "{[(x;y)](x+x-y;y-x-y)}[(1 8;2 5)]"
   ]
  },
  {
   "cell_type": "code",
   "execution_count": 40,
   "id": "785e1f93-da07-4721-baad-08b86d2515a8",
   "metadata": {},
   "outputs": [
    {
     "data": {
      "text/plain": [
       "\"((1 8;2 5);(1 8;3 7);(1 8;4 4);(2 5;3 7);(2 5;4 4);(3 7;4 4))\"\n"
      ]
     },
     "execution_count": 40,
     "metadata": {},
     "output_type": "execute_result"
    }
   ],
   "source": [
    "/ non-equal pairwise combinations\n",
    "gen:{raze {y,/:x where x>y}[l]'[l:til x]}\n",
    "a:(1 8;2 5;3 7;4 4)\n",
    ".Q.s1 a@/:gen count a"
   ]
  },
  {
   "cell_type": "code",
   "execution_count": 41,
   "id": "6d6d1ba9-ce08-4870-9a17-dda6567533ee",
   "metadata": {},
   "outputs": [
    {
     "data": {
      "text/plain": [
       "2 2\n"
      ]
     },
     "execution_count": 41,
     "metadata": {},
     "output_type": "execute_result"
    }
   ],
   "source": [
    "/ only those within field\n",
    "{[(x;y)] an where all each within[an:(x+x-y;y-x-y);(0;N-1)]} (0 0;1 1)"
   ]
  },
  {
   "cell_type": "markdown",
   "id": "aef6e299-3e12-4c69-816e-e76bd8e411d9",
   "metadata": {},
   "source": [
    "# Problem 1\n",
    "Calculate the impact of the signal. How many unique locations within the bounds of the map contain an antinode?\n",
    "\n",
    "Solution: find all rows and columns of non-\".\" cells, for each - generate non-repeating pairs and do vector math to calculate antinodes"
   ]
  },
  {
   "cell_type": "code",
   "execution_count": 42,
   "id": "83df27cd-fd34-4f6b-8885-832c831da80d",
   "metadata": {},
   "outputs": [
    {
     "data": {
      "text/plain": [
       "261\n"
      ]
     },
     "execution_count": 42,
     "metadata": {},
     "output_type": "execute_result"
    }
   ],
   "source": [
    "/ combine\n",
    "count distinct raze {[f]\n",
    "    r:where N<>c:input?\\:f;\n",
    "    a:flip (r;c r);\n",
    "    raze {[(x;y)]an where all each within[an:(x+x-y;y-x-y);(0;N-1)]} each a@/:gen count a\n",
    " } each freqs"
   ]
  },
  {
   "cell_type": "markdown",
   "id": "fd8b3840-2fb3-4290-89fb-ea14f9db9b90",
   "metadata": {},
   "source": [
    "# Problem 2\n",
    "Calculate the impact of the signal using this updated model. How many unique locations within the bounds of the map contain an antinode?\n",
    "\n",
    "Solution: same, but vector math with \"while' iterator"
   ]
  },
  {
   "cell_type": "code",
   "execution_count": 43,
   "id": "d1472aeb-2e68-4b29-88dc-2c512be39a3a",
   "metadata": {},
   "outputs": [
    {
     "data": {
      "text/plain": [
       "3  2 \n",
       "6  4 \n",
       "9  6 \n",
       "12 8 \n",
       "15 10\n",
       "18 12\n",
       "21 14\n",
       "24 16\n",
       "27 18\n",
       "30 20\n",
       "33 22\n",
       "36 24\n",
       "39 26\n",
       "42 28\n",
       "45 30\n",
       "48 32\n"
      ]
     },
     "execution_count": 43,
     "metadata": {},
     "output_type": "execute_result"
    },
    {
     "data": {
      "text/plain": [
       "7 6\n",
       "5 3\n",
       "3 0\n"
      ]
     },
     "execution_count": 43,
     "metadata": {},
     "output_type": "execute_result"
    }
   ],
   "source": [
    "1_-1_{all x within (0;N-1)}{x+y}[3 2]\\0 0\n",
    "1_-1_{all x within (0;N-1)}{y-x}[2 3]\\9 9"
   ]
  },
  {
   "cell_type": "code",
   "execution_count": 46,
   "id": "f09c75c5-c2b4-4328-b209-dd1789bdc17e",
   "metadata": {},
   "outputs": [
    {
     "data": {
      "text/plain": [
       "1 8 \n",
       "0 11\n",
       "2 5 \n",
       "3 2 \n"
      ]
     },
     "execution_count": 46,
     "metadata": {},
     "output_type": "execute_result"
    }
   ],
   "source": [
    "anf:{[(a;b)]\n",
    "    w:{all x within (0;N-1)};\n",
    "    r:-1_w{x+y}[;a-b]\\a; / step \"left\" from \"left\" node while in field\n",
    "    r,-1_w{x-y}[;a-b]\\b / right from right\n",
    " }\n",
    "anf[(1 8;2 5)]"
   ]
  },
  {
   "cell_type": "code",
   "execution_count": 45,
   "id": "2a20ee7b-1872-45d8-9ebc-618b027b9708",
   "metadata": {},
   "outputs": [
    {
     "data": {
      "text/plain": [
       "898\n"
      ]
     },
     "execution_count": 45,
     "metadata": {},
     "output_type": "execute_result"
    }
   ],
   "source": [
    "/ combine\n",
    "count distinct raze {[f]\n",
    "    r:where N<>c:input?\\:f;\n",
    "    a:flip (r;c r);\n",
    "    raze anf each a@/:gen count a\n",
    " } each freqs"
   ]
  }
 ],
 "metadata": {
  "kernelspec": {
   "display_name": "Q (kdb+)",
   "language": "q",
   "name": "qpk"
  },
  "language_info": {
   "file_extension": ".q",
   "mimetype": "text/x-q",
   "name": "q",
   "version": "4.1.0"
  }
 },
 "nbformat": 4,
 "nbformat_minor": 5
}
