{
 "cells": [
  {
   "cell_type": "code",
   "execution_count": 61,
   "id": "016cfc6a-446a-410c-9fbb-7513bcaa2d9f",
   "metadata": {},
   "outputs": [
    {
     "data": {
      "text/plain": [
       "\"7 6 4 2 1\"\n",
       "\"1 2 7 8 9\"\n",
       "\"9 7 6 2 1\"\n",
       "\"1 3 2 4 5\"\n",
       "\"8 6 4 4 1\"\n",
       "\"1 3 6 7 9\"\n"
      ]
     },
     "execution_count": 61,
     "metadata": {},
     "output_type": "execute_result"
    }
   ],
   "source": [
    "read0`:test.txt"
   ]
  },
  {
   "cell_type": "code",
   "execution_count": 152,
   "id": "dfcaad82-8f58-496d-897f-56f91e3976bc",
   "metadata": {},
   "outputs": [
    {
     "data": {
      "text/plain": [
       "7 6 4 2 1\n",
       "1 2 7 8 9\n",
       "9 7 6 2 1\n",
       "1 3 2 4 5\n",
       "8 6 4 4 1\n",
       "1 3 6 7 9\n"
      ]
     },
     "execution_count": 152,
     "metadata": {},
     "output_type": "execute_result"
    }
   ],
   "source": [
    "input:\"J\"$\" \"vs/:read0`:test.txt\n",
    "input"
   ]
  },
  {
   "cell_type": "markdown",
   "id": "63ce9780-7e0f-47c1-9391-f7d64be15e8e",
   "metadata": {},
   "source": [
    "# Problem 1\n",
    "The engineers are trying to figure out which reports are safe. The Red-Nosed reactor safety systems can only tolerate levels that are either gradually increasing or gradually decreasing. So, a report only counts as safe if both of the following are true:\n",
    "- The levels are either all increasing or all decreasing.\n",
    "- Any two adjacent levels differ by at least one and at most three.\n",
    "\n",
    "Solution: calculate differences and check consistent sign and abs value within [0;3]"
   ]
  },
  {
   "cell_type": "code",
   "execution_count": 153,
   "id": "c745e4e0-b495-4cf6-a6c2-e38b888bbbf1",
   "metadata": {},
   "outputs": [
    {
     "data": {
      "text/plain": [
       "7 -1 -2 -2 -1\n",
       "1 1  5  1  1 \n",
       "9 -2 -1 -4 -1\n",
       "1 2  -1 2  1 \n",
       "8 -2 -2 0  -3\n",
       "1 2  3  1  2 \n"
      ]
     },
     "execution_count": 153,
     "metadata": {},
     "output_type": "execute_result"
    }
   ],
   "source": [
    "/ running differences, need to drop first because deltas outputs first value as-is\n",
    "deltas each input"
   ]
  },
  {
   "cell_type": "code",
   "execution_count": 154,
   "id": "7837ebe4-51a6-45c8-a638-011a4b611303",
   "metadata": {},
   "outputs": [
    {
     "data": {
      "text/plain": [
       "1111b\n",
       "0000b\n"
      ]
     },
     "execution_count": 154,
     "metadata": {},
     "output_type": "execute_result"
    }
   ],
   "source": [
    "/ check that all difference are either within [-3;-1] or [1;3]\n",
    "within/:[;(-3 -1;1 3)] 1_deltas input 0"
   ]
  },
  {
   "cell_type": "code",
   "execution_count": 155,
   "id": "4d4431aa-ea37-43f9-933b-061a48a7c95f",
   "metadata": {},
   "outputs": [
    {
     "name": "stdout",
     "output_type": "stream",
     "text": [
      "10b\n"
     ]
    },
    {
     "data": {
      "text/plain": [
       "1b\n"
      ]
     },
     "execution_count": 155,
     "metadata": {},
     "output_type": "execute_result"
    }
   ],
   "source": [
    "/ either (any) all are tru in first list or in second\n",
    "any 0N!all each within/:[;(-3 -1;1 3)] 1_deltas input 0"
   ]
  },
  {
   "cell_type": "code",
   "execution_count": 156,
   "id": "13540030-a393-4cd2-b0eb-9892e0008fab",
   "metadata": {},
   "outputs": [
    {
     "data": {
      "text/plain": [
       "2i\n"
      ]
     },
     "execution_count": 156,
     "metadata": {},
     "output_type": "execute_result"
    }
   ],
   "source": [
    "/ combine\n",
    "sum {any all each within/:[;(-3 -1;1 3)] 1_deltas x} each input"
   ]
  },
  {
   "cell_type": "markdown",
   "id": "d1060b92-b326-4499-92cd-6125c2527799",
   "metadata": {},
   "source": [
    "# Problem 2\n",
    "Now, the same rules apply as before, except if removing a single level from an unsafe report would make it safe, the report instead counts as safe.\n",
    "\n",
    "Solution: drop 1 item from each report and apply first problem's rules"
   ]
  },
  {
   "cell_type": "code",
   "execution_count": 160,
   "id": "6f8a92eb-0ec6-4fd5-8179-20e04a1f7637",
   "metadata": {},
   "outputs": [
    {
     "data": {
      "text/plain": [
       "7 6 4 2 1\n",
       "6 4 2 1\n",
       "7 4 2 1\n",
       "7 6 2 1\n",
       "7 6 4 1\n",
       "7 6 4 2\n"
      ]
     },
     "execution_count": 160,
     "metadata": {},
     "output_type": "execute_result"
    }
   ],
   "source": [
    "/ drop 1 item sequentially, leave original as well\n",
    "{x _/:-1,til count x} input 0"
   ]
  },
  {
   "cell_type": "code",
   "execution_count": 161,
   "id": "b32c69ed-7366-49e3-a346-82b457948ab6",
   "metadata": {},
   "outputs": [
    {
     "data": {
      "text/plain": [
       "1111b 0000b\n",
       "111b  000b \n",
       "111b  000b \n",
       "101b  000b \n",
       "111b  000b \n",
       "111b  000b \n"
      ]
     },
     "execution_count": 161,
     "metadata": {},
     "output_type": "execute_result"
    }
   ],
   "source": [
    "/ try all combinations\n",
    "{within/:[;(-3 -1;1 3)] 1_deltas x} each {x _/:-1,til count x} input 0"
   ]
  },
  {
   "cell_type": "code",
   "execution_count": 162,
   "id": "b077851b-adb1-4276-8765-dc30bccabe58",
   "metadata": {},
   "outputs": [
    {
     "data": {
      "text/plain": [
       "4i\n"
      ]
     },
     "execution_count": 162,
     "metadata": {},
     "output_type": "execute_result"
    }
   ],
   "source": [
    "/ combine\n",
    "sum {any {any all each within/:[;(-3 -1;1 3)] 1_deltas x} each x _/:-1,til count x} each input"
   ]
  }
 ],
 "metadata": {
  "kernelspec": {
   "display_name": "Q (kdb+)",
   "language": "q",
   "name": "qpk"
  },
  "language_info": {
   "file_extension": ".q",
   "mimetype": "text/x-q",
   "name": "q",
   "version": "4.1.0"
  }
 },
 "nbformat": 4,
 "nbformat_minor": 5
}
