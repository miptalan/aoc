{
 "cells": [
  {
   "cell_type": "code",
   "execution_count": 114,
   "id": "b7d269fa-f88f-488b-907f-439300dcacf8",
   "metadata": {},
   "outputs": [
    {
     "data": {
      "text/plain": [
       "\"MMMSXXMASM\"\n",
       "\"MSAMXMSMSA\"\n",
       "\"AMXSXMAAMM\"\n",
       "\"MSAMASMSMX\"\n",
       "\"XMASAMXAMM\"\n",
       "\"XXAMMXXAMA\"\n",
       "\"SMSMSASXSS\"\n",
       "\"SAXAMASAAA\"\n",
       "\"MAMMMXMMMM\"\n",
       "\"MXMXAXMASX\"\n"
      ]
     },
     "execution_count": 114,
     "metadata": {},
     "output_type": "execute_result"
    }
   ],
   "source": [
    "input:read0`:test.txt\n",
    "input"
   ]
  },
  {
   "cell_type": "markdown",
   "id": "e6c77696-2fdd-4b53-b691-caa8bff8c935",
   "metadata": {},
   "source": [
    "# Problem 1\n",
    "\n",
    "As the search for the Chief continues, a small Elf who lives on the station tugs on your shirt; she'd like to know if you could help her with her word search (your puzzle input). She only has to find one word: XMAS.\n",
    "\n",
    "This word search allows words to be horizontal, vertical, diagonal, written backwards, or even overlapping other words. It's a little unusual, though, as you don't merely need to find one instance of XMAS - you need to find all of them. \n",
    "\n",
    "Solution: find all locations of X, then check 4 coordinates starting from these locations in all 8 directions and count XMAS occurences"
   ]
  },
  {
   "cell_type": "code",
   "execution_count": 115,
   "id": "6292d231-f412-4d5f-9cb7-103184c37ad8",
   "metadata": {},
   "outputs": [
    {
     "data": {
      "text/plain": [
       "4 5\n",
       ",4\n",
       "2 4\n",
       ",9\n",
       "0 6\n",
       "0 1 5 6\n",
       ",7\n",
       ",2\n",
       ",5\n",
       "1 3 5 9\n"
      ]
     },
     "execution_count": 115,
     "metadata": {},
     "output_type": "execute_result"
    }
   ],
   "source": [
    "/ find Xs on each line\n",
    "input ss\\:\"X\""
   ]
  },
  {
   "cell_type": "code",
   "execution_count": 116,
   "id": "89347744-0627-45ec-bd0a-0e7d0f6ed31f",
   "metadata": {},
   "outputs": [
    {
     "data": {
      "text/plain": [
       "0 4\n",
       "0 5\n",
       "1 4\n",
       "2 2\n",
       "2 4\n",
       "3 9\n",
       "4 0\n",
       "4 6\n",
       "5 0\n",
       "5 1\n",
       "5 5\n",
       "5 6\n",
       "6 7\n",
       "7 2\n",
       "8 5\n",
       "9 1\n",
       "9 3\n",
       "9 5\n",
       "9 9\n"
      ]
     },
     "execution_count": 116,
     "metadata": {},
     "output_type": "execute_result"
    }
   ],
   "source": [
    "/ construct coordinates\n",
    "coords:flip raze each {((count each x)#'til count x;x)} input ss\\:\"X\"\n",
    "coords"
   ]
  },
  {
   "cell_type": "code",
   "execution_count": 117,
   "id": "0f424be0-5e6b-4777-954a-062597180db9",
   "metadata": {},
   "outputs": [],
   "source": [
    "/ east-directed XMAS is (x;y)+(0 0;0 1;0 2;0 3), etc.\n",
    "e:(0 0;0 1;0 2;0 3)\n",
    "w:neg e\n",
    "s:(0 0;1 0;2 0;3 0)\n",
    "n:neg s\n",
    "se:flip 1 1*\\:til 4\n",
    "nw:neg se\n",
    "sw:flip 1 -1*\\:til 4\n",
    "ne:neg sw"
   ]
  },
  {
   "cell_type": "code",
   "execution_count": 118,
   "id": "6e9f1a4e-4248-47af-b71e-0ce8ebc7cef7",
   "metadata": {},
   "outputs": [
    {
     "data": {
      "text/plain": [
       "0 0   0 1   0 2   0 3  \n",
       "0 0   0 -1  0 -2  0 -3 \n",
       "0  0  -1 0  -2 0  -3 0 \n",
       "0 0   1 0   2 0   3 0  \n",
       "0 0   1 1   2 2   3 3  \n",
       "0 0   1 -1  2 -2  3 -3 \n",
       "0  0  -1 1  -2 2  -3 3 \n",
       "0  0  -1 -1 -2 -2 -3 -3\n"
      ]
     },
     "execution_count": 118,
     "metadata": {},
     "output_type": "execute_result"
    }
   ],
   "source": [
    "/ all directions\n",
    "(e;w;n;s;se;sw;ne;nw)+\\:\\:0 0"
   ]
  },
  {
   "cell_type": "code",
   "execution_count": 119,
   "id": "a8a04659-1f37-40c5-8198-9edc0bce80cd",
   "metadata": {},
   "outputs": [
    {
     "data": {
      "text/plain": [
       "\"XMAS\"\n"
      ]
     },
     "execution_count": 119,
     "metadata": {},
     "output_type": "execute_result"
    }
   ],
   "source": [
    "/ east example\n",
    "input ./:e+\\:coords 1"
   ]
  },
  {
   "cell_type": "code",
   "execution_count": 120,
   "id": "ffe42177-7d7c-4f05-9fd6-86f2a859f336",
   "metadata": {},
   "outputs": [
    {
     "data": {
      "text/plain": [
       "\"XMAS\" \"XXSM\"\n",
       "\"XMSM\" \"XMAS\"\n"
      ]
     },
     "execution_count": 120,
     "metadata": {},
     "output_type": "execute_result"
    }
   ],
   "source": [
    "/ over multiple directions and starting coordinates - more adverbs, more adverbs!\n",
    "{input ./:/:(e;w)+\\:\\:x} each coords 1 2"
   ]
  },
  {
   "cell_type": "code",
   "execution_count": 121,
   "id": "899fdf99-a1fb-4fcd-bd06-161cdd7a394c",
   "metadata": {},
   "outputs": [
    {
     "data": {
      "text/plain": [
       "18i\n"
      ]
     },
     "execution_count": 121,
     "metadata": {},
     "output_type": "execute_result"
    }
   ],
   "source": [
    "/ solution 1\n",
    "sum \"XMAS\"~/:raze {input ./:/:(e;w;n;s;se;sw;ne;nw)+\\:\\:x} each coords"
   ]
  },
  {
   "cell_type": "markdown",
   "id": "61907f23-d7be-42b8-82bf-99c0ce1e89c3",
   "metadata": {},
   "source": [
    "# Problem 2\n",
    "Looking for the instructions, you flip over the word search to find that this isn't actually an XMAS puzzle; it's an X-MAS puzzle in which you're supposed to find two MAS in the shape of an X.\n",
    "\n",
    "Solution: same, but start with As"
   ]
  },
  {
   "cell_type": "code",
   "execution_count": 122,
   "id": "26d77020-0bf4-474c-bc06-52104af04cdb",
   "metadata": {},
   "outputs": [
    {
     "data": {
      "text/plain": [
       "0 7\n",
       "1 2\n",
       "1 9\n",
       "2 0\n",
       "2 6\n",
       "2 7\n",
       "3 2\n",
       "3 4\n",
       "4 2\n",
       "4 4\n",
       "4 7\n",
       "5 2\n",
       "5 7\n",
       "5 9\n",
       "6 5\n",
       "7 1\n",
       "7 3\n",
       "7 5\n",
       "7 7\n",
       "7 8\n",
       "7 9\n",
       "8 1\n",
       "..\n"
      ]
     },
     "execution_count": 122,
     "metadata": {},
     "output_type": "execute_result"
    }
   ],
   "source": [
    "coords2:flip raze each {((count each x)#'til count x;x)} input ss\\:\"A\"\n",
    "coords2"
   ]
  },
  {
   "cell_type": "code",
   "execution_count": 123,
   "id": "67f26111-e82f-4482-9a93-54e41d8572a9",
   "metadata": {},
   "outputs": [],
   "source": [
    "/ all way to get MMSS\n",
    "/ M   S\n",
    "/   A\n",
    "/ M   S\n",
    "x1:(-1 -1;1 -1;1 1;-1 1)\n",
    "/ M   M\n",
    "/   A\n",
    "/ S   S\n",
    "x2:(-1 -1;-1 1;1 -1;1 1)\n",
    "/ S   M\n",
    "/   A\n",
    "/ S   M\n",
    "x3:(-1 1;1 1;-1 -1;1 -1)\n",
    "/ S   S\n",
    "/   A\n",
    "/ M   M\n",
    "x4:(1 1;1 -1;-1 1;-1 -1)"
   ]
  },
  {
   "cell_type": "code",
   "execution_count": 124,
   "id": "f2fa9761-9ef1-4fba-8f11-0ce111b08bd2",
   "metadata": {},
   "outputs": [
    {
     "data": {
      "text/plain": [
       "9i\n"
      ]
     },
     "execution_count": 124,
     "metadata": {},
     "output_type": "execute_result"
    }
   ],
   "source": [
    "sum \"MMSS\"~/:raze {input ./:/:(x1;x2;x3;x4)+\\:\\:x} each coords2"
   ]
  }
 ],
 "metadata": {
  "kernelspec": {
   "display_name": "Q (kdb+)",
   "language": "q",
   "name": "qpk"
  },
  "language_info": {
   "file_extension": ".q",
   "mimetype": "text/x-q",
   "name": "q",
   "version": "4.1.0"
  }
 },
 "nbformat": 4,
 "nbformat_minor": 5
}
