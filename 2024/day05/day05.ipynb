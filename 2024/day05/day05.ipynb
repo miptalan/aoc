{
 "cells": [
  {
   "cell_type": "code",
   "execution_count": 159,
   "id": "0ae393cb-8f6c-48f8-ad3c-7c2ff174838c",
   "metadata": {},
   "outputs": [
    {
     "data": {
      "text/plain": [
       "\"57|24\"\n",
       "\"64|37\"\n",
       "\"64|45\"\n",
       "\"19|47\"\n",
       "\"19|45\"\n",
       "\"19|95\"\n",
       "\"98|57\"\n",
       "\"98|37\"\n",
       "\"98|34\"\n",
       "\"98|87\"\n",
       "\"96|87\"\n",
       "\"96|74\"\n",
       "\"96|37\"\n",
       "\"96|97\"\n",
       "\"96|58\"\n",
       "\"11|44\"\n",
       "\"11|98\"\n",
       "\"11|94\"\n",
       "\"11|87\"\n",
       "\"11|91\"\n",
       "\"11|55\"\n",
       "\"62|57\"\n",
       "..\n"
      ]
     },
     "execution_count": 159,
     "metadata": {},
     "output_type": "execute_result"
    }
   ],
   "source": [
    "input:read0`:input.txt\n",
    "input"
   ]
  },
  {
   "cell_type": "code",
   "execution_count": 160,
   "id": "5722045b-87d5-4253-86dc-bd65fdaecfcc",
   "metadata": {},
   "outputs": [
    {
     "data": {
      "text/plain": [
       "1176\n"
      ]
     },
     "execution_count": 160,
     "metadata": {},
     "output_type": "execute_result"
    }
   ],
   "source": [
    "/ find empty line - separator\n",
    "input?\"\""
   ]
  },
  {
   "cell_type": "code",
   "execution_count": 161,
   "id": "7b278848-bbae-4b11-bbef-a4d69b741de8",
   "metadata": {},
   "outputs": [
    {
     "data": {
      "text/plain": [
       "(\"57|24\";\"64|37\";\"64|45\";\"19|47\";\"19|45\";\"19|95\";\"98|57\";\"98|37\";\"98|34\";\"98|..\n",
       "(\"62|57\";\"62|67\";\"62|76\";\"62|45\";\"62|92\";\"62|38\";\"62|19\";\"54|38\";\"54|11\";\"54|..\n"
      ]
     },
     "execution_count": 161,
     "metadata": {},
     "output_type": "execute_result"
    }
   ],
   "source": [
    "/ remove it and cut\n",
    "0 21 cut input except enlist\"\""
   ]
  },
  {
   "cell_type": "code",
   "execution_count": 162,
   "id": "b6d45ffa-59fc-4009-857c-8b60f7aaec63",
   "metadata": {},
   "outputs": [
    {
     "data": {
      "text/plain": [
       "1| 0 2\n",
       "2| ,1\n"
      ]
     },
     "execution_count": 162,
     "metadata": {},
     "output_type": "execute_result"
    }
   ],
   "source": [
    "/ construct repeated key dict\n",
    "l:(1 2;2 3;1 4)\n",
    "/ group keys - get indicies of repeated entried\n",
    "group l[;0]"
   ]
  },
  {
   "cell_type": "code",
   "execution_count": 163,
   "id": "206f58a9-ce40-484e-885f-11479bf0ef5d",
   "metadata": {},
   "outputs": [
    {
     "data": {
      "text/plain": [
       "1| 2 4\n",
       "2| ,3\n"
      ]
     },
     "execution_count": 163,
     "metadata": {},
     "output_type": "execute_result"
    }
   ],
   "source": [
    "/ take values by those indicies\n",
    "l[;1] group l[;0]"
   ]
  },
  {
   "cell_type": "code",
   "execution_count": 164,
   "id": "2c554696-73e5-45c2-b23a-4cf44046dd5f",
   "metadata": {},
   "outputs": [
    {
     "data": {
      "text/plain": [
       "57 64 19 98 96 11 62 54 27 13 99 37 58 89 73 12 84 95 22 93 44 81 87 26 63 45..\n",
       "(13 19 52 14 65 96 62 98 58 73 97 92 91 87 44 54 42;26 11 93 84 95 45 63 89 2..\n"
      ]
     },
     "execution_count": 164,
     "metadata": {},
     "output_type": "execute_result"
    }
   ],
   "source": [
    "/ combine\n",
    "read:{\n",
    "    (r;u):(0,x?\"\") cut x except enlist\"\";    \n",
    "    ({x[;1] group x[;0]} \"J\"$\"|\"vs/:r;\"J\"$/:\",\"vs/:u)\n",
    " };\n",
    "(rules;updates):read input\n",
    "(rules;updates)"
   ]
  },
  {
   "cell_type": "markdown",
   "id": "01ee48e0-04fd-416e-a273-0eb3a6ab472d",
   "metadata": {},
   "source": [
    "# Problem 1\n",
    "\n",
    "Determine which updates are already in the correct order. What do you get if you add up the middle page number from those correctly-ordered updates?"
   ]
  },
  {
   "cell_type": "code",
   "execution_count": 165,
   "id": "5d0f125f-42ea-494f-b276-c867ecfe4df5",
   "metadata": {},
   "outputs": [
    {
     "name": "stdout",
     "output_type": "stream",
     "text": [
      "19 52 14 65 96 62 98 58 73 97 92 91 87 44 54 42\n"
     ]
    },
    {
     "data": {
      "text/plain": [
       "47 45 95 93 35 97 26 76 74 68 84 27 11 67 24 37 48 63 38 64 94 92 57 34\n",
       "91 19 92 53 63 64 74 99 22 13 54 57 97 73 87 98 42 58 62 81 96 44 78 37\n",
       "98 22 99 19 96 91 97 58 37 62 81 44 57 78 52 87 42 64 53 13 73 92 54 74\n",
       "73 58 97 87 91 54 62 13 64 78 57 99 98 19 74 42 52 96 14 44 22 81 92 53\n",
       "87 74 37 97 58 62 34 26 19 57 98 54 64 42 99 92 63 95 73 53 91 67 81 27\n",
       "57 67 76 45 92 38 19 95 84 48 97 68 54 93 63 37 74 34 64 11 27 26 35 47\n",
       "57 37 34 87 91 19 64 27 73 58 67 42 62 53 26 97 92 95 63 99 81 84 54 74\n",
       "68 95 48 35 92 37 67 57 19 84 34 45 64 97 74 26 53 76 62 54 27 93 63 99\n",
       "54 87 99 84 37 74 19 97 81 91 57 93 63 95 62 42 92 26 34 27 53 58 67 64\n",
       "24 45 92 74 38 34 64 76 68 47 57 94 67 93 48 89 37 27 11 26 95 84 35 63\n",
       "76 74 38 45 55 89 34 64 84 93 94 57 37 48 95 26 11 27 24 63 68 67 35 47\n",
       "62 37 34 64 26 74 54 63 92 42 68 84 99 57 95 27 19 58 67 48 93 53 35 97\n",
       "63 19 53 58 34 42 74 95 57 27 62 26 68 92 91 67 84 48 97 54 99 93 37 64\n",
       "37 73 42 64 19 54 63 91 81 87 96 58 57 62 74 67 53 34 98 92 97 78 27 99\n",
       "38 11 94 97 34 84 47 45 68 63 95 76 35 48 57 19 67 64 27 93 74 92 37 26\n",
       "19 34 84 63 76 64 57 74 26 62 27 54 53 95 92 48 67 93 97 35 99 68 58 37\n"
      ]
     },
     "execution_count": 165,
     "metadata": {},
     "output_type": "execute_result"
    }
   ],
   "source": [
    "/ check rule - for each number: is any of precedng numbers in order dictionary \n",
    "/ can skip first number\n",
    "rules 0N!1_updates 0"
   ]
  },
  {
   "cell_type": "code",
   "execution_count": 166,
   "id": "65fd9d5e-5411-4113-9015-7ae26cc3d6f6",
   "metadata": {},
   "outputs": [
    {
     "data": {
      "text/plain": [
       ",13\n",
       "13 19\n",
       "13 19 52\n",
       "13 19 52 14\n",
       "13 19 52 14 65\n",
       "13 19 52 14 65 96\n",
       "13 19 52 14 65 96 62\n",
       "13 19 52 14 65 96 62 98\n",
       "13 19 52 14 65 96 62 98 58\n",
       "13 19 52 14 65 96 62 98 58 73\n",
       "13 19 52 14 65 96 62 98 58 73 97\n",
       "13 19 52 14 65 96 62 98 58 73 97 92\n",
       "13 19 52 14 65 96 62 98 58 73 97 92 91\n",
       "13 19 52 14 65 96 62 98 58 73 97 92 91 87\n",
       "13 19 52 14 65 96 62 98 58 73 97 92 91 87 44\n",
       "13 19 52 14 65 96 62 98 58 73 97 92 91 87 44 54\n"
      ]
     },
     "execution_count": 166,
     "metadata": {},
     "output_type": "execute_result"
    }
   ],
   "source": [
    "/ preceding numbers\n",
    "(1_til count updates 0)#\\:updates 0"
   ]
  },
  {
   "cell_type": "code",
   "execution_count": 167,
   "id": "ff3a4586-1ba3-4c7b-8726-b3f14072d06c",
   "metadata": {},
   "outputs": [
    {
     "data": {
      "text/plain": [
       "0b\n"
      ]
     },
     "execution_count": 167,
     "metadata": {},
     "output_type": "execute_result"
    },
    {
     "data": {
      "text/plain": [
       "0b\n"
      ]
     },
     "execution_count": 167,
     "metadata": {},
     "output_type": "execute_result"
    }
   ],
   "source": [
    "/ combine\n",
    "valid:{not any raze in'[rules 1_x;(1_til count x)#\\:x]}\n",
    "valid updates 0\n",
    "valid updates 3"
   ]
  },
  {
   "cell_type": "code",
   "execution_count": 168,
   "id": "43dab323-4a79-4da4-8f50-0a748ad01da3",
   "metadata": {},
   "outputs": [
    {
     "data": {
      "text/plain": [
       "26 95 84 93 68 48 35 76 47 38 11 94 24 89 55 12 75 69 65 14 52 13 22\n",
       "95 38 94 89 69 13 44\n",
       "76 47 38 11 94 24 89 55 12 75 69 65 14 13 22 78 96 98 73 81 87\n",
       "19 97 92 64 57 74 37 63 67 27 26 95 84 93 68 48 45 38 11\n",
       "87 91 58 53 99 62 19 97 64 74 37 63 34 67 95 93 68\n",
       "53 99 62 54 97 92 64 37 63 34 67 27 26 95 84 93 68 48 35 76 45\n",
       "94 24 89 55 75 69 14 52 44 73 81 91 58 53 99\n",
       "76 45 47 38 94 24 89 55 12 75 69 65 14 52 13 22 44 78 96 73 87\n",
       "89 55 12 69 65 14 52 13 22 78 96 98 73 87 91 42 58 53 99 62 54\n",
       "57 74 37 63 34 67 27 84 68 48 35 76 45 38 24 55 12\n",
       "97 64 57 67 45 47 24\n",
       "63 27 26 95 93 68 35 76 45 47 38 11 94 89 65\n",
       "93 68 48 45 38\n",
       "75 69 13 22 96 73 87 62 92\n",
       "54 92 74 34 27 84 68 35 11\n",
       "91 42 58 62 54 97 92 57 74 63 34 95 84 93 48\n",
       "63 67 84 35 76 47 89 55 65\n",
       "97 57 37 67 27 84 68 35 76 38 24\n",
       "24 89 75 69 65 14 52 13 22 98 87 91 42 58 62\n",
       "57 37 34 67 84 93 48 24 89 55 12\n",
       "69 52 13 58 53 54 92\n",
       "13 22 78 96 98 73 81 87 42 58 53 99 62 54 19 97 92 64 57 37 63\n",
       "..\n"
      ]
     },
     "execution_count": 168,
     "metadata": {},
     "output_type": "execute_result"
    }
   ],
   "source": [
    "/ find valid rules\n",
    "updates where valid each updates"
   ]
  },
  {
   "cell_type": "code",
   "execution_count": 169,
   "id": "72bd7273-ac9c-40a6-842c-0387b42a32e3",
   "metadata": {},
   "outputs": [
    {
     "data": {
      "text/plain": [
       "6505\n"
      ]
     },
     "execution_count": 169,
     "metadata": {},
     "output_type": "execute_result"
    }
   ],
   "source": [
    "/ result for 1\n",
    "sum {x count[x] div 2} each updates where valid each updates"
   ]
  },
  {
   "cell_type": "markdown",
   "id": "090a0a6e-ccd0-4667-bcd3-77a9f5b8fbdd",
   "metadata": {},
   "source": [
    "# Problem 2\n",
    "Find the updates which are not in the correct order. What do you get if you add up the middle page numbers after correctly ordering just those updates?"
   ]
  },
  {
   "cell_type": "code",
   "execution_count": 170,
   "id": "45a1d7bc-a175-4b41-bd04-0bb482357aac",
   "metadata": {},
   "outputs": [
    {
     "name": "stdout",
     "output_type": "stream",
     "text": [
      ",74\n",
      "62 37 34 64 26 74 54 63 92 42 68 84 99 57 95 27 19 58 67 48 93 53 35 97\n",
      ",5\n",
      "74 91\n",
      "19 34 84 63 76 64 57 74 26 62 27 54 53 95 92 48 67 93 97 35 99 68 58 37\n",
      "7 24\n",
      "74 91 42\n",
      "57 67 76 45 92 38 19 95 84 48 97 68 54 93 63 37 74 34 64 11 27 26 35 47\n",
      "16 24 24\n",
      "74 91 42 62\n",
      "63 19 53 58 34 42 74 95 57 27 62 26 68 92 91 67 84 48 97 54 99 93 37 64\n",
      "6 14 5 10\n"
     ]
    },
    {
     "data": {
      "text/plain": [
       "74 91 42 62 87 27 53 98 81 92 97 99 54 63 57 67 96 26 34\n"
      ]
     },
     "execution_count": 170,
     "metadata": {},
     "output_type": "execute_result"
    }
   ],
   "source": [
    "{[u;i] 0N!(0N!rules[u i])?0N!i#u;u}/[updates 3;1_til 5]"
   ]
  },
  {
   "cell_type": "code",
   "execution_count": 171,
   "id": "41c55c51-a869-4cc1-b911-8957b2c3a315",
   "metadata": {},
   "outputs": [
    {
     "data": {
      "text/plain": [
       "91 74 42 62 87 27 53 98 81 92 97 99 54 63 57 67 96 26 34\n",
       "91 42 74 62 87 27 53 98 81 92 97 99 54 63 57 67 96 26 34\n",
       "91 42 62 74 87 27 53 98 81 92 97 99 54 63 57 67 96 26 34\n",
       "62 87 74 42 91 27 53 98 81 92 97 99 54 63 57 67 96 26 34\n",
       "62 87 74 42 91 27 53 98 81 92 97 99 54 63 57 67 96 26 34\n",
       "27 87 62 42 91 53 74 98 81 92 97 99 54 63 57 67 96 26 34\n",
       "91 98 42 27 87 62 53 74 81 92 97 99 54 63 57 67 96 26 34\n",
       "27 98 87 62 81 42 91 53 74 92 97 99 54 63 57 67 96 26 34\n",
       "74 98 87 62 81 42 91 53 92 27 97 99 54 63 57 67 96 26 34\n",
       "92 98 87 62 81 42 91 53 97 74 27 99 54 63 57 67 96 26 34\n",
       "27 98 87 74 81 42 91 53 92 97 99 62 54 63 57 67 96 26 34\n",
       "97 98 87 27 81 42 91 53 74 54 99 62 92 63 57 67 96 26 34\n",
       "97 98 87 63 81 42 91 53 74 54 99 62 92 27 57 67 96 26 34\n",
       "97 98 87 27 81 42 91 53 57 54 99 62 92 74 63 67 96 26 34\n",
       "97 98 87 67 81 42 91 53 57 54 99 62 92 74 63 27 96 26 34\n",
       "74 57 96 91 67 54 53 63 62 98 42 97 99 87 92 81 27 26 34\n",
       "74 57 96 91 67 54 53 63 62 98 42 97 99 87 92 81 27 26 34\n",
       "74 57 96 91 27 54 53 63 62 98 42 97 99 87 92 81 34 67 26\n"
      ]
     },
     "execution_count": 171,
     "metadata": {},
     "output_type": "execute_result"
    }
   ],
   "source": [
    "{[u;i] \n",
    "    / strictly after elements\n",
    "    sa:rules u i;\n",
    "    / indicies of them in preceding part\n",
    "    idx:?[i#u;sa] except i;\n",
    "    / swap inplace\n",
    "    @[u;idx,i;:;u i,idx]\n",
    " }\\[updates 3;1_til count updates 3]"
   ]
  },
  {
   "cell_type": "code",
   "execution_count": 172,
   "id": "77282930-bf5c-4a92-a20a-d579fb4df065",
   "metadata": {},
   "outputs": [
    {
     "data": {
      "text/plain": [
       "96 98 81 87 91 42 53 99 62 54 97 92 57 74 63 34 67 27 26\n"
      ]
     },
     "execution_count": 172,
     "metadata": {},
     "output_type": "execute_result"
    },
    {
     "data": {
      "text/plain": [
       "45 47 94 89 55 75 69 65 14 44 78 98 81 87 91\n"
      ]
     },
     "execution_count": 172,
     "metadata": {},
     "output_type": "execute_result"
    },
    {
     "data": {
      "text/plain": [
       "26 95 84 93 68 48 35 76 47 38 11 94 24 89 55 12 75 69 65 14 52 13 22\n"
      ]
     },
     "execution_count": 172,
     "metadata": {},
     "output_type": "execute_result"
    }
   ],
   "source": [
    "/ combine and add converge adverb so we run sorting untill there are no more changes\n",
    "reorder:{{{@[x;idx,y;:;x y,idx:?[y#x;rules x y] except y]}/[x;1_til count x]}/[x]}\n",
    "reorder updates 3\n",
    "reorder updates 4\n",
    "reorder updates 5"
   ]
  },
  {
   "cell_type": "code",
   "execution_count": 173,
   "id": "8ab02a12-464f-4e19-92dc-41e58e1c5d98",
   "metadata": {},
   "outputs": [
    {
     "data": {
      "text/plain": [
       "6897\n"
      ]
     },
     "execution_count": 173,
     "metadata": {},
     "output_type": "execute_result"
    }
   ],
   "source": [
    "/ result\n",
    "sum {x count[x] div 2} each reorder each updates where not valid each updates"
   ]
  }
 ],
 "metadata": {
  "kernelspec": {
   "display_name": "Q (kdb+)",
   "language": "q",
   "name": "qpk"
  },
  "language_info": {
   "file_extension": ".q",
   "mimetype": "text/x-q",
   "name": "q",
   "version": "4.1.0"
  }
 },
 "nbformat": 4,
 "nbformat_minor": 5
}
