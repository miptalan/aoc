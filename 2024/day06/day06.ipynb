{
 "cells": [
  {
   "cell_type": "code",
   "execution_count": 175,
   "id": "6a4d097f-1865-4f4c-b227-fe69367d6387",
   "metadata": {},
   "outputs": [
    {
     "data": {
      "text/plain": [
       "\".#^\"\n"
      ]
     },
     "execution_count": 175,
     "metadata": {},
     "output_type": "execute_result"
    },
    {
     "data": {
      "text/plain": [
       "\"....#.....\"\n",
       "\".........#\"\n",
       "\"..........\"\n",
       "\"..#.......\"\n",
       "\".......#..\"\n",
       "\"..........\"\n",
       "\".#..^.....\"\n",
       "\"........#.\"\n",
       "\"#.........\"\n",
       "\"......#...\"\n"
      ]
     },
     "execution_count": 175,
     "metadata": {},
     "output_type": "execute_result"
    }
   ],
   "source": [
    "\\c 205 205\n",
    "input:read0`:test.txt\n",
    "distinct raze input\n",
    "input"
   ]
  },
  {
   "cell_type": "code",
   "execution_count": 176,
   "id": "ad03de05-dce8-48a2-987c-6f619cd384e9",
   "metadata": {},
   "outputs": [
    {
     "data": {
      "text/plain": [
       "\" ....#..... \"\n",
       "\" .........# \"\n",
       "\" .......... \"\n",
       "\" ..#....... \"\n",
       "\" .......#.. \"\n",
       "\" .......... \"\n",
       "\" .#..^..... \"\n",
       "\" ........#. \"\n",
       "\" #......... \"\n",
       "\" ......#... \"\n"
      ]
     },
     "execution_count": 176,
     "metadata": {},
     "output_type": "execute_result"
    }
   ],
   "source": [
    "/ use space as boundary - easy to detect stepping out of bounds\n",
    "\" \",/:input,\\:\" \""
   ]
  },
  {
   "cell_type": "code",
   "execution_count": 177,
   "id": "5ecc1fbe-2c13-4047-b07a-ebd9085f23b8",
   "metadata": {},
   "outputs": [
    {
     "data": {
      "text/plain": [
       "\"            \"\n",
       "\" ....#..... \"\n",
       "\" .........# \"\n",
       "\" .......... \"\n",
       "\" ..#....... \"\n",
       "\" .......#.. \"\n",
       "\" .......... \"\n",
       "\" .#..^..... \"\n",
       "\" ........#. \"\n",
       "\" #......... \"\n",
       "\" ......#... \"\n",
       "\"            \"\n"
      ]
     },
     "execution_count": 177,
     "metadata": {},
     "output_type": "execute_result"
    }
   ],
   "source": [
    "/ add header and footer\n",
    "line,(\" \",/:input,\\:\" \"),line:enlist (2+count input 0)#\" \""
   ]
  },
  {
   "cell_type": "markdown",
   "id": "bf78bfff-f4d7-4327-89c3-53bd2c8a2b46",
   "metadata": {},
   "source": [
    "# Problem 1\n",
    "Predict the path of the guard. How many distinct positions will the guard visit before leaving the mapped area?\n",
    "\n",
    "Solution: create 1d input controlling for boundaries - much faster than jumping over 2d, use \"while\" form of iterator"
   ]
  },
  {
   "cell_type": "code",
   "execution_count": 180,
   "id": "4c6cc327-38d7-4ef1-b527-3357441d4bba",
   "metadata": {},
   "outputs": [
    {
     "data": {
      "text/plain": [
       "89\n",
       "\"^\"\n"
      ]
     },
     "execution_count": 180,
     "metadata": {},
     "output_type": "execute_result"
    }
   ],
   "source": [
    "/ combine and create 1d input\n",
    "N:2+count input 0\n",
    "input1d:raze line,(\" \",/:input,\\:\" \"),line:enlist N#\" \"\n",
    "dir:\"^>v<\"!(neg N;1;N;-1) / step arithmetic\n",
    "ndir:\"^>v<\"!\">v<^\" / turn rules\n",
    "start:input1d?direction:first key[dir] where key[dir] in input1d / find start\n",
    "(start;direction)"
   ]
  },
  {
   "cell_type": "code",
   "execution_count": 190,
   "id": "5dbb559b-8ff9-4b7a-9bf4-5d25819bfe8d",
   "metadata": {},
   "outputs": [
    {
     "data": {
      "text/plain": [
       "140\n",
       "\"v\"\n"
      ]
     },
     "execution_count": 190,
     "metadata": {},
     "output_type": "execute_result"
    },
    {
     "data": {
      "text/plain": [
       "41i\n"
      ]
     },
     "execution_count": 190,
     "metadata": {},
     "output_type": "execute_result"
    }
   ],
   "source": [
    "/ 2d boolean array is much faster than mixed type key dict\n",
    "visited:4#enlist count[input1d]#0b\n",
    "vd:\"^>v<\"!til 4\n",
    "\n",
    "continueFn:{[(i;d)] not[visited[vd d;i]]&\" \"<>input1d i}; / while condition\n",
    "\n",
    "f1:{[inp;(i;d)]\n",
    "    visited[vd d;i]:1b; / mark current visited \n",
    "    :$[not \"#\"=inp ni:i+dir d;(ni;d);(i;ndir d)]; / not obstacle - continue, otherwise - turn\n",
    " };\n",
    "\n",
    "f1[input1d]/[continueFn;(start;direction)]\n",
    "sum max visited"
   ]
  },
  {
   "cell_type": "markdown",
   "id": "5d085872-42ea-4c38-8af3-5839ab87f3d7",
   "metadata": {},
   "source": [
    "# Problem 2\n",
    "You need to get the guard stuck in a loop by adding a single new obstruction. How many different positions could you choose for this obstruction?\n",
    "\n",
    "Solution: put obstacles on original path, check which final steps were not \"out of bounds\""
   ]
  },
  {
   "cell_type": "code",
   "execution_count": 191,
   "id": "4ae9445a-c997-4c61-833a-c9d0e82b13df",
   "metadata": {},
   "outputs": [
    {
     "data": {
      "text/plain": [
       "6\n"
      ]
     },
     "execution_count": 191,
     "metadata": {},
     "output_type": "execute_result"
    }
   ],
   "source": [
    "/ only try steps on original path\n",
    "candidates:(where max visited) except start\n",
    "res:{\n",
    "    visited::4#enlist count[input1d]#0b;\n",
    "    f1[@[input1d;x;:;\"#\"]]/[continueFn;(start;\"^\")]\n",
    " } each candidates\n",
    "\n",
    "count distinct candidates where \" \"<>input1d res[;0]"
   ]
  }
 ],
 "metadata": {
  "kernelspec": {
   "display_name": "Q (kdb+)",
   "language": "q",
   "name": "qpk"
  },
  "language_info": {
   "file_extension": ".q",
   "mimetype": "text/x-q",
   "name": "q",
   "version": "4.1.0"
  }
 },
 "nbformat": 4,
 "nbformat_minor": 5
}
