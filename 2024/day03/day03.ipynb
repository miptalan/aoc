{
 "cells": [
  {
   "cell_type": "code",
   "execution_count": 55,
   "id": "96227260-b990-4c78-a336-c9058f33a8af",
   "metadata": {},
   "outputs": [
    {
     "data": {
      "text/plain": [
       "\"xmul(2,4)%&mul[3,7]!@^do_not_mul(5,5)+mul(32,64]then(mul(11,8)mul(8,5))\"\n"
      ]
     },
     "execution_count": 55,
     "metadata": {},
     "output_type": "execute_result"
    }
   ],
   "source": [
    "input:raze read0`:test.txt\n",
    "input"
   ]
  },
  {
   "cell_type": "code",
   "execution_count": 56,
   "id": "1554db5b-9457-4956-b487-c3c1887974b6",
   "metadata": {},
   "outputs": [
    {
     "data": {
      "text/plain": [
       ",\"x\"\n",
       "\"2,4)%&mul[3,7]!@^do_not_\"\n",
       "\"5,5)+\"\n",
       "\"32,64]then(\"\n",
       "\"11,8)\"\n",
       "\"8,5))\"\n"
      ]
     },
     "execution_count": 56,
     "metadata": {},
     "output_type": "execute_result"
    }
   ],
   "source": [
    "\"mul(\" vs input"
   ]
  },
  {
   "cell_type": "code",
   "execution_count": 57,
   "id": "c3a914f9-f059-4987-846a-4a55db6038ef",
   "metadata": {},
   "outputs": [
    {
     "data": {
      "text/plain": [
       ",\"x\"\n",
       "\"2,4\"\n",
       "\"%&mul[3,7]!@^do_not_\"\n",
       "\"5,5\"\n",
       ",\"+\"\n",
       "\"32,64]then(\"\n",
       "\"11,8\"\n",
       "\"\"\n",
       "\"8,5\"\n",
       "\"\"\n",
       "\"\"\n"
      ]
     },
     "execution_count": 57,
     "metadata": {},
     "output_type": "execute_result"
    }
   ],
   "source": [
    "split:raze \")\" vs/:\"mul(\" vs input\n",
    "split"
   ]
  },
  {
   "cell_type": "code",
   "execution_count": 58,
   "id": "5d0988ba-155d-4025-9ffd-5f50e28a0e50",
   "metadata": {},
   "outputs": [
    {
     "data": {
      "text/plain": [
       "\"2,4\"\n",
       "\"5,5\"\n",
       "\"11,8\"\n",
       "\"8,5\"\n"
      ]
     },
     "execution_count": 58,
     "metadata": {},
     "output_type": "execute_result"
    }
   ],
   "source": [
    "byLen:split where within[;3 7] count each split\n",
    "byLen"
   ]
  },
  {
   "cell_type": "code",
   "execution_count": 59,
   "id": "bc663db7-0b47-4d1b-980a-8ec718ece1d0",
   "metadata": {},
   "outputs": [
    {
     "data": {
      "text/plain": [
       "2  4\n",
       "5  5\n",
       "11 8\n",
       "8  5\n"
      ]
     },
     "execution_count": 59,
     "metadata": {},
     "output_type": "execute_result"
    }
   ],
   "source": [
    "lists:byLen where {all x in .Q.n,\",\"} each byLen\n",
    "lists:('[eval;parse]'[lists])\n",
    "lists"
   ]
  },
  {
   "cell_type": "code",
   "execution_count": 60,
   "id": "1833a7a3-bf89-47f2-a522-f92f6d06dec6",
   "metadata": {},
   "outputs": [
    {
     "data": {
      "text/plain": [
       "2  4\n",
       "5  5\n",
       "11 8\n",
       "8  5\n"
      ]
     },
     "execution_count": 60,
     "metadata": {},
     "output_type": "execute_result"
    }
   ],
   "source": [
    "intLists:lists where 7=type each lists\n",
    "intLists"
   ]
  },
  {
   "cell_type": "code",
   "execution_count": 61,
   "id": "cfaeae97-8a60-49ce-ae1c-c6654b211e54",
   "metadata": {},
   "outputs": [
    {
     "data": {
      "text/plain": [
       "161\n"
      ]
     },
     "execution_count": 61,
     "metadata": {},
     "output_type": "execute_result"
    }
   ],
   "source": [
    "sum prd each intLists where ('[all;1000>]'[intLists])"
   ]
  },
  {
   "cell_type": "code",
   "execution_count": null,
   "id": "7e187645-1d3f-4125-a1d0-623e0e4b339c",
   "metadata": {},
   "outputs": [],
   "source": []
  }
 ],
 "metadata": {
  "kernelspec": {
   "display_name": "Q (kdb+)",
   "language": "q",
   "name": "qpk"
  },
  "language_info": {
   "file_extension": ".q",
   "mimetype": "text/x-q",
   "name": "q",
   "version": "4.1.0"
  }
 },
 "nbformat": 4,
 "nbformat_minor": 5
}
