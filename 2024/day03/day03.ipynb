{
 "cells": [
  {
   "cell_type": "markdown",
   "id": "cf40079a-175b-4986-89e0-ffe018ff5f33",
   "metadata": {},
   "source": [
    "# Problem 1\n",
    "\n",
    "It seems like the goal of the program is just to multiply some numbers. It does that with instructions like mul(X,Y), where X and Y are each 1-3 digit numbers. For instance, mul(44,46) multiplies 44 by 46 to get a result of 2024. Similarly, mul(123,4) would multiply 123 by 4.\n",
    "\n",
    "However, because the program's memory has been corrupted, there are also many invalid characters that should be ignored, even if they look like part of a mul instruction. Sequences like mul(4*, mul(6,9!, ?(12,34), or mul ( 2 , 4 ) do nothing.\n",
    "\n",
    "Scan the corrupted memory for uncorrupted mul instructions. What do you get if you add up all of the results of the multiplications?"
   ]
  },
  {
   "cell_type": "code",
   "execution_count": 118,
   "id": "96227260-b990-4c78-a336-c9058f33a8af",
   "metadata": {},
   "outputs": [
    {
     "data": {
      "text/plain": [
       "\"xmul(2,4)%&mul[3,7]!@^do_not_mul(5,5)+mul(32,64]then(mul(11,8)mul(8,5))\"\n"
      ]
     },
     "execution_count": 118,
     "metadata": {},
     "output_type": "execute_result"
    }
   ],
   "source": [
    "input:raze read0`:test.txt\n",
    "input"
   ]
  },
  {
   "cell_type": "code",
   "execution_count": 119,
   "id": "1554db5b-9457-4956-b487-c3c1887974b6",
   "metadata": {},
   "outputs": [
    {
     "data": {
      "text/plain": [
       ",\"x\"\n",
       "\"2,4)%&mul[3,7]!@^do_not_\"\n",
       "\"5,5)+\"\n",
       "\"32,64]then(\"\n",
       "\"11,8)\"\n",
       "\"8,5))\"\n"
      ]
     },
     "execution_count": 119,
     "metadata": {},
     "output_type": "execute_result"
    }
   ],
   "source": [
    "\"mul(\" vs input"
   ]
  },
  {
   "cell_type": "code",
   "execution_count": 120,
   "id": "c3a914f9-f059-4987-846a-4a55db6038ef",
   "metadata": {},
   "outputs": [
    {
     "data": {
      "text/plain": [
       ",\"x\"\n",
       "\"2,4\"\n",
       "\"%&mul[3,7]!@^do_not_\"\n",
       "\"5,5\"\n",
       ",\"+\"\n",
       "\"32,64]then(\"\n",
       "\"11,8\"\n",
       "\"\"\n",
       "\"8,5\"\n",
       "\"\"\n",
       "\"\"\n"
      ]
     },
     "execution_count": 120,
     "metadata": {},
     "output_type": "execute_result"
    }
   ],
   "source": [
    "/ split by mul(, then split each of resulting substrings by ), then flatten result\n",
    "split:raze \")\" vs/:\"mul(\" vs input\n",
    "split"
   ]
  },
  {
   "cell_type": "code",
   "execution_count": 121,
   "id": "bc663db7-0b47-4d1b-980a-8ec718ece1d0",
   "metadata": {},
   "outputs": [
    {
     "data": {
      "text/plain": [
       "\"2,4\"\n",
       "\"5,5\"\n",
       "\"11,8\"\n",
       "\"8,5\"\n"
      ]
     },
     "execution_count": 121,
     "metadata": {},
     "output_type": "execute_result"
    }
   ],
   "source": [
    "/ leave only non-empty numeric (and comma) strings\n",
    "lists:split where {(0<count x)&all x in .Q.n,\",\"} each split\n",
    "lists"
   ]
  },
  {
   "cell_type": "code",
   "execution_count": 122,
   "id": "1833a7a3-bf89-47f2-a522-f92f6d06dec6",
   "metadata": {},
   "outputs": [
    {
     "data": {
      "text/plain": [
       "2  4\n",
       "5  5\n",
       "11 8\n",
       "8  5\n"
      ]
     },
     "execution_count": 122,
     "metadata": {},
     "output_type": "execute_result"
    }
   ],
   "source": [
    "/ compose parsing string to parse tree and then eval, filter only integer lists\n",
    "intLists:intLists where 7h=type each intLists:('[eval;parse]'[lists])\n",
    "intLists"
   ]
  },
  {
   "cell_type": "code",
   "execution_count": 123,
   "id": "cfaeae97-8a60-49ce-ae1c-c6654b211e54",
   "metadata": {},
   "outputs": [
    {
     "data": {
      "text/plain": [
       "2  4\n",
       "5  5\n",
       "11 8\n",
       "8  5\n"
      ]
     },
     "execution_count": 123,
     "metadata": {},
     "output_type": "execute_result"
    }
   ],
   "source": [
    "/ compose checking that both numbers in each list are 1-3 digit\n",
    "intLists:intLists where ('[all;1000>]'[intLists])\n",
    "intLists"
   ]
  },
  {
   "cell_type": "code",
   "execution_count": 124,
   "id": "7e187645-1d3f-4125-a1d0-623e0e4b339c",
   "metadata": {},
   "outputs": [
    {
     "data": {
      "text/plain": [
       "161\n"
      ]
     },
     "execution_count": 124,
     "metadata": {},
     "output_type": "execute_result"
    }
   ],
   "source": [
    "/ result\n",
    "sum prd each intLists"
   ]
  },
  {
   "cell_type": "code",
   "execution_count": 125,
   "id": "390f1fc3-3155-4766-a4e6-31e6bd86fb9b",
   "metadata": {},
   "outputs": [
    {
     "data": {
      "text/plain": [
       "161\n"
      ]
     },
     "execution_count": 125,
     "metadata": {},
     "output_type": "execute_result"
    }
   ],
   "source": [
    "f1:{[input]\n",
    "    split:raze \")\" vs/:\"mul(\" vs input;\n",
    "    lists:split where {(0<count x)&all x in .Q.n,\",\"} each split;\n",
    "    intLists:intLists where 7h=type each intLists:('[eval;parse]'[lists]);\n",
    "    intLists:intLists where ('[all;1000>]'[intLists]);\n",
    "    sum prd each intLists\n",
    " }\n",
    "\n",
    "f1 input"
   ]
  },
  {
   "cell_type": "markdown",
   "id": "5594f151-2b2b-4165-9107-99645016e7ba",
   "metadata": {},
   "source": [
    "# Problem 2\n",
    "\n",
    "here are two new instructions you'll need to handle:\n",
    "\n",
    "The do() instruction enables future mul instructions.\n",
    "The don't() instruction disables future mul instructions.\n",
    "Only the most recent do() or don't() instruction applies. At the beginning of the program, mul instructions are enabled.\n",
    "\n",
    "Solution: find do's and don'ts starts, split and leave only do's, then apply solution 1"
   ]
  },
  {
   "cell_type": "code",
   "execution_count": 129,
   "id": "0fb954a8-207a-40ac-80ae-d5daa0d33632",
   "metadata": {},
   "outputs": [
    {
     "data": {
      "text/plain": [
       ",59\n"
      ]
     },
     "execution_count": 129,
     "metadata": {},
     "output_type": "execute_result"
    }
   ],
   "source": [
    "/ string search - index of do()\n",
    "input:\"xmul(2,4)&mul[3,7]!^don't()_mul(5,5)+mul(32,64](mul(11,8)undo()?mul(8,5))\"\n",
    "input ss \"do()\""
   ]
  },
  {
   "cell_type": "code",
   "execution_count": 130,
   "id": "b95e89df-ff98-41f1-b22d-9359a9aa8c1e",
   "metadata": {},
   "outputs": [
    {
     "data": {
      "text/plain": [
       "\"xmul(2,4)&mul[3,7]!^\"\n",
       "\"don't()_mul(5,5)+mul(32,64](mul(11,8)un\"\n",
       "\"do()?mul(8,5))\"\n"
      ]
     },
     "execution_count": 130,
     "metadata": {},
     "output_type": "execute_result"
    }
   ],
   "source": [
    "/ search both do's and don't and cut initial string in those places\n",
    "split:asc[0,raze ss[input]@'(\"do()\";\"don't()\")] cut input\n",
    "split"
   ]
  },
  {
   "cell_type": "code",
   "execution_count": 131,
   "id": "45fbd747-8eb3-4c62-b25a-e5c86fd393ed",
   "metadata": {},
   "outputs": [
    {
     "data": {
      "text/plain": [
       "48\n"
      ]
     },
     "execution_count": 131,
     "metadata": {},
     "output_type": "execute_result"
    }
   ],
   "source": [
    "/ only leave not-don'ts and apply solution 1\n",
    "f1 raze split where not split like \"don't()*\""
   ]
  }
 ],
 "metadata": {
  "kernelspec": {
   "display_name": "Q (kdb+)",
   "language": "q",
   "name": "qpk"
  },
  "language_info": {
   "file_extension": ".q",
   "mimetype": "text/x-q",
   "name": "q",
   "version": "4.1.0"
  }
 },
 "nbformat": 4,
 "nbformat_minor": 5
}
